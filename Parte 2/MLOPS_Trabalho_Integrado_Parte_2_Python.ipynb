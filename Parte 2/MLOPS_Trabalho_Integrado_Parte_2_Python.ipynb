{
  "nbformat": 4,
  "nbformat_minor": 0,
  "metadata": {
    "colab": {
      "provenance": []
    },
    "kernelspec": {
      "name": "python3",
      "display_name": "Python 3"
    },
    "language_info": {
      "name": "python"
    }
  },
  "cells": [
    {
      "cell_type": "markdown",
      "source": [
        "# Parte 2 – Clusterização e Classificação (2,5)"
      ],
      "metadata": {
        "id": "DC-Oz42UA0QP"
      }
    },
    {
      "cell_type": "markdown",
      "source": [
        " Implementar em contêiner na plataforma o modelo de Clusterização e Classificação desenvolvido na disciplina de Machine Learning.\n",
        "\n",
        " 1. Criar Clusters de clientes que pedem empréstimo, de acordo com o visto na disciplina de Machine Learning (0,25)\n",
        "\n",
        "  dica: não utilize a coluna target no processo\n",
        "\n",
        " 2. Analisar cada cluster atribuindo a ele uma label de “persona”, de acordo com as características identificadas nos centróides (caso use k-means) ou majoritariamente nos grupos (0,25)\n",
        "\n",
        " 3. Identificar a propensão à fraude média de cada grupo (0,25)\n",
        "\n",
        " 4. Criar API que retorne i) o grupo a que o cliente pertence; ii) o label de persona; iii) a propensão à fraude média do grupo (0,75)\n",
        "\n",
        " 5. Encapsular o modelo em um contêiner (1,00).– O Contêiner deve apenas receber os parâmetros de entrada e retornar a propensão da inadimplência"
      ],
      "metadata": {
        "id": "63dnQEjyA6-D"
      }
    },
    {
      "cell_type": "markdown",
      "source": [
        "![image.png](data:image/png;base64,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)"
      ],
      "metadata": {
        "id": "g6B9xTnzA9kC"
      }
    },
    {
      "cell_type": "markdown",
      "source": [
        "Nota: A API só precisa retornar os dados descritos no requisito 4. A criação de um modelo \"fake\" que retorna aleatoriamente a saída desejada desabona apenas o 0,75 ponto dos requisitos 1, 2 e 3."
      ],
      "metadata": {
        "id": "hB6FedRSDL6O"
      }
    },
    {
      "cell_type": "markdown",
      "source": [
        "## 1- Criar Clusters de clientes que pedem empréstimo"
      ],
      "metadata": {
        "id": "d3rywnsPDSOh"
      }
    },
    {
      "cell_type": "markdown",
      "source": [
        "### Bibliotecas"
      ],
      "metadata": {
        "id": "Co2-uOM_DV-j"
      }
    },
    {
      "cell_type": "code",
      "execution_count": null,
      "metadata": {
        "id": "e3rkw57FTUzj"
      },
      "outputs": [],
      "source": [
        "import pandas as pd\n",
        "import numpy as np\n",
        "from google.cloud import bigquery\n",
        "from google.colab import auth\n",
        "\n",
        "from sklearn.preprocessing import StandardScaler\n",
        "from sklearn.cluster import KMeans\n",
        "from sklearn.decomposition import PCA\n",
        "\n",
        "import matplotlib.pyplot as plt\n",
        "import seaborn as sns"
      ]
    },
    {
      "cell_type": "markdown",
      "source": [
        "### Conexão com o Big Query"
      ],
      "metadata": {
        "id": "BvzDg2zhDehw"
      }
    },
    {
      "cell_type": "code",
      "source": [
        "auth.authenticate_user()"
      ],
      "metadata": {
        "id": "S-LeE5O6TaYg"
      },
      "execution_count": null,
      "outputs": []
    },
    {
      "cell_type": "code",
      "source": [
        "# Aqui devo fazer a conexão em meu próprio projeto (utilizei o rm347975)\n",
        "project_id = input(\"Por favor, informe o project_id: \")"
      ],
      "metadata": {
        "colab": {
          "base_uri": "https://localhost:8080/"
        },
        "id": "7WkcBE7nTbzK",
        "outputId": "c40b5b9b-df04-4c64-b052-c66cc6d8932c"
      },
      "execution_count": null,
      "outputs": [
        {
          "name": "stdout",
          "output_type": "stream",
          "text": [
            "Por favor, informe o project_id: rm347975\n"
          ]
        }
      ]
    },
    {
      "cell_type": "code",
      "source": [
        "clientbq = bigquery.Client(project=project_id)\n",
        "\n",
        "query_sql = f\"\"\"\n",
        "  SELECT *\n",
        "  FROM `emf-teacher.trabalho_loans.loan_default`\n",
        "\"\"\"\n",
        "\n",
        "query_job = clientbq.query(query_sql)  # Make an API request.\n",
        "loans_data = query_job.to_dataframe()"
      ],
      "metadata": {
        "id": "Be2mX8_vTdMy"
      },
      "execution_count": null,
      "outputs": []
    },
    {
      "cell_type": "code",
      "source": [
        "loans_data.describe()"
      ],
      "metadata": {
        "colab": {
          "base_uri": "https://localhost:8080/",
          "height": 300
        },
        "id": "pH1kXOQxTe-U",
        "outputId": "f3b17648-37c9-479d-d271-0b1bc8263553"
      },
      "execution_count": null,
      "outputs": [
        {
          "output_type": "execute_result",
          "data": {
            "text/plain": [
              "                 ID      year    loan_amount  rate_of_interest  \\\n",
              "count      148670.0  148670.0       148670.0     112231.000000   \n",
              "mean        99224.5    2019.0  331117.743997          4.045476   \n",
              "std    42917.476598       0.0  183909.310127          0.561391   \n",
              "min         24890.0    2019.0        16500.0          0.000000   \n",
              "25%        62057.25    2019.0       196500.0          3.625000   \n",
              "50%         99224.5    2019.0       296500.0          3.990000   \n",
              "75%       136391.75    2019.0       436500.0          4.375000   \n",
              "max        173559.0    2019.0      3576500.0          8.000000   \n",
              "\n",
              "       Interest_rate_spread  Upfront_charges           term  property_value  \\\n",
              "count         112031.000000    109028.000000  148629.000000    1.335720e+05   \n",
              "mean               0.441656      3224.996127     335.136582    4.978935e+05   \n",
              "std                0.513043      3251.121510      58.409084    3.599353e+05   \n",
              "min               -3.638000         0.000000      96.000000    8.000000e+03   \n",
              "25%                0.076000       581.490000     360.000000    2.680000e+05   \n",
              "50%                0.390400      2596.450000     360.000000    4.180000e+05   \n",
              "75%                0.775400      4812.500000     360.000000    6.280000e+05   \n",
              "max                3.357000     60000.000000     360.000000    1.650800e+07   \n",
              "\n",
              "              income  Credit_Score            LTV    Status          dtir1  \n",
              "count  139520.000000      148670.0  133572.000000  148670.0  124549.000000  \n",
              "mean     6957.338876    699.789103      72.746457  0.246445      37.732932  \n",
              "std      6496.586382    115.875857      39.967603  0.430942      10.545435  \n",
              "min         0.000000         500.0       0.967478       0.0       5.000000  \n",
              "25%      3720.000000         599.0      60.474860       0.0      31.000000  \n",
              "50%      5760.000000         699.0      75.135870       0.0      39.000000  \n",
              "75%      8520.000000         800.0      86.184211       0.0      45.000000  \n",
              "max    578580.000000         900.0    7831.250000       1.0      61.000000  "
            ],
            "text/html": [
              "\n",
              "  <div id=\"df-8e8ac79f-c51d-4b6b-ad0c-208ebedea95a\" class=\"colab-df-container\">\n",
              "    <div>\n",
              "<style scoped>\n",
              "    .dataframe tbody tr th:only-of-type {\n",
              "        vertical-align: middle;\n",
              "    }\n",
              "\n",
              "    .dataframe tbody tr th {\n",
              "        vertical-align: top;\n",
              "    }\n",
              "\n",
              "    .dataframe thead th {\n",
              "        text-align: right;\n",
              "    }\n",
              "</style>\n",
              "<table border=\"1\" class=\"dataframe\">\n",
              "  <thead>\n",
              "    <tr style=\"text-align: right;\">\n",
              "      <th></th>\n",
              "      <th>ID</th>\n",
              "      <th>year</th>\n",
              "      <th>loan_amount</th>\n",
              "      <th>rate_of_interest</th>\n",
              "      <th>Interest_rate_spread</th>\n",
              "      <th>Upfront_charges</th>\n",
              "      <th>term</th>\n",
              "      <th>property_value</th>\n",
              "      <th>income</th>\n",
              "      <th>Credit_Score</th>\n",
              "      <th>LTV</th>\n",
              "      <th>Status</th>\n",
              "      <th>dtir1</th>\n",
              "    </tr>\n",
              "  </thead>\n",
              "  <tbody>\n",
              "    <tr>\n",
              "      <th>count</th>\n",
              "      <td>148670.0</td>\n",
              "      <td>148670.0</td>\n",
              "      <td>148670.0</td>\n",
              "      <td>112231.000000</td>\n",
              "      <td>112031.000000</td>\n",
              "      <td>109028.000000</td>\n",
              "      <td>148629.000000</td>\n",
              "      <td>1.335720e+05</td>\n",
              "      <td>139520.000000</td>\n",
              "      <td>148670.0</td>\n",
              "      <td>133572.000000</td>\n",
              "      <td>148670.0</td>\n",
              "      <td>124549.000000</td>\n",
              "    </tr>\n",
              "    <tr>\n",
              "      <th>mean</th>\n",
              "      <td>99224.5</td>\n",
              "      <td>2019.0</td>\n",
              "      <td>331117.743997</td>\n",
              "      <td>4.045476</td>\n",
              "      <td>0.441656</td>\n",
              "      <td>3224.996127</td>\n",
              "      <td>335.136582</td>\n",
              "      <td>4.978935e+05</td>\n",
              "      <td>6957.338876</td>\n",
              "      <td>699.789103</td>\n",
              "      <td>72.746457</td>\n",
              "      <td>0.246445</td>\n",
              "      <td>37.732932</td>\n",
              "    </tr>\n",
              "    <tr>\n",
              "      <th>std</th>\n",
              "      <td>42917.476598</td>\n",
              "      <td>0.0</td>\n",
              "      <td>183909.310127</td>\n",
              "      <td>0.561391</td>\n",
              "      <td>0.513043</td>\n",
              "      <td>3251.121510</td>\n",
              "      <td>58.409084</td>\n",
              "      <td>3.599353e+05</td>\n",
              "      <td>6496.586382</td>\n",
              "      <td>115.875857</td>\n",
              "      <td>39.967603</td>\n",
              "      <td>0.430942</td>\n",
              "      <td>10.545435</td>\n",
              "    </tr>\n",
              "    <tr>\n",
              "      <th>min</th>\n",
              "      <td>24890.0</td>\n",
              "      <td>2019.0</td>\n",
              "      <td>16500.0</td>\n",
              "      <td>0.000000</td>\n",
              "      <td>-3.638000</td>\n",
              "      <td>0.000000</td>\n",
              "      <td>96.000000</td>\n",
              "      <td>8.000000e+03</td>\n",
              "      <td>0.000000</td>\n",
              "      <td>500.0</td>\n",
              "      <td>0.967478</td>\n",
              "      <td>0.0</td>\n",
              "      <td>5.000000</td>\n",
              "    </tr>\n",
              "    <tr>\n",
              "      <th>25%</th>\n",
              "      <td>62057.25</td>\n",
              "      <td>2019.0</td>\n",
              "      <td>196500.0</td>\n",
              "      <td>3.625000</td>\n",
              "      <td>0.076000</td>\n",
              "      <td>581.490000</td>\n",
              "      <td>360.000000</td>\n",
              "      <td>2.680000e+05</td>\n",
              "      <td>3720.000000</td>\n",
              "      <td>599.0</td>\n",
              "      <td>60.474860</td>\n",
              "      <td>0.0</td>\n",
              "      <td>31.000000</td>\n",
              "    </tr>\n",
              "    <tr>\n",
              "      <th>50%</th>\n",
              "      <td>99224.5</td>\n",
              "      <td>2019.0</td>\n",
              "      <td>296500.0</td>\n",
              "      <td>3.990000</td>\n",
              "      <td>0.390400</td>\n",
              "      <td>2596.450000</td>\n",
              "      <td>360.000000</td>\n",
              "      <td>4.180000e+05</td>\n",
              "      <td>5760.000000</td>\n",
              "      <td>699.0</td>\n",
              "      <td>75.135870</td>\n",
              "      <td>0.0</td>\n",
              "      <td>39.000000</td>\n",
              "    </tr>\n",
              "    <tr>\n",
              "      <th>75%</th>\n",
              "      <td>136391.75</td>\n",
              "      <td>2019.0</td>\n",
              "      <td>436500.0</td>\n",
              "      <td>4.375000</td>\n",
              "      <td>0.775400</td>\n",
              "      <td>4812.500000</td>\n",
              "      <td>360.000000</td>\n",
              "      <td>6.280000e+05</td>\n",
              "      <td>8520.000000</td>\n",
              "      <td>800.0</td>\n",
              "      <td>86.184211</td>\n",
              "      <td>0.0</td>\n",
              "      <td>45.000000</td>\n",
              "    </tr>\n",
              "    <tr>\n",
              "      <th>max</th>\n",
              "      <td>173559.0</td>\n",
              "      <td>2019.0</td>\n",
              "      <td>3576500.0</td>\n",
              "      <td>8.000000</td>\n",
              "      <td>3.357000</td>\n",
              "      <td>60000.000000</td>\n",
              "      <td>360.000000</td>\n",
              "      <td>1.650800e+07</td>\n",
              "      <td>578580.000000</td>\n",
              "      <td>900.0</td>\n",
              "      <td>7831.250000</td>\n",
              "      <td>1.0</td>\n",
              "      <td>61.000000</td>\n",
              "    </tr>\n",
              "  </tbody>\n",
              "</table>\n",
              "</div>\n",
              "    <div class=\"colab-df-buttons\">\n",
              "\n",
              "  <div class=\"colab-df-container\">\n",
              "    <button class=\"colab-df-convert\" onclick=\"convertToInteractive('df-8e8ac79f-c51d-4b6b-ad0c-208ebedea95a')\"\n",
              "            title=\"Convert this dataframe to an interactive table.\"\n",
              "            style=\"display:none;\">\n",
              "\n",
              "  <svg xmlns=\"http://www.w3.org/2000/svg\" height=\"24px\" viewBox=\"0 -960 960 960\">\n",
              "    <path d=\"M120-120v-720h720v720H120Zm60-500h600v-160H180v160Zm220 220h160v-160H400v160Zm0 220h160v-160H400v160ZM180-400h160v-160H180v160Zm440 0h160v-160H620v160ZM180-180h160v-160H180v160Zm440 0h160v-160H620v160Z\"/>\n",
              "  </svg>\n",
              "    </button>\n",
              "\n",
              "  <style>\n",
              "    .colab-df-container {\n",
              "      display:flex;\n",
              "      gap: 12px;\n",
              "    }\n",
              "\n",
              "    .colab-df-convert {\n",
              "      background-color: #E8F0FE;\n",
              "      border: none;\n",
              "      border-radius: 50%;\n",
              "      cursor: pointer;\n",
              "      display: none;\n",
              "      fill: #1967D2;\n",
              "      height: 32px;\n",
              "      padding: 0 0 0 0;\n",
              "      width: 32px;\n",
              "    }\n",
              "\n",
              "    .colab-df-convert:hover {\n",
              "      background-color: #E2EBFA;\n",
              "      box-shadow: 0px 1px 2px rgba(60, 64, 67, 0.3), 0px 1px 3px 1px rgba(60, 64, 67, 0.15);\n",
              "      fill: #174EA6;\n",
              "    }\n",
              "\n",
              "    .colab-df-buttons div {\n",
              "      margin-bottom: 4px;\n",
              "    }\n",
              "\n",
              "    [theme=dark] .colab-df-convert {\n",
              "      background-color: #3B4455;\n",
              "      fill: #D2E3FC;\n",
              "    }\n",
              "\n",
              "    [theme=dark] .colab-df-convert:hover {\n",
              "      background-color: #434B5C;\n",
              "      box-shadow: 0px 1px 3px 1px rgba(0, 0, 0, 0.15);\n",
              "      filter: drop-shadow(0px 1px 2px rgba(0, 0, 0, 0.3));\n",
              "      fill: #FFFFFF;\n",
              "    }\n",
              "  </style>\n",
              "\n",
              "    <script>\n",
              "      const buttonEl =\n",
              "        document.querySelector('#df-8e8ac79f-c51d-4b6b-ad0c-208ebedea95a button.colab-df-convert');\n",
              "      buttonEl.style.display =\n",
              "        google.colab.kernel.accessAllowed ? 'block' : 'none';\n",
              "\n",
              "      async function convertToInteractive(key) {\n",
              "        const element = document.querySelector('#df-8e8ac79f-c51d-4b6b-ad0c-208ebedea95a');\n",
              "        const dataTable =\n",
              "          await google.colab.kernel.invokeFunction('convertToInteractive',\n",
              "                                                    [key], {});\n",
              "        if (!dataTable) return;\n",
              "\n",
              "        const docLinkHtml = 'Like what you see? Visit the ' +\n",
              "          '<a target=\"_blank\" href=https://colab.research.google.com/notebooks/data_table.ipynb>data table notebook</a>'\n",
              "          + ' to learn more about interactive tables.';\n",
              "        element.innerHTML = '';\n",
              "        dataTable['output_type'] = 'display_data';\n",
              "        await google.colab.output.renderOutput(dataTable, element);\n",
              "        const docLink = document.createElement('div');\n",
              "        docLink.innerHTML = docLinkHtml;\n",
              "        element.appendChild(docLink);\n",
              "      }\n",
              "    </script>\n",
              "  </div>\n",
              "\n",
              "\n",
              "<div id=\"df-aa277952-dd14-4008-b457-801786e67484\">\n",
              "  <button class=\"colab-df-quickchart\" onclick=\"quickchart('df-aa277952-dd14-4008-b457-801786e67484')\"\n",
              "            title=\"Suggest charts\"\n",
              "            style=\"display:none;\">\n",
              "\n",
              "<svg xmlns=\"http://www.w3.org/2000/svg\" height=\"24px\"viewBox=\"0 0 24 24\"\n",
              "     width=\"24px\">\n",
              "    <g>\n",
              "        <path d=\"M19 3H5c-1.1 0-2 .9-2 2v14c0 1.1.9 2 2 2h14c1.1 0 2-.9 2-2V5c0-1.1-.9-2-2-2zM9 17H7v-7h2v7zm4 0h-2V7h2v10zm4 0h-2v-4h2v4z\"/>\n",
              "    </g>\n",
              "</svg>\n",
              "  </button>\n",
              "\n",
              "<style>\n",
              "  .colab-df-quickchart {\n",
              "      --bg-color: #E8F0FE;\n",
              "      --fill-color: #1967D2;\n",
              "      --hover-bg-color: #E2EBFA;\n",
              "      --hover-fill-color: #174EA6;\n",
              "      --disabled-fill-color: #AAA;\n",
              "      --disabled-bg-color: #DDD;\n",
              "  }\n",
              "\n",
              "  [theme=dark] .colab-df-quickchart {\n",
              "      --bg-color: #3B4455;\n",
              "      --fill-color: #D2E3FC;\n",
              "      --hover-bg-color: #434B5C;\n",
              "      --hover-fill-color: #FFFFFF;\n",
              "      --disabled-bg-color: #3B4455;\n",
              "      --disabled-fill-color: #666;\n",
              "  }\n",
              "\n",
              "  .colab-df-quickchart {\n",
              "    background-color: var(--bg-color);\n",
              "    border: none;\n",
              "    border-radius: 50%;\n",
              "    cursor: pointer;\n",
              "    display: none;\n",
              "    fill: var(--fill-color);\n",
              "    height: 32px;\n",
              "    padding: 0;\n",
              "    width: 32px;\n",
              "  }\n",
              "\n",
              "  .colab-df-quickchart:hover {\n",
              "    background-color: var(--hover-bg-color);\n",
              "    box-shadow: 0 1px 2px rgba(60, 64, 67, 0.3), 0 1px 3px 1px rgba(60, 64, 67, 0.15);\n",
              "    fill: var(--button-hover-fill-color);\n",
              "  }\n",
              "\n",
              "  .colab-df-quickchart-complete:disabled,\n",
              "  .colab-df-quickchart-complete:disabled:hover {\n",
              "    background-color: var(--disabled-bg-color);\n",
              "    fill: var(--disabled-fill-color);\n",
              "    box-shadow: none;\n",
              "  }\n",
              "\n",
              "  .colab-df-spinner {\n",
              "    border: 2px solid var(--fill-color);\n",
              "    border-color: transparent;\n",
              "    border-bottom-color: var(--fill-color);\n",
              "    animation:\n",
              "      spin 1s steps(1) infinite;\n",
              "  }\n",
              "\n",
              "  @keyframes spin {\n",
              "    0% {\n",
              "      border-color: transparent;\n",
              "      border-bottom-color: var(--fill-color);\n",
              "      border-left-color: var(--fill-color);\n",
              "    }\n",
              "    20% {\n",
              "      border-color: transparent;\n",
              "      border-left-color: var(--fill-color);\n",
              "      border-top-color: var(--fill-color);\n",
              "    }\n",
              "    30% {\n",
              "      border-color: transparent;\n",
              "      border-left-color: var(--fill-color);\n",
              "      border-top-color: var(--fill-color);\n",
              "      border-right-color: var(--fill-color);\n",
              "    }\n",
              "    40% {\n",
              "      border-color: transparent;\n",
              "      border-right-color: var(--fill-color);\n",
              "      border-top-color: var(--fill-color);\n",
              "    }\n",
              "    60% {\n",
              "      border-color: transparent;\n",
              "      border-right-color: var(--fill-color);\n",
              "    }\n",
              "    80% {\n",
              "      border-color: transparent;\n",
              "      border-right-color: var(--fill-color);\n",
              "      border-bottom-color: var(--fill-color);\n",
              "    }\n",
              "    90% {\n",
              "      border-color: transparent;\n",
              "      border-bottom-color: var(--fill-color);\n",
              "    }\n",
              "  }\n",
              "</style>\n",
              "\n",
              "  <script>\n",
              "    async function quickchart(key) {\n",
              "      const quickchartButtonEl =\n",
              "        document.querySelector('#' + key + ' button');\n",
              "      quickchartButtonEl.disabled = true;  // To prevent multiple clicks.\n",
              "      quickchartButtonEl.classList.add('colab-df-spinner');\n",
              "      try {\n",
              "        const charts = await google.colab.kernel.invokeFunction(\n",
              "            'suggestCharts', [key], {});\n",
              "      } catch (error) {\n",
              "        console.error('Error during call to suggestCharts:', error);\n",
              "      }\n",
              "      quickchartButtonEl.classList.remove('colab-df-spinner');\n",
              "      quickchartButtonEl.classList.add('colab-df-quickchart-complete');\n",
              "    }\n",
              "    (() => {\n",
              "      let quickchartButtonEl =\n",
              "        document.querySelector('#df-aa277952-dd14-4008-b457-801786e67484 button');\n",
              "      quickchartButtonEl.style.display =\n",
              "        google.colab.kernel.accessAllowed ? 'block' : 'none';\n",
              "    })();\n",
              "  </script>\n",
              "</div>\n",
              "    </div>\n",
              "  </div>\n"
            ]
          },
          "metadata": {},
          "execution_count": 5
        }
      ]
    },
    {
      "cell_type": "code",
      "source": [
        "loans_data.info()"
      ],
      "metadata": {
        "colab": {
          "base_uri": "https://localhost:8080/"
        },
        "id": "PnGb-23TTgyZ",
        "outputId": "89697d4e-7d8b-406c-8cf3-9b9fe1f7c3ca"
      },
      "execution_count": null,
      "outputs": [
        {
          "output_type": "stream",
          "name": "stdout",
          "text": [
            "<class 'pandas.core.frame.DataFrame'>\n",
            "RangeIndex: 148670 entries, 0 to 148669\n",
            "Data columns (total 34 columns):\n",
            " #   Column                     Non-Null Count   Dtype  \n",
            "---  ------                     --------------   -----  \n",
            " 0   ID                         148670 non-null  Int64  \n",
            " 1   year                       148670 non-null  Int64  \n",
            " 2   loan_limit                 145326 non-null  object \n",
            " 3   Gender                     148670 non-null  object \n",
            " 4   approv_in_adv              147762 non-null  object \n",
            " 5   loan_type                  148670 non-null  object \n",
            " 6   loan_purpose               148536 non-null  object \n",
            " 7   Credit_Worthiness          148670 non-null  object \n",
            " 8   open_credit                148670 non-null  object \n",
            " 9   business_or_commercial     148670 non-null  object \n",
            " 10  loan_amount                148670 non-null  Int64  \n",
            " 11  rate_of_interest           112231 non-null  float64\n",
            " 12  Interest_rate_spread       112031 non-null  float64\n",
            " 13  Upfront_charges            109028 non-null  float64\n",
            " 14  term                       148629 non-null  float64\n",
            " 15  Neg_ammortization          148549 non-null  object \n",
            " 16  interest_only              148670 non-null  object \n",
            " 17  lump_sum_payment           148670 non-null  object \n",
            " 18  property_value             133572 non-null  float64\n",
            " 19  construction_type          148670 non-null  object \n",
            " 20  occupancy_type             148670 non-null  object \n",
            " 21  Secured_by                 148670 non-null  object \n",
            " 22  total_units                148670 non-null  object \n",
            " 23  income                     139520 non-null  float64\n",
            " 24  credit_type                148670 non-null  object \n",
            " 25  Credit_Score               148670 non-null  Int64  \n",
            " 26  co_applicant_credit_type   148670 non-null  object \n",
            " 27  age                        148470 non-null  object \n",
            " 28  submission_of_application  148670 non-null  object \n",
            " 29  LTV                        133572 non-null  float64\n",
            " 30  Region                     148670 non-null  object \n",
            " 31  Security_Type              148670 non-null  object \n",
            " 32  Status                     148670 non-null  Int64  \n",
            " 33  dtir1                      124549 non-null  float64\n",
            "dtypes: Int64(5), float64(8), object(21)\n",
            "memory usage: 39.3+ MB\n"
          ]
        }
      ]
    },
    {
      "cell_type": "markdown",
      "source": [
        "### Tratativa dos campos"
      ],
      "metadata": {
        "id": "sJ1FAxwGTjSc"
      }
    },
    {
      "cell_type": "code",
      "source": [
        "# Verificar quais colunas possuem valores nulos\n",
        "print(loans_data.columns[loans_data.isnull().any()])"
      ],
      "metadata": {
        "colab": {
          "base_uri": "https://localhost:8080/"
        },
        "id": "3xq1ZyQMTlI1",
        "outputId": "0edad9a6-6e40-4d58-8468-943f9bd64189"
      },
      "execution_count": null,
      "outputs": [
        {
          "output_type": "stream",
          "name": "stdout",
          "text": [
            "Index(['loan_limit', 'approv_in_adv', 'loan_purpose', 'rate_of_interest',\n",
            "       'Interest_rate_spread', 'Upfront_charges', 'term', 'Neg_ammortization',\n",
            "       'property_value', 'income', 'age', 'LTV', 'dtir1'],\n",
            "      dtype='object')\n"
          ]
        }
      ]
    },
    {
      "cell_type": "code",
      "source": [
        "# Remover linhas onde as colunas categóricas são nulas\n",
        "loans_data = loans_data.dropna(subset=['loan_limit'])\n",
        "loans_data = loans_data.dropna(subset=['approv_in_adv'])\n",
        "loans_data = loans_data.dropna(subset=['loan_purpose'])\n",
        "loans_data = loans_data.dropna(subset=['Neg_ammortization'])\n",
        "loans_data = loans_data.dropna(subset=['age'])"
      ],
      "metadata": {
        "id": "jEBaEboaTm4v"
      },
      "execution_count": null,
      "outputs": []
    },
    {
      "cell_type": "code",
      "source": [
        "# Substituir os valores nulos pela mediana\n",
        "loans_data.loc[:, 'rate_of_interest'] = loans_data['rate_of_interest'].fillna(loans_data['rate_of_interest'].median())\n",
        "loans_data.loc[:, 'Interest_rate_spread'] = loans_data['Interest_rate_spread'].fillna(loans_data['Interest_rate_spread'].median())\n",
        "loans_data.loc[:, 'Upfront_charges'] = loans_data['Upfront_charges'].fillna(loans_data['Upfront_charges'].median())\n",
        "loans_data.loc[:, 'term'] = loans_data['term'].fillna(loans_data['term'].median())\n",
        "loans_data.loc[:, 'property_value'] = loans_data['property_value'].fillna(loans_data['property_value'].median())\n",
        "loans_data.loc[:, 'income'] = loans_data['income'].fillna(loans_data['income'].median())\n",
        "loans_data.loc[:, 'LTV'] = loans_data['LTV'].fillna(loans_data['LTV'].median())\n",
        "loans_data.loc[:, 'dtir1'] = loans_data['dtir1'].fillna(loans_data['dtir1'].median())"
      ],
      "metadata": {
        "id": "cw2mifUUToZ0",
        "colab": {
          "base_uri": "https://localhost:8080/"
        },
        "outputId": "f417f476-2fcd-4ddb-8ded-35561fe63943"
      },
      "execution_count": null,
      "outputs": [
        {
          "output_type": "stream",
          "name": "stderr",
          "text": [
            "<ipython-input-9-3f16547cb681>:2: SettingWithCopyWarning: \n",
            "A value is trying to be set on a copy of a slice from a DataFrame.\n",
            "Try using .loc[row_indexer,col_indexer] = value instead\n",
            "\n",
            "See the caveats in the documentation: https://pandas.pydata.org/pandas-docs/stable/user_guide/indexing.html#returning-a-view-versus-a-copy\n",
            "  loans_data.loc[:, 'rate_of_interest'] = loans_data['rate_of_interest'].fillna(loans_data['rate_of_interest'].median())\n",
            "<ipython-input-9-3f16547cb681>:3: SettingWithCopyWarning: \n",
            "A value is trying to be set on a copy of a slice from a DataFrame.\n",
            "Try using .loc[row_indexer,col_indexer] = value instead\n",
            "\n",
            "See the caveats in the documentation: https://pandas.pydata.org/pandas-docs/stable/user_guide/indexing.html#returning-a-view-versus-a-copy\n",
            "  loans_data.loc[:, 'Interest_rate_spread'] = loans_data['Interest_rate_spread'].fillna(loans_data['Interest_rate_spread'].median())\n",
            "<ipython-input-9-3f16547cb681>:4: SettingWithCopyWarning: \n",
            "A value is trying to be set on a copy of a slice from a DataFrame.\n",
            "Try using .loc[row_indexer,col_indexer] = value instead\n",
            "\n",
            "See the caveats in the documentation: https://pandas.pydata.org/pandas-docs/stable/user_guide/indexing.html#returning-a-view-versus-a-copy\n",
            "  loans_data.loc[:, 'Upfront_charges'] = loans_data['Upfront_charges'].fillna(loans_data['Upfront_charges'].median())\n",
            "<ipython-input-9-3f16547cb681>:5: SettingWithCopyWarning: \n",
            "A value is trying to be set on a copy of a slice from a DataFrame.\n",
            "Try using .loc[row_indexer,col_indexer] = value instead\n",
            "\n",
            "See the caveats in the documentation: https://pandas.pydata.org/pandas-docs/stable/user_guide/indexing.html#returning-a-view-versus-a-copy\n",
            "  loans_data.loc[:, 'term'] = loans_data['term'].fillna(loans_data['term'].median())\n",
            "<ipython-input-9-3f16547cb681>:6: SettingWithCopyWarning: \n",
            "A value is trying to be set on a copy of a slice from a DataFrame.\n",
            "Try using .loc[row_indexer,col_indexer] = value instead\n",
            "\n",
            "See the caveats in the documentation: https://pandas.pydata.org/pandas-docs/stable/user_guide/indexing.html#returning-a-view-versus-a-copy\n",
            "  loans_data.loc[:, 'property_value'] = loans_data['property_value'].fillna(loans_data['property_value'].median())\n",
            "<ipython-input-9-3f16547cb681>:7: SettingWithCopyWarning: \n",
            "A value is trying to be set on a copy of a slice from a DataFrame.\n",
            "Try using .loc[row_indexer,col_indexer] = value instead\n",
            "\n",
            "See the caveats in the documentation: https://pandas.pydata.org/pandas-docs/stable/user_guide/indexing.html#returning-a-view-versus-a-copy\n",
            "  loans_data.loc[:, 'income'] = loans_data['income'].fillna(loans_data['income'].median())\n",
            "<ipython-input-9-3f16547cb681>:8: SettingWithCopyWarning: \n",
            "A value is trying to be set on a copy of a slice from a DataFrame.\n",
            "Try using .loc[row_indexer,col_indexer] = value instead\n",
            "\n",
            "See the caveats in the documentation: https://pandas.pydata.org/pandas-docs/stable/user_guide/indexing.html#returning-a-view-versus-a-copy\n",
            "  loans_data.loc[:, 'LTV'] = loans_data['LTV'].fillna(loans_data['LTV'].median())\n",
            "<ipython-input-9-3f16547cb681>:9: SettingWithCopyWarning: \n",
            "A value is trying to be set on a copy of a slice from a DataFrame.\n",
            "Try using .loc[row_indexer,col_indexer] = value instead\n",
            "\n",
            "See the caveats in the documentation: https://pandas.pydata.org/pandas-docs/stable/user_guide/indexing.html#returning-a-view-versus-a-copy\n",
            "  loans_data.loc[:, 'dtir1'] = loans_data['dtir1'].fillna(loans_data['dtir1'].median())\n"
          ]
        }
      ]
    },
    {
      "cell_type": "code",
      "source": [
        "# # Ajustanto o tipo da coluna Status\n",
        "# loans_data['Status'] = loans_data['Status'].astype('category')"
      ],
      "metadata": {
        "id": "3Sswss0yTqFm"
      },
      "execution_count": null,
      "outputs": []
    },
    {
      "cell_type": "code",
      "source": [
        "# Conferindo se sobraram colunas com valores nulos\n",
        "print(loans_data.columns[loans_data.isnull().any()])"
      ],
      "metadata": {
        "colab": {
          "base_uri": "https://localhost:8080/"
        },
        "id": "vZtiXrruTrvU",
        "outputId": "b86d5ab8-4884-4140-e1db-4080c26d3123"
      },
      "execution_count": null,
      "outputs": [
        {
          "output_type": "stream",
          "name": "stdout",
          "text": [
            "Index([], dtype='object')\n"
          ]
        }
      ]
    },
    {
      "cell_type": "code",
      "source": [
        "nomes_colunas  =   [\"loan_limit\",               \"approv_in_adv\",        \"loan_type\",\n",
        "                    \"loan_purpose\",             \"Credit_Worthiness\",     \"Interest_rate_spread\",\n",
        "                    \"Neg_ammortization\",        \"interest_only\",         \"lump_sum_payment\",\n",
        "                    \"occupancy_type\",           \"total_units\",           \"credit_type\",\n",
        "                    \"co_applicant_credit_type\", \"age\",                   \"submission_of_application\",\n",
        "                    \"Region\",                   \"Status\"]\n",
        "loans_data_classif = loans_data.loc[:, nomes_colunas]\n",
        "\n",
        "loans_data_classif.info()"
      ],
      "metadata": {
        "colab": {
          "base_uri": "https://localhost:8080/"
        },
        "id": "yM_IyFOUTz4a",
        "outputId": "b61dd7f0-e2d9-4c06-8d1a-d5dd61af75b5"
      },
      "execution_count": null,
      "outputs": [
        {
          "output_type": "stream",
          "name": "stdout",
          "text": [
            "<class 'pandas.core.frame.DataFrame'>\n",
            "Int64Index: 143983 entries, 0 to 148669\n",
            "Data columns (total 17 columns):\n",
            " #   Column                     Non-Null Count   Dtype  \n",
            "---  ------                     --------------   -----  \n",
            " 0   loan_limit                 143983 non-null  object \n",
            " 1   approv_in_adv              143983 non-null  object \n",
            " 2   loan_type                  143983 non-null  object \n",
            " 3   loan_purpose               143983 non-null  object \n",
            " 4   Credit_Worthiness          143983 non-null  object \n",
            " 5   Interest_rate_spread       143983 non-null  float64\n",
            " 6   Neg_ammortization          143983 non-null  object \n",
            " 7   interest_only              143983 non-null  object \n",
            " 8   lump_sum_payment           143983 non-null  object \n",
            " 9   occupancy_type             143983 non-null  object \n",
            " 10  total_units                143983 non-null  object \n",
            " 11  credit_type                143983 non-null  object \n",
            " 12  co_applicant_credit_type   143983 non-null  object \n",
            " 13  age                        143983 non-null  object \n",
            " 14  submission_of_application  143983 non-null  object \n",
            " 15  Region                     143983 non-null  object \n",
            " 16  Status                     143983 non-null  Int64  \n",
            "dtypes: Int64(1), float64(1), object(15)\n",
            "memory usage: 19.9+ MB\n"
          ]
        }
      ]
    },
    {
      "cell_type": "code",
      "source": [
        "# Usando o método one-hot-encode para tratar as variáveis categóricas\n",
        "loans_data_classif = pd.get_dummies(loans_data_classif, columns=['loan_limit'])\n",
        "loans_data_classif = pd.get_dummies(loans_data_classif, columns=['approv_in_adv'])\n",
        "loans_data_classif = pd.get_dummies(loans_data_classif, columns=['loan_type'])\n",
        "loans_data_classif = pd.get_dummies(loans_data_classif, columns=['loan_purpose'])\n",
        "loans_data_classif = pd.get_dummies(loans_data_classif, columns=['Credit_Worthiness'])\n",
        "loans_data_classif = pd.get_dummies(loans_data_classif, columns=['Neg_ammortization'])\n",
        "loans_data_classif = pd.get_dummies(loans_data_classif, columns=['interest_only'])\n",
        "loans_data_classif = pd.get_dummies(loans_data_classif, columns=['lump_sum_payment'])\n",
        "loans_data_classif = pd.get_dummies(loans_data_classif, columns=['occupancy_type'])\n",
        "loans_data_classif = pd.get_dummies(loans_data_classif, columns=['credit_type'])\n",
        "loans_data_classif = pd.get_dummies(loans_data_classif, columns=['total_units'])\n",
        "loans_data_classif = pd.get_dummies(loans_data_classif, columns=['co_applicant_credit_type'])\n",
        "loans_data_classif = pd.get_dummies(loans_data_classif, columns=['age'])\n",
        "loans_data_classif = pd.get_dummies(loans_data_classif, columns=['submission_of_application'])\n",
        "loans_data_classif = pd.get_dummies(loans_data_classif, columns=['Region'])"
      ],
      "metadata": {
        "id": "orJaV2TIUFlQ"
      },
      "execution_count": null,
      "outputs": []
    },
    {
      "cell_type": "code",
      "source": [
        "loans_data_classif.info()"
      ],
      "metadata": {
        "colab": {
          "base_uri": "https://localhost:8080/"
        },
        "id": "hrjvVGGxUHtA",
        "outputId": "54c67892-578c-4fbf-e3c7-b17f755530d6"
      },
      "execution_count": null,
      "outputs": [
        {
          "output_type": "stream",
          "name": "stdout",
          "text": [
            "<class 'pandas.core.frame.DataFrame'>\n",
            "Int64Index: 143983 entries, 0 to 148669\n",
            "Data columns (total 47 columns):\n",
            " #   Column                              Non-Null Count   Dtype  \n",
            "---  ------                              --------------   -----  \n",
            " 0   Interest_rate_spread                143983 non-null  float64\n",
            " 1   Status                              143983 non-null  Int64  \n",
            " 2   loan_limit_cf                       143983 non-null  uint8  \n",
            " 3   loan_limit_ncf                      143983 non-null  uint8  \n",
            " 4   approv_in_adv_nopre                 143983 non-null  uint8  \n",
            " 5   approv_in_adv_pre                   143983 non-null  uint8  \n",
            " 6   loan_type_type1                     143983 non-null  uint8  \n",
            " 7   loan_type_type2                     143983 non-null  uint8  \n",
            " 8   loan_type_type3                     143983 non-null  uint8  \n",
            " 9   loan_purpose_p1                     143983 non-null  uint8  \n",
            " 10  loan_purpose_p2                     143983 non-null  uint8  \n",
            " 11  loan_purpose_p3                     143983 non-null  uint8  \n",
            " 12  loan_purpose_p4                     143983 non-null  uint8  \n",
            " 13  Credit_Worthiness_l1                143983 non-null  uint8  \n",
            " 14  Credit_Worthiness_l2                143983 non-null  uint8  \n",
            " 15  Neg_ammortization_neg_amm           143983 non-null  uint8  \n",
            " 16  Neg_ammortization_not_neg           143983 non-null  uint8  \n",
            " 17  interest_only_int_only              143983 non-null  uint8  \n",
            " 18  interest_only_not_int               143983 non-null  uint8  \n",
            " 19  lump_sum_payment_lpsm               143983 non-null  uint8  \n",
            " 20  lump_sum_payment_not_lpsm           143983 non-null  uint8  \n",
            " 21  occupancy_type_ir                   143983 non-null  uint8  \n",
            " 22  occupancy_type_pr                   143983 non-null  uint8  \n",
            " 23  occupancy_type_sr                   143983 non-null  uint8  \n",
            " 24  credit_type_CIB                     143983 non-null  uint8  \n",
            " 25  credit_type_CRIF                    143983 non-null  uint8  \n",
            " 26  credit_type_EQUI                    143983 non-null  uint8  \n",
            " 27  credit_type_EXP                     143983 non-null  uint8  \n",
            " 28  total_units_1U                      143983 non-null  uint8  \n",
            " 29  total_units_2U                      143983 non-null  uint8  \n",
            " 30  total_units_3U                      143983 non-null  uint8  \n",
            " 31  total_units_4U                      143983 non-null  uint8  \n",
            " 32  co_applicant_credit_type_CIB        143983 non-null  uint8  \n",
            " 33  co_applicant_credit_type_EXP        143983 non-null  uint8  \n",
            " 34  age_25-34                           143983 non-null  uint8  \n",
            " 35  age_35-44                           143983 non-null  uint8  \n",
            " 36  age_45-54                           143983 non-null  uint8  \n",
            " 37  age_55-64                           143983 non-null  uint8  \n",
            " 38  age_65-74                           143983 non-null  uint8  \n",
            " 39  age_<25                             143983 non-null  uint8  \n",
            " 40  age_>74                             143983 non-null  uint8  \n",
            " 41  submission_of_application_not_inst  143983 non-null  uint8  \n",
            " 42  submission_of_application_to_inst   143983 non-null  uint8  \n",
            " 43  Region_North                        143983 non-null  uint8  \n",
            " 44  Region_North-East                   143983 non-null  uint8  \n",
            " 45  Region_central                      143983 non-null  uint8  \n",
            " 46  Region_south                        143983 non-null  uint8  \n",
            "dtypes: Int64(1), float64(1), uint8(45)\n",
            "memory usage: 9.6 MB\n"
          ]
        }
      ]
    },
    {
      "cell_type": "markdown",
      "source": [
        "## 2- Analisar cada cluster atribuindo a ele uma label de “persona”, de acordo com as características identificadas nos centróides"
      ],
      "metadata": {
        "id": "fdSKs3bDUK29"
      }
    },
    {
      "cell_type": "markdown",
      "source": [
        "### Aplicando K-Means para separar em Clusters"
      ],
      "metadata": {
        "id": "cuuxx_1YDvxK"
      }
    },
    {
      "cell_type": "code",
      "source": [
        "# Selecionar apenas as colunas que serão usadas para clustering\n",
        "X = loans_data_classif.drop('Status', axis=1)"
      ],
      "metadata": {
        "id": "NC5aWbCtVAFt"
      },
      "execution_count": null,
      "outputs": []
    },
    {
      "cell_type": "code",
      "source": [
        "# Padronizar os dados\n",
        "scaler = StandardScaler()\n",
        "X_scaled = scaler.fit_transform(X)"
      ],
      "metadata": {
        "id": "I6R827kuVF66"
      },
      "execution_count": null,
      "outputs": []
    },
    {
      "cell_type": "code",
      "source": [
        "# Escolher o número de clusters usando o método Elbow\n",
        "# Aqui usamos um loop para testar diferentes números de clusters e encontrar o melhor\n",
        "inertia = []\n",
        "for n_clusters in range(1, 11):\n",
        "    kmeans = KMeans(n_clusters=n_clusters, random_state=42, n_init='auto')\n",
        "    kmeans.fit(X_scaled)\n",
        "    inertia.append(kmeans.inertia_)"
      ],
      "metadata": {
        "id": "NN9-pygKVMUz"
      },
      "execution_count": null,
      "outputs": []
    },
    {
      "cell_type": "code",
      "source": [
        "# Plotar o gráfico do método Elbow\n",
        "\n",
        "plt.plot(range(1, 11), inertia, marker='o')\n",
        "plt.xlabel('Número de clusters')\n",
        "plt.ylabel('Inertia')\n",
        "plt.title('Método Elbow')\n",
        "plt.show()"
      ],
      "metadata": {
        "colab": {
          "base_uri": "https://localhost:8080/",
          "height": 472
        },
        "id": "YOQHA7f4Vght",
        "outputId": "c2c6d3c0-1dc4-4349-819b-cb2555b7d943"
      },
      "execution_count": null,
      "outputs": [
        {
          "output_type": "display_data",
          "data": {
            "text/plain": [
              "<Figure size 640x480 with 1 Axes>"
            ],
            "image/png": "[encoded data removed]"
          },
          "metadata": {}
        }
      ]
    },
    {
      "cell_type": "code",
      "source": [
        "# Escolher o número de clusters com base no gráfico Elbow\n",
        "n_clusters = 3  # Pelo que podemos verificar no gráfico, seria 3"
      ],
      "metadata": {
        "id": "8SMt8ZNIVmB_"
      },
      "execution_count": null,
      "outputs": []
    },
    {
      "cell_type": "code",
      "source": [
        "# Treinar o modelo K-means com o número de clusters escolhido acima\n",
        "kmeans = KMeans(n_clusters=n_clusters, random_state=42)\n",
        "kmeans.fit(X_scaled)"
      ],
      "metadata": {
        "colab": {
          "base_uri": "https://localhost:8080/",
          "height": 112
        },
        "id": "zIwjVjxgXuxc",
        "outputId": "01e4b8e4-cd6e-4f83-fa69-c82fb8b0ffdc"
      },
      "execution_count": null,
      "outputs": [
        {
          "output_type": "stream",
          "name": "stderr",
          "text": [
            "/usr/local/lib/python3.10/dist-packages/sklearn/cluster/_kmeans.py:870: FutureWarning: The default value of `n_init` will change from 10 to 'auto' in 1.4. Set the value of `n_init` explicitly to suppress the warning\n",
            "  warnings.warn(\n"
          ]
        },
        {
          "output_type": "execute_result",
          "data": {
            "text/plain": [
              "KMeans(n_clusters=3, random_state=42)"
            ],
            "text/html": [
              "<style>#sk-container-id-1 {color: black;background-color: white;}#sk-container-id-1 pre{padding: 0;}#sk-container-id-1 div.sk-toggleable {background-color: white;}#sk-container-id-1 label.sk-toggleable__label {cursor: pointer;display: block;width: 100%;margin-bottom: 0;padding: 0.3em;box-sizing: border-box;text-align: center;}#sk-container-id-1 label.sk-toggleable__label-arrow:before {content: \"▸\";float: left;margin-right: 0.25em;color: #696969;}#sk-container-id-1 label.sk-toggleable__label-arrow:hover:before {color: black;}#sk-container-id-1 div.sk-estimator:hover label.sk-toggleable__label-arrow:before {color: black;}#sk-container-id-1 div.sk-toggleable__content {max-height: 0;max-width: 0;overflow: hidden;text-align: left;background-color: #f0f8ff;}#sk-container-id-1 div.sk-toggleable__content pre {margin: 0.2em;color: black;border-radius: 0.25em;background-color: #f0f8ff;}#sk-container-id-1 input.sk-toggleable__control:checked~div.sk-toggleable__content {max-height: 200px;max-width: 100%;overflow: auto;}#sk-container-id-1 input.sk-toggleable__control:checked~label.sk-toggleable__label-arrow:before {content: \"▾\";}#sk-container-id-1 div.sk-estimator input.sk-toggleable__control:checked~label.sk-toggleable__label {background-color: #d4ebff;}#sk-container-id-1 div.sk-label input.sk-toggleable__control:checked~label.sk-toggleable__label {background-color: #d4ebff;}#sk-container-id-1 input.sk-hidden--visually {border: 0;clip: rect(1px 1px 1px 1px);clip: rect(1px, 1px, 1px, 1px);height: 1px;margin: -1px;overflow: hidden;padding: 0;position: absolute;width: 1px;}#sk-container-id-1 div.sk-estimator {font-family: monospace;background-color: #f0f8ff;border: 1px dotted black;border-radius: 0.25em;box-sizing: border-box;margin-bottom: 0.5em;}#sk-container-id-1 div.sk-estimator:hover {background-color: #d4ebff;}#sk-container-id-1 div.sk-parallel-item::after {content: \"\";width: 100%;border-bottom: 1px solid gray;flex-grow: 1;}#sk-container-id-1 div.sk-label:hover label.sk-toggleable__label {background-color: #d4ebff;}#sk-container-id-1 div.sk-serial::before {content: \"\";position: absolute;border-left: 1px solid gray;box-sizing: border-box;top: 0;bottom: 0;left: 50%;z-index: 0;}#sk-container-id-1 div.sk-serial {display: flex;flex-direction: column;align-items: center;background-color: white;padding-right: 0.2em;padding-left: 0.2em;position: relative;}#sk-container-id-1 div.sk-item {position: relative;z-index: 1;}#sk-container-id-1 div.sk-parallel {display: flex;align-items: stretch;justify-content: center;background-color: white;position: relative;}#sk-container-id-1 div.sk-item::before, #sk-container-id-1 div.sk-parallel-item::before {content: \"\";position: absolute;border-left: 1px solid gray;box-sizing: border-box;top: 0;bottom: 0;left: 50%;z-index: -1;}#sk-container-id-1 div.sk-parallel-item {display: flex;flex-direction: column;z-index: 1;position: relative;background-color: white;}#sk-container-id-1 div.sk-parallel-item:first-child::after {align-self: flex-end;width: 50%;}#sk-container-id-1 div.sk-parallel-item:last-child::after {align-self: flex-start;width: 50%;}#sk-container-id-1 div.sk-parallel-item:only-child::after {width: 0;}#sk-container-id-1 div.sk-dashed-wrapped {border: 1px dashed gray;margin: 0 0.4em 0.5em 0.4em;box-sizing: border-box;padding-bottom: 0.4em;background-color: white;}#sk-container-id-1 div.sk-label label {font-family: monospace;font-weight: bold;display: inline-block;line-height: 1.2em;}#sk-container-id-1 div.sk-label-container {text-align: center;}#sk-container-id-1 div.sk-container {/* jupyter's `normalize.less` sets `[hidden] { display: none; }` but bootstrap.min.css set `[hidden] { display: none !important; }` so we also need the `!important` here to be able to override the default hidden behavior on the sphinx rendered scikit-learn.org. See: https://github.com/scikit-learn/scikit-learn/issues/21755 */display: inline-block !important;position: relative;}#sk-container-id-1 div.sk-text-repr-fallback {display: none;}</style><div id=\"sk-container-id-1\" class=\"sk-top-container\"><div class=\"sk-text-repr-fallback\"><pre>KMeans(n_clusters=3, random_state=42)</pre><b>In a Jupyter environment, please rerun this cell to show the HTML representation or trust the notebook. <br />On GitHub, the HTML representation is unable to render, please try loading this page with nbviewer.org.</b></div><div class=\"sk-container\" hidden><div class=\"sk-item\"><div class=\"sk-estimator sk-toggleable\"><input class=\"sk-toggleable__control sk-hidden--visually\" id=\"sk-estimator-id-1\" type=\"checkbox\" checked><label for=\"sk-estimator-id-1\" class=\"sk-toggleable__label sk-toggleable__label-arrow\">KMeans</label><div class=\"sk-toggleable__content\"><pre>KMeans(n_clusters=3, random_state=42)</pre></div></div></div></div></div>"
            ]
          },
          "metadata": {},
          "execution_count": 20
        }
      ]
    },
    {
      "cell_type": "code",
      "source": [
        "# Adicionar as labels de cluster ao DataFrame original\n",
        "loans_data_classif['Cluster'] = kmeans.labels_"
      ],
      "metadata": {
        "id": "Gvo0UXELX71U"
      },
      "execution_count": null,
      "outputs": []
    },
    {
      "cell_type": "code",
      "source": [
        "# Análise dos clusters e atribuição de personas\n",
        "cluster_analysis = loans_data_classif.groupby('Cluster').mean(numeric_only=True)"
      ],
      "metadata": {
        "id": "4_B7khJQYFMo"
      },
      "execution_count": null,
      "outputs": []
    },
    {
      "cell_type": "code",
      "source": [
        "cluster_analysis"
      ],
      "metadata": {
        "colab": {
          "base_uri": "https://localhost:8080/",
          "height": 241
        },
        "id": "1WQ5nSm0YXZn",
        "outputId": "d8afd081-ee81-4be2-feca-944c7e89e12d"
      },
      "execution_count": null,
      "outputs": [
        {
          "output_type": "execute_result",
          "data": {
            "text/plain": [
              "         Interest_rate_spread    Status  loan_limit_cf  loan_limit_ncf  \\\n",
              "Cluster                                                                  \n",
              "0                    0.253554  0.170745       0.927594        0.072406   \n",
              "1                    0.525739  0.317966       0.959918        0.040082   \n",
              "2                    0.514405  0.280982       0.932817        0.067183   \n",
              "\n",
              "         approv_in_adv_nopre  approv_in_adv_pre  loan_type_type1  \\\n",
              "Cluster                                                            \n",
              "0                   0.875831           0.124169         0.822706   \n",
              "1                   0.949461           0.050539         0.775507   \n",
              "2                   0.813330           0.186670         0.727074   \n",
              "\n",
              "         loan_type_type2  loan_type_type3  loan_purpose_p1  ...  age_55-64  \\\n",
              "Cluster                                                     ...              \n",
              "0               0.097037         0.080257         0.287835  ...   0.157382   \n",
              "1               0.144804         0.079689         0.282161  ...   0.222750   \n",
              "2               0.160784         0.112142         0.194918  ...   0.253164   \n",
              "\n",
              "         age_65-74   age_<25   age_>74  submission_of_application_not_inst  \\\n",
              "Cluster                                                                      \n",
              "0         0.071613  0.010759  0.020746                            0.999024   \n",
              "1         0.143853  0.011882  0.050856                            0.305608   \n",
              "2         0.177664  0.007808  0.063794                            0.000237   \n",
              "\n",
              "         submission_of_application_to_inst  Region_North  Region_North-East  \\\n",
              "Cluster                                                                       \n",
              "0                                 0.000976      0.599020           0.005878   \n",
              "1                                 0.694392      0.512516           0.010456   \n",
              "2                                 0.999763      0.449019           0.009627   \n",
              "\n",
              "         Region_central  Region_south  \n",
              "Cluster                                \n",
              "0              0.059125      0.335977  \n",
              "1              0.058460      0.418568  \n",
              "2              0.057986      0.483368  \n",
              "\n",
              "[3 rows x 47 columns]"
            ],
            "text/html": [
              "\n",
              "  <div id=\"df-6be3e5bb-7acc-4a39-a8a4-0e296d17e766\" class=\"colab-df-container\">\n",
              "    <div>\n",
              "<style scoped>\n",
              "    .dataframe tbody tr th:only-of-type {\n",
              "        vertical-align: middle;\n",
              "    }\n",
              "\n",
              "    .dataframe tbody tr th {\n",
              "        vertical-align: top;\n",
              "    }\n",
              "\n",
              "    .dataframe thead th {\n",
              "        text-align: right;\n",
              "    }\n",
              "</style>\n",
              "<table border=\"1\" class=\"dataframe\">\n",
              "  <thead>\n",
              "    <tr style=\"text-align: right;\">\n",
              "      <th></th>\n",
              "      <th>Interest_rate_spread</th>\n",
              "      <th>Status</th>\n",
              "      <th>loan_limit_cf</th>\n",
              "      <th>loan_limit_ncf</th>\n",
              "      <th>approv_in_adv_nopre</th>\n",
              "      <th>approv_in_adv_pre</th>\n",
              "      <th>loan_type_type1</th>\n",
              "      <th>loan_type_type2</th>\n",
              "      <th>loan_type_type3</th>\n",
              "      <th>loan_purpose_p1</th>\n",
              "      <th>...</th>\n",
              "      <th>age_55-64</th>\n",
              "      <th>age_65-74</th>\n",
              "      <th>age_&lt;25</th>\n",
              "      <th>age_&gt;74</th>\n",
              "      <th>submission_of_application_not_inst</th>\n",
              "      <th>submission_of_application_to_inst</th>\n",
              "      <th>Region_North</th>\n",
              "      <th>Region_North-East</th>\n",
              "      <th>Region_central</th>\n",
              "      <th>Region_south</th>\n",
              "    </tr>\n",
              "    <tr>\n",
              "      <th>Cluster</th>\n",
              "      <th></th>\n",
              "      <th></th>\n",
              "      <th></th>\n",
              "      <th></th>\n",
              "      <th></th>\n",
              "      <th></th>\n",
              "      <th></th>\n",
              "      <th></th>\n",
              "      <th></th>\n",
              "      <th></th>\n",
              "      <th></th>\n",
              "      <th></th>\n",
              "      <th></th>\n",
              "      <th></th>\n",
              "      <th></th>\n",
              "      <th></th>\n",
              "      <th></th>\n",
              "      <th></th>\n",
              "      <th></th>\n",
              "      <th></th>\n",
              "      <th></th>\n",
              "    </tr>\n",
              "  </thead>\n",
              "  <tbody>\n",
              "    <tr>\n",
              "      <th>0</th>\n",
              "      <td>0.253554</td>\n",
              "      <td>0.170745</td>\n",
              "      <td>0.927594</td>\n",
              "      <td>0.072406</td>\n",
              "      <td>0.875831</td>\n",
              "      <td>0.124169</td>\n",
              "      <td>0.822706</td>\n",
              "      <td>0.097037</td>\n",
              "      <td>0.080257</td>\n",
              "      <td>0.287835</td>\n",
              "      <td>...</td>\n",
              "      <td>0.157382</td>\n",
              "      <td>0.071613</td>\n",
              "      <td>0.010759</td>\n",
              "      <td>0.020746</td>\n",
              "      <td>0.999024</td>\n",
              "      <td>0.000976</td>\n",
              "      <td>0.599020</td>\n",
              "      <td>0.005878</td>\n",
              "      <td>0.059125</td>\n",
              "      <td>0.335977</td>\n",
              "    </tr>\n",
              "    <tr>\n",
              "      <th>1</th>\n",
              "      <td>0.525739</td>\n",
              "      <td>0.317966</td>\n",
              "      <td>0.959918</td>\n",
              "      <td>0.040082</td>\n",
              "      <td>0.949461</td>\n",
              "      <td>0.050539</td>\n",
              "      <td>0.775507</td>\n",
              "      <td>0.144804</td>\n",
              "      <td>0.079689</td>\n",
              "      <td>0.282161</td>\n",
              "      <td>...</td>\n",
              "      <td>0.222750</td>\n",
              "      <td>0.143853</td>\n",
              "      <td>0.011882</td>\n",
              "      <td>0.050856</td>\n",
              "      <td>0.305608</td>\n",
              "      <td>0.694392</td>\n",
              "      <td>0.512516</td>\n",
              "      <td>0.010456</td>\n",
              "      <td>0.058460</td>\n",
              "      <td>0.418568</td>\n",
              "    </tr>\n",
              "    <tr>\n",
              "      <th>2</th>\n",
              "      <td>0.514405</td>\n",
              "      <td>0.280982</td>\n",
              "      <td>0.932817</td>\n",
              "      <td>0.067183</td>\n",
              "      <td>0.813330</td>\n",
              "      <td>0.186670</td>\n",
              "      <td>0.727074</td>\n",
              "      <td>0.160784</td>\n",
              "      <td>0.112142</td>\n",
              "      <td>0.194918</td>\n",
              "      <td>...</td>\n",
              "      <td>0.253164</td>\n",
              "      <td>0.177664</td>\n",
              "      <td>0.007808</td>\n",
              "      <td>0.063794</td>\n",
              "      <td>0.000237</td>\n",
              "      <td>0.999763</td>\n",
              "      <td>0.449019</td>\n",
              "      <td>0.009627</td>\n",
              "      <td>0.057986</td>\n",
              "      <td>0.483368</td>\n",
              "    </tr>\n",
              "  </tbody>\n",
              "</table>\n",
              "<p>3 rows × 47 columns</p>\n",
              "</div>\n",
              "    <div class=\"colab-df-buttons\">\n",
              "\n",
              "  <div class=\"colab-df-container\">\n",
              "    <button class=\"colab-df-convert\" onclick=\"convertToInteractive('df-6be3e5bb-7acc-4a39-a8a4-0e296d17e766')\"\n",
              "            title=\"Convert this dataframe to an interactive table.\"\n",
              "            style=\"display:none;\">\n",
              "\n",
              "  <svg xmlns=\"http://www.w3.org/2000/svg\" height=\"24px\" viewBox=\"0 -960 960 960\">\n",
              "    <path d=\"M120-120v-720h720v720H120Zm60-500h600v-160H180v160Zm220 220h160v-160H400v160Zm0 220h160v-160H400v160ZM180-400h160v-160H180v160Zm440 0h160v-160H620v160ZM180-180h160v-160H180v160Zm440 0h160v-160H620v160Z\"/>\n",
              "  </svg>\n",
              "    </button>\n",
              "\n",
              "  <style>\n",
              "    .colab-df-container {\n",
              "      display:flex;\n",
              "      gap: 12px;\n",
              "    }\n",
              "\n",
              "    .colab-df-convert {\n",
              "      background-color: #E8F0FE;\n",
              "      border: none;\n",
              "      border-radius: 50%;\n",
              "      cursor: pointer;\n",
              "      display: none;\n",
              "      fill: #1967D2;\n",
              "      height: 32px;\n",
              "      padding: 0 0 0 0;\n",
              "      width: 32px;\n",
              "    }\n",
              "\n",
              "    .colab-df-convert:hover {\n",
              "      background-color: #E2EBFA;\n",
              "      box-shadow: 0px 1px 2px rgba(60, 64, 67, 0.3), 0px 1px 3px 1px rgba(60, 64, 67, 0.15);\n",
              "      fill: #174EA6;\n",
              "    }\n",
              "\n",
              "    .colab-df-buttons div {\n",
              "      margin-bottom: 4px;\n",
              "    }\n",
              "\n",
              "    [theme=dark] .colab-df-convert {\n",
              "      background-color: #3B4455;\n",
              "      fill: #D2E3FC;\n",
              "    }\n",
              "\n",
              "    [theme=dark] .colab-df-convert:hover {\n",
              "      background-color: #434B5C;\n",
              "      box-shadow: 0px 1px 3px 1px rgba(0, 0, 0, 0.15);\n",
              "      filter: drop-shadow(0px 1px 2px rgba(0, 0, 0, 0.3));\n",
              "      fill: #FFFFFF;\n",
              "    }\n",
              "  </style>\n",
              "\n",
              "    <script>\n",
              "      const buttonEl =\n",
              "        document.querySelector('#df-6be3e5bb-7acc-4a39-a8a4-0e296d17e766 button.colab-df-convert');\n",
              "      buttonEl.style.display =\n",
              "        google.colab.kernel.accessAllowed ? 'block' : 'none';\n",
              "\n",
              "      async function convertToInteractive(key) {\n",
              "        const element = document.querySelector('#df-6be3e5bb-7acc-4a39-a8a4-0e296d17e766');\n",
              "        const dataTable =\n",
              "          await google.colab.kernel.invokeFunction('convertToInteractive',\n",
              "                                                    [key], {});\n",
              "        if (!dataTable) return;\n",
              "\n",
              "        const docLinkHtml = 'Like what you see? Visit the ' +\n",
              "          '<a target=\"_blank\" href=https://colab.research.google.com/notebooks/data_table.ipynb>data table notebook</a>'\n",
              "          + ' to learn more about interactive tables.';\n",
              "        element.innerHTML = '';\n",
              "        dataTable['output_type'] = 'display_data';\n",
              "        await google.colab.output.renderOutput(dataTable, element);\n",
              "        const docLink = document.createElement('div');\n",
              "        docLink.innerHTML = docLinkHtml;\n",
              "        element.appendChild(docLink);\n",
              "      }\n",
              "    </script>\n",
              "  </div>\n",
              "\n",
              "\n",
              "<div id=\"df-3ef7d4a7-af16-4de2-9a4c-334235f973fa\">\n",
              "  <button class=\"colab-df-quickchart\" onclick=\"quickchart('df-3ef7d4a7-af16-4de2-9a4c-334235f973fa')\"\n",
              "            title=\"Suggest charts\"\n",
              "            style=\"display:none;\">\n",
              "\n",
              "<svg xmlns=\"http://www.w3.org/2000/svg\" height=\"24px\"viewBox=\"0 0 24 24\"\n",
              "     width=\"24px\">\n",
              "    <g>\n",
              "        <path d=\"M19 3H5c-1.1 0-2 .9-2 2v14c0 1.1.9 2 2 2h14c1.1 0 2-.9 2-2V5c0-1.1-.9-2-2-2zM9 17H7v-7h2v7zm4 0h-2V7h2v10zm4 0h-2v-4h2v4z\"/>\n",
              "    </g>\n",
              "</svg>\n",
              "  </button>\n",
              "\n",
              "<style>\n",
              "  .colab-df-quickchart {\n",
              "      --bg-color: #E8F0FE;\n",
              "      --fill-color: #1967D2;\n",
              "      --hover-bg-color: #E2EBFA;\n",
              "      --hover-fill-color: #174EA6;\n",
              "      --disabled-fill-color: #AAA;\n",
              "      --disabled-bg-color: #DDD;\n",
              "  }\n",
              "\n",
              "  [theme=dark] .colab-df-quickchart {\n",
              "      --bg-color: #3B4455;\n",
              "      --fill-color: #D2E3FC;\n",
              "      --hover-bg-color: #434B5C;\n",
              "      --hover-fill-color: #FFFFFF;\n",
              "      --disabled-bg-color: #3B4455;\n",
              "      --disabled-fill-color: #666;\n",
              "  }\n",
              "\n",
              "  .colab-df-quickchart {\n",
              "    background-color: var(--bg-color);\n",
              "    border: none;\n",
              "    border-radius: 50%;\n",
              "    cursor: pointer;\n",
              "    display: none;\n",
              "    fill: var(--fill-color);\n",
              "    height: 32px;\n",
              "    padding: 0;\n",
              "    width: 32px;\n",
              "  }\n",
              "\n",
              "  .colab-df-quickchart:hover {\n",
              "    background-color: var(--hover-bg-color);\n",
              "    box-shadow: 0 1px 2px rgba(60, 64, 67, 0.3), 0 1px 3px 1px rgba(60, 64, 67, 0.15);\n",
              "    fill: var(--button-hover-fill-color);\n",
              "  }\n",
              "\n",
              "  .colab-df-quickchart-complete:disabled,\n",
              "  .colab-df-quickchart-complete:disabled:hover {\n",
              "    background-color: var(--disabled-bg-color);\n",
              "    fill: var(--disabled-fill-color);\n",
              "    box-shadow: none;\n",
              "  }\n",
              "\n",
              "  .colab-df-spinner {\n",
              "    border: 2px solid var(--fill-color);\n",
              "    border-color: transparent;\n",
              "    border-bottom-color: var(--fill-color);\n",
              "    animation:\n",
              "      spin 1s steps(1) infinite;\n",
              "  }\n",
              "\n",
              "  @keyframes spin {\n",
              "    0% {\n",
              "      border-color: transparent;\n",
              "      border-bottom-color: var(--fill-color);\n",
              "      border-left-color: var(--fill-color);\n",
              "    }\n",
              "    20% {\n",
              "      border-color: transparent;\n",
              "      border-left-color: var(--fill-color);\n",
              "      border-top-color: var(--fill-color);\n",
              "    }\n",
              "    30% {\n",
              "      border-color: transparent;\n",
              "      border-left-color: var(--fill-color);\n",
              "      border-top-color: var(--fill-color);\n",
              "      border-right-color: var(--fill-color);\n",
              "    }\n",
              "    40% {\n",
              "      border-color: transparent;\n",
              "      border-right-color: var(--fill-color);\n",
              "      border-top-color: var(--fill-color);\n",
              "    }\n",
              "    60% {\n",
              "      border-color: transparent;\n",
              "      border-right-color: var(--fill-color);\n",
              "    }\n",
              "    80% {\n",
              "      border-color: transparent;\n",
              "      border-right-color: var(--fill-color);\n",
              "      border-bottom-color: var(--fill-color);\n",
              "    }\n",
              "    90% {\n",
              "      border-color: transparent;\n",
              "      border-bottom-color: var(--fill-color);\n",
              "    }\n",
              "  }\n",
              "</style>\n",
              "\n",
              "  <script>\n",
              "    async function quickchart(key) {\n",
              "      const quickchartButtonEl =\n",
              "        document.querySelector('#' + key + ' button');\n",
              "      quickchartButtonEl.disabled = true;  // To prevent multiple clicks.\n",
              "      quickchartButtonEl.classList.add('colab-df-spinner');\n",
              "      try {\n",
              "        const charts = await google.colab.kernel.invokeFunction(\n",
              "            'suggestCharts', [key], {});\n",
              "      } catch (error) {\n",
              "        console.error('Error during call to suggestCharts:', error);\n",
              "      }\n",
              "      quickchartButtonEl.classList.remove('colab-df-spinner');\n",
              "      quickchartButtonEl.classList.add('colab-df-quickchart-complete');\n",
              "    }\n",
              "    (() => {\n",
              "      let quickchartButtonEl =\n",
              "        document.querySelector('#df-3ef7d4a7-af16-4de2-9a4c-334235f973fa button');\n",
              "      quickchartButtonEl.style.display =\n",
              "        google.colab.kernel.accessAllowed ? 'block' : 'none';\n",
              "    })();\n",
              "  </script>\n",
              "</div>\n",
              "    </div>\n",
              "  </div>\n"
            ]
          },
          "metadata": {},
          "execution_count": 23
        }
      ]
    },
    {
      "cell_type": "markdown",
      "source": [
        "### Aplicando PCA para reduzir a dimensionalidade para 2 componentes"
      ],
      "metadata": {
        "id": "uof1yqTeETuO"
      }
    },
    {
      "cell_type": "code",
      "source": [
        "# Aplicar PCA para reduzir a dimensionalidade\n",
        "pca = PCA(n_components=2)  # Escolha o número de componentes desejados\n",
        "X_pca = pca.fit_transform(X_scaled)\n",
        "\n",
        "# Treinar o modelo K-means com os dados reduzidos pelo PCA\n",
        "kmeans_pca = KMeans(n_clusters=n_clusters, random_state=42)\n",
        "kmeans_pca.fit(X_pca)\n",
        "\n",
        "# Plotar os clusters com os centroides\n",
        "plt.scatter(X_pca[:, 0], X_pca[:, 1], c=kmeans_pca.labels_, cmap='viridis', alpha=0.5)\n",
        "plt.scatter(kmeans_pca.cluster_centers_[:, 0], kmeans_pca.cluster_centers_[:, 1], marker='x', s=100, c='red', label='Centroids')\n",
        "plt.title('Clusters com Centroides (PCA)')\n",
        "plt.xlabel('Componente Principal 1')\n",
        "plt.ylabel('Componente Principal 2')\n",
        "plt.legend()\n",
        "plt.show()\n"
      ],
      "metadata": {
        "colab": {
          "base_uri": "https://localhost:8080/",
          "height": 509
        },
        "id": "KnmskX74c-f8",
        "outputId": "6de83dd6-3a1e-4e45-f054-b3bede725e1e"
      },
      "execution_count": null,
      "outputs": [
        {
          "output_type": "stream",
          "name": "stderr",
          "text": [
            "/usr/local/lib/python3.10/dist-packages/sklearn/cluster/_kmeans.py:870: FutureWarning: The default value of `n_init` will change from 10 to 'auto' in 1.4. Set the value of `n_init` explicitly to suppress the warning\n",
            "  warnings.warn(\n"
          ]
        },
        {
          "output_type": "display_data",
          "data": {
            "text/plain": [
              "<Figure size 640x480 with 1 Axes>"
            ],
            "image/png": "[encoded data removed]"
          },
          "metadata": {}
        }
      ]
    },
    {
      "cell_type": "markdown",
      "source": [
        "## 3- Identificar a propensão média de cada grupo"
      ],
      "metadata": {
        "id": "OakDXQyo8h77"
      }
    },
    {
      "cell_type": "code",
      "source": [
        "# Identificação da propensão à fraude média de cada grupo\n",
        "fraud_propensity = loans_data_classif.groupby('Cluster')['Status'].mean()\n",
        "fraud_propensity"
      ],
      "metadata": {
        "colab": {
          "base_uri": "https://localhost:8080/"
        },
        "id": "YQJBwSOzZqhe",
        "outputId": "6d8dcecd-79b4-47d8-9acc-03ddd0791e3d"
      },
      "execution_count": null,
      "outputs": [
        {
          "output_type": "execute_result",
          "data": {
            "text/plain": [
              "Cluster\n",
              "0    0.170745\n",
              "1    0.317966\n",
              "2    0.280982\n",
              "Name: Status, dtype: Float64"
            ]
          },
          "metadata": {},
          "execution_count": 25
        }
      ]
    },
    {
      "cell_type": "code",
      "source": [
        "# Criar DataFrame a partir dos resultados de fraud_propensity\n",
        "fraud_propensity_df = fraud_propensity.reset_index()\n",
        "# Adicionar a nova coluna com base nos valores dos clusters\n",
        "fraud_propensity_df['Risk Level'] = fraud_propensity_df['Cluster'].map({0: 'Low Risk', 1: 'High Risk', 2: 'Moderate Risk'})\n",
        "fraud_propensity_df"
      ],
      "metadata": {
        "colab": {
          "base_uri": "https://localhost:8080/",
          "height": 143
        },
        "id": "3saFq4xshg3w",
        "outputId": "ae8737fd-91c3-4e9e-feb5-a11d92c5dfc8"
      },
      "execution_count": null,
      "outputs": [
        {
          "output_type": "execute_result",
          "data": {
            "text/plain": [
              "   Cluster    Status     Risk Level\n",
              "0        0  0.170745       Low Risk\n",
              "1        1  0.317966      High Risk\n",
              "2        2  0.280982  Moderate Risk"
            ],
            "text/html": [
              "\n",
              "  <div id=\"df-afe6b920-0f29-4a7c-bb5a-55f1bc4a71c5\" class=\"colab-df-container\">\n",
              "    <div>\n",
              "<style scoped>\n",
              "    .dataframe tbody tr th:only-of-type {\n",
              "        vertical-align: middle;\n",
              "    }\n",
              "\n",
              "    .dataframe tbody tr th {\n",
              "        vertical-align: top;\n",
              "    }\n",
              "\n",
              "    .dataframe thead th {\n",
              "        text-align: right;\n",
              "    }\n",
              "</style>\n",
              "<table border=\"1\" class=\"dataframe\">\n",
              "  <thead>\n",
              "    <tr style=\"text-align: right;\">\n",
              "      <th></th>\n",
              "      <th>Cluster</th>\n",
              "      <th>Status</th>\n",
              "      <th>Risk Level</th>\n",
              "    </tr>\n",
              "  </thead>\n",
              "  <tbody>\n",
              "    <tr>\n",
              "      <th>0</th>\n",
              "      <td>0</td>\n",
              "      <td>0.170745</td>\n",
              "      <td>Low Risk</td>\n",
              "    </tr>\n",
              "    <tr>\n",
              "      <th>1</th>\n",
              "      <td>1</td>\n",
              "      <td>0.317966</td>\n",
              "      <td>High Risk</td>\n",
              "    </tr>\n",
              "    <tr>\n",
              "      <th>2</th>\n",
              "      <td>2</td>\n",
              "      <td>0.280982</td>\n",
              "      <td>Moderate Risk</td>\n",
              "    </tr>\n",
              "  </tbody>\n",
              "</table>\n",
              "</div>\n",
              "    <div class=\"colab-df-buttons\">\n",
              "\n",
              "  <div class=\"colab-df-container\">\n",
              "    <button class=\"colab-df-convert\" onclick=\"convertToInteractive('df-afe6b920-0f29-4a7c-bb5a-55f1bc4a71c5')\"\n",
              "            title=\"Convert this dataframe to an interactive table.\"\n",
              "            style=\"display:none;\">\n",
              "\n",
              "  <svg xmlns=\"http://www.w3.org/2000/svg\" height=\"24px\" viewBox=\"0 -960 960 960\">\n",
              "    <path d=\"M120-120v-720h720v720H120Zm60-500h600v-160H180v160Zm220 220h160v-160H400v160Zm0 220h160v-160H400v160ZM180-400h160v-160H180v160Zm440 0h160v-160H620v160ZM180-180h160v-160H180v160Zm440 0h160v-160H620v160Z\"/>\n",
              "  </svg>\n",
              "    </button>\n",
              "\n",
              "  <style>\n",
              "    .colab-df-container {\n",
              "      display:flex;\n",
              "      gap: 12px;\n",
              "    }\n",
              "\n",
              "    .colab-df-convert {\n",
              "      background-color: #E8F0FE;\n",
              "      border: none;\n",
              "      border-radius: 50%;\n",
              "      cursor: pointer;\n",
              "      display: none;\n",
              "      fill: #1967D2;\n",
              "      height: 32px;\n",
              "      padding: 0 0 0 0;\n",
              "      width: 32px;\n",
              "    }\n",
              "\n",
              "    .colab-df-convert:hover {\n",
              "      background-color: #E2EBFA;\n",
              "      box-shadow: 0px 1px 2px rgba(60, 64, 67, 0.3), 0px 1px 3px 1px rgba(60, 64, 67, 0.15);\n",
              "      fill: #174EA6;\n",
              "    }\n",
              "\n",
              "    .colab-df-buttons div {\n",
              "      margin-bottom: 4px;\n",
              "    }\n",
              "\n",
              "    [theme=dark] .colab-df-convert {\n",
              "      background-color: #3B4455;\n",
              "      fill: #D2E3FC;\n",
              "    }\n",
              "\n",
              "    [theme=dark] .colab-df-convert:hover {\n",
              "      background-color: #434B5C;\n",
              "      box-shadow: 0px 1px 3px 1px rgba(0, 0, 0, 0.15);\n",
              "      filter: drop-shadow(0px 1px 2px rgba(0, 0, 0, 0.3));\n",
              "      fill: #FFFFFF;\n",
              "    }\n",
              "  </style>\n",
              "\n",
              "    <script>\n",
              "      const buttonEl =\n",
              "        document.querySelector('#df-afe6b920-0f29-4a7c-bb5a-55f1bc4a71c5 button.colab-df-convert');\n",
              "      buttonEl.style.display =\n",
              "        google.colab.kernel.accessAllowed ? 'block' : 'none';\n",
              "\n",
              "      async function convertToInteractive(key) {\n",
              "        const element = document.querySelector('#df-afe6b920-0f29-4a7c-bb5a-55f1bc4a71c5');\n",
              "        const dataTable =\n",
              "          await google.colab.kernel.invokeFunction('convertToInteractive',\n",
              "                                                    [key], {});\n",
              "        if (!dataTable) return;\n",
              "\n",
              "        const docLinkHtml = 'Like what you see? Visit the ' +\n",
              "          '<a target=\"_blank\" href=https://colab.research.google.com/notebooks/data_table.ipynb>data table notebook</a>'\n",
              "          + ' to learn more about interactive tables.';\n",
              "        element.innerHTML = '';\n",
              "        dataTable['output_type'] = 'display_data';\n",
              "        await google.colab.output.renderOutput(dataTable, element);\n",
              "        const docLink = document.createElement('div');\n",
              "        docLink.innerHTML = docLinkHtml;\n",
              "        element.appendChild(docLink);\n",
              "      }\n",
              "    </script>\n",
              "  </div>\n",
              "\n",
              "\n",
              "<div id=\"df-9b657a0f-bd19-49b8-b563-6ac868d40262\">\n",
              "  <button class=\"colab-df-quickchart\" onclick=\"quickchart('df-9b657a0f-bd19-49b8-b563-6ac868d40262')\"\n",
              "            title=\"Suggest charts\"\n",
              "            style=\"display:none;\">\n",
              "\n",
              "<svg xmlns=\"http://www.w3.org/2000/svg\" height=\"24px\"viewBox=\"0 0 24 24\"\n",
              "     width=\"24px\">\n",
              "    <g>\n",
              "        <path d=\"M19 3H5c-1.1 0-2 .9-2 2v14c0 1.1.9 2 2 2h14c1.1 0 2-.9 2-2V5c0-1.1-.9-2-2-2zM9 17H7v-7h2v7zm4 0h-2V7h2v10zm4 0h-2v-4h2v4z\"/>\n",
              "    </g>\n",
              "</svg>\n",
              "  </button>\n",
              "\n",
              "<style>\n",
              "  .colab-df-quickchart {\n",
              "      --bg-color: #E8F0FE;\n",
              "      --fill-color: #1967D2;\n",
              "      --hover-bg-color: #E2EBFA;\n",
              "      --hover-fill-color: #174EA6;\n",
              "      --disabled-fill-color: #AAA;\n",
              "      --disabled-bg-color: #DDD;\n",
              "  }\n",
              "\n",
              "  [theme=dark] .colab-df-quickchart {\n",
              "      --bg-color: #3B4455;\n",
              "      --fill-color: #D2E3FC;\n",
              "      --hover-bg-color: #434B5C;\n",
              "      --hover-fill-color: #FFFFFF;\n",
              "      --disabled-bg-color: #3B4455;\n",
              "      --disabled-fill-color: #666;\n",
              "  }\n",
              "\n",
              "  .colab-df-quickchart {\n",
              "    background-color: var(--bg-color);\n",
              "    border: none;\n",
              "    border-radius: 50%;\n",
              "    cursor: pointer;\n",
              "    display: none;\n",
              "    fill: var(--fill-color);\n",
              "    height: 32px;\n",
              "    padding: 0;\n",
              "    width: 32px;\n",
              "  }\n",
              "\n",
              "  .colab-df-quickchart:hover {\n",
              "    background-color: var(--hover-bg-color);\n",
              "    box-shadow: 0 1px 2px rgba(60, 64, 67, 0.3), 0 1px 3px 1px rgba(60, 64, 67, 0.15);\n",
              "    fill: var(--button-hover-fill-color);\n",
              "  }\n",
              "\n",
              "  .colab-df-quickchart-complete:disabled,\n",
              "  .colab-df-quickchart-complete:disabled:hover {\n",
              "    background-color: var(--disabled-bg-color);\n",
              "    fill: var(--disabled-fill-color);\n",
              "    box-shadow: none;\n",
              "  }\n",
              "\n",
              "  .colab-df-spinner {\n",
              "    border: 2px solid var(--fill-color);\n",
              "    border-color: transparent;\n",
              "    border-bottom-color: var(--fill-color);\n",
              "    animation:\n",
              "      spin 1s steps(1) infinite;\n",
              "  }\n",
              "\n",
              "  @keyframes spin {\n",
              "    0% {\n",
              "      border-color: transparent;\n",
              "      border-bottom-color: var(--fill-color);\n",
              "      border-left-color: var(--fill-color);\n",
              "    }\n",
              "    20% {\n",
              "      border-color: transparent;\n",
              "      border-left-color: var(--fill-color);\n",
              "      border-top-color: var(--fill-color);\n",
              "    }\n",
              "    30% {\n",
              "      border-color: transparent;\n",
              "      border-left-color: var(--fill-color);\n",
              "      border-top-color: var(--fill-color);\n",
              "      border-right-color: var(--fill-color);\n",
              "    }\n",
              "    40% {\n",
              "      border-color: transparent;\n",
              "      border-right-color: var(--fill-color);\n",
              "      border-top-color: var(--fill-color);\n",
              "    }\n",
              "    60% {\n",
              "      border-color: transparent;\n",
              "      border-right-color: var(--fill-color);\n",
              "    }\n",
              "    80% {\n",
              "      border-color: transparent;\n",
              "      border-right-color: var(--fill-color);\n",
              "      border-bottom-color: var(--fill-color);\n",
              "    }\n",
              "    90% {\n",
              "      border-color: transparent;\n",
              "      border-bottom-color: var(--fill-color);\n",
              "    }\n",
              "  }\n",
              "</style>\n",
              "\n",
              "  <script>\n",
              "    async function quickchart(key) {\n",
              "      const quickchartButtonEl =\n",
              "        document.querySelector('#' + key + ' button');\n",
              "      quickchartButtonEl.disabled = true;  // To prevent multiple clicks.\n",
              "      quickchartButtonEl.classList.add('colab-df-spinner');\n",
              "      try {\n",
              "        const charts = await google.colab.kernel.invokeFunction(\n",
              "            'suggestCharts', [key], {});\n",
              "      } catch (error) {\n",
              "        console.error('Error during call to suggestCharts:', error);\n",
              "      }\n",
              "      quickchartButtonEl.classList.remove('colab-df-spinner');\n",
              "      quickchartButtonEl.classList.add('colab-df-quickchart-complete');\n",
              "    }\n",
              "    (() => {\n",
              "      let quickchartButtonEl =\n",
              "        document.querySelector('#df-9b657a0f-bd19-49b8-b563-6ac868d40262 button');\n",
              "      quickchartButtonEl.style.display =\n",
              "        google.colab.kernel.accessAllowed ? 'block' : 'none';\n",
              "    })();\n",
              "  </script>\n",
              "</div>\n",
              "    </div>\n",
              "  </div>\n"
            ]
          },
          "metadata": {},
          "execution_count": 26
        }
      ]
    },
    {
      "cell_type": "code",
      "source": [
        "# Salvar DataFrame em um arquivo JSON\n",
        "fraud_propensity_df.to_json('/content/clusters_result.json', orient='records')"
      ],
      "metadata": {
        "id": "IiN4jOveh1O5"
      },
      "execution_count": null,
      "outputs": []
    },
    {
      "cell_type": "code",
      "source": [
        "import joblib\n",
        "\n",
        "# Salvar o modelo treinado\n",
        "joblib.dump(kmeans, 'kmeans_model.pkl')\n",
        "\n",
        "# Salvar o scaler também se você quiser usá-lo na API\n",
        "joblib.dump(scaler, 'scaler.pkl')\n",
        "\n",
        "# Salvar o número de clusters para usar na API\n",
        "with open('n_clusters.txt', 'w') as f:\n",
        "    f.write(str(n_clusters))"
      ],
      "metadata": {
        "id": "qZzo7bG9fAnx"
      },
      "execution_count": null,
      "outputs": []
    },
    {
      "cell_type": "markdown",
      "source": [
        "## 4- Criação da API"
      ],
      "metadata": {
        "id": "IwFxI6768PeF"
      }
    },
    {
      "cell_type": "code",
      "source": [],
      "metadata": {
        "id": "YVwpQouI8ti5"
      },
      "execution_count": null,
      "outputs": []
    }
  ]
}