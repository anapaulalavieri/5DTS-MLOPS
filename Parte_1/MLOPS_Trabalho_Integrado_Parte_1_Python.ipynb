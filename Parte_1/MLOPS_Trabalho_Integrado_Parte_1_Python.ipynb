{
  "nbformat": 4,
  "nbformat_minor": 0,
  "metadata": {
    "colab": {
      "provenance": [],
      "toc_visible": true
    },
    "kernelspec": {
      "name": "python3",
      "display_name": "Python 3"
    },
    "language_info": {
      "name": "python"
    }
  },
  "cells": [
    {
      "cell_type": "markdown",
      "source": [
        "# Parte 1 – Propensão de inadimplência (2,5)"
      ],
      "metadata": {
        "id": "DC-Oz42UA0QP"
      }
    },
    {
      "cell_type": "markdown",
      "source": [
        " Implementar em contêiner o modelo propensão de inadimplência desenvolvido na disciplina de Estatística utilizando a linguagem R ou Python.\n",
        "\n",
        " 1. Treinar um modelo de propensão à inadimplência em R ou em Python, como visto nas aulas de estatística. (0,50)\n",
        "\n",
        "  Nota: A API só precisa retornar a propensão à inadimplência. A criação de um modelo \"fake\" que retorna aleatoriamente 0 ou 1 apenas desabona esse 0,50 ponto.\n",
        "\n",
        "2. Servir o modelo por uma API como as vistas em aula. (0,50)\n",
        "  \n",
        "  Nas aulas utilizamos Python + Flask, será necessário utilizar outra tecnologia, por exemplo: R + Plumber\n",
        "\n",
        "3. Encapsular o modelo em um contêiner (1,50).– O Contêiner deve apenas receber os parâmetros de entrada e retornar a propensão da inadimplência"
      ],
      "metadata": {
        "id": "63dnQEjyA6-D"
      }
    },
    {
      "cell_type": "markdown",
      "source": [
        "![image.png](data:image/png;base64,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)"
      ],
      "metadata": {
        "id": "g6B9xTnzA9kC"
      }
    },
    {
      "cell_type": "markdown",
      "source": [
        "Nota: A API só precisa retornar os dados descritos no requisito 4. A criação de um modelo \"fake\" que retorna aleatoriamente a saída desejada desabona apenas o 0,75 ponto dos requisitos 1, 2 e 3."
      ],
      "metadata": {
        "id": "hB6FedRSDL6O"
      }
    },
    {
      "cell_type": "markdown",
      "source": [
        "## 1- Treinar um modelo de propensão à inadimplência em R ou em Python"
      ],
      "metadata": {
        "id": "d3rywnsPDSOh"
      }
    },
    {
      "cell_type": "markdown",
      "source": [
        "Obs.: A implementação desse notebook foi feita em Python. Deve-se trocar o Runtime Type antes de iniciar as execuções"
      ],
      "metadata": {
        "id": "9Ru7u9yHm689"
      }
    },
    {
      "cell_type": "markdown",
      "source": [
        "### Bibliotecas"
      ],
      "metadata": {
        "id": "Co2-uOM_DV-j"
      }
    },
    {
      "cell_type": "code",
      "execution_count": 1,
      "metadata": {
        "id": "e3rkw57FTUzj"
      },
      "outputs": [],
      "source": [
        "import pandas as pd\n",
        "import numpy as np\n",
        "from google.cloud import bigquery\n",
        "from google.colab import auth\n",
        "\n",
        "from sklearn.model_selection import train_test_split\n",
        "from sklearn.linear_model import LogisticRegression\n",
        "from sklearn.metrics import accuracy_score\n",
        "from joblib import dump\n",
        "\n",
        "import matplotlib.pyplot as plt\n",
        "import seaborn as sns"
      ]
    },
    {
      "cell_type": "markdown",
      "source": [
        "### Conexão com o Big Query"
      ],
      "metadata": {
        "id": "BvzDg2zhDehw"
      }
    },
    {
      "cell_type": "code",
      "source": [
        "auth.authenticate_user()"
      ],
      "metadata": {
        "id": "S-LeE5O6TaYg"
      },
      "execution_count": 2,
      "outputs": []
    },
    {
      "cell_type": "code",
      "source": [
        "# Aqui devo fazer a conexão em meu próprio projeto (utilizei o rm347975)\n",
        "project_id = input(\"Por favor, informe o project_id: \")"
      ],
      "metadata": {
        "colab": {
          "base_uri": "https://localhost:8080/"
        },
        "id": "7WkcBE7nTbzK",
        "outputId": "853abe17-35c9-4a95-c4e2-1f1ec28b29f4"
      },
      "execution_count": 3,
      "outputs": [
        {
          "name": "stdout",
          "output_type": "stream",
          "text": [
            "Por favor, informe o project_id: rm347975\n"
          ]
        }
      ]
    },
    {
      "cell_type": "code",
      "source": [
        "clientbq = bigquery.Client(project=project_id)\n",
        "\n",
        "query_sql = f\"\"\"\n",
        "  SELECT *\n",
        "  FROM `emf-teacher.trabalho_loans.loan_default`\n",
        "\"\"\"\n",
        "\n",
        "query_job = clientbq.query(query_sql)  # Make an API request.\n",
        "loans_data = query_job.to_dataframe()"
      ],
      "metadata": {
        "id": "Be2mX8_vTdMy"
      },
      "execution_count": 4,
      "outputs": []
    },
    {
      "cell_type": "code",
      "source": [
        "loans_data.describe()"
      ],
      "metadata": {
        "colab": {
          "base_uri": "https://localhost:8080/",
          "height": 320
        },
        "id": "pH1kXOQxTe-U",
        "outputId": "8b626078-eef2-4c6e-f954-694845eb20c2"
      },
      "execution_count": 5,
      "outputs": [
        {
          "output_type": "execute_result",
          "data": {
            "text/plain": [
              "                 ID      year    loan_amount  rate_of_interest  \\\n",
              "count      148670.0  148670.0       148670.0     112231.000000   \n",
              "mean        99224.5    2019.0  331117.743997          4.045476   \n",
              "std    42917.476598       0.0  183909.310127          0.561391   \n",
              "min         24890.0    2019.0        16500.0          0.000000   \n",
              "25%        62057.25    2019.0       196500.0          3.625000   \n",
              "50%         99224.5    2019.0       296500.0          3.990000   \n",
              "75%       136391.75    2019.0       436500.0          4.375000   \n",
              "max        173559.0    2019.0      3576500.0          8.000000   \n",
              "\n",
              "       Interest_rate_spread  Upfront_charges           term  property_value  \\\n",
              "count         112031.000000    109028.000000  148629.000000    1.335720e+05   \n",
              "mean               0.441656      3224.996127     335.136582    4.978935e+05   \n",
              "std                0.513043      3251.121510      58.409084    3.599353e+05   \n",
              "min               -3.638000         0.000000      96.000000    8.000000e+03   \n",
              "25%                0.076000       581.490000     360.000000    2.680000e+05   \n",
              "50%                0.390400      2596.450000     360.000000    4.180000e+05   \n",
              "75%                0.775400      4812.500000     360.000000    6.280000e+05   \n",
              "max                3.357000     60000.000000     360.000000    1.650800e+07   \n",
              "\n",
              "              income  Credit_Score            LTV    Status          dtir1  \n",
              "count  139520.000000      148670.0  133572.000000  148670.0  124549.000000  \n",
              "mean     6957.338876    699.789103      72.746457  0.246445      37.732932  \n",
              "std      6496.586382    115.875857      39.967603  0.430942      10.545435  \n",
              "min         0.000000         500.0       0.967478       0.0       5.000000  \n",
              "25%      3720.000000         599.0      60.474860       0.0      31.000000  \n",
              "50%      5760.000000         699.0      75.135870       0.0      39.000000  \n",
              "75%      8520.000000         800.0      86.184211       0.0      45.000000  \n",
              "max    578580.000000         900.0    7831.250000       1.0      61.000000  "
            ],
            "text/html": [
              "\n",
              "  <div id=\"df-49aeb3ef-1011-430b-a23e-a58e3379cb01\" class=\"colab-df-container\">\n",
              "    <div>\n",
              "<style scoped>\n",
              "    .dataframe tbody tr th:only-of-type {\n",
              "        vertical-align: middle;\n",
              "    }\n",
              "\n",
              "    .dataframe tbody tr th {\n",
              "        vertical-align: top;\n",
              "    }\n",
              "\n",
              "    .dataframe thead th {\n",
              "        text-align: right;\n",
              "    }\n",
              "</style>\n",
              "<table border=\"1\" class=\"dataframe\">\n",
              "  <thead>\n",
              "    <tr style=\"text-align: right;\">\n",
              "      <th></th>\n",
              "      <th>ID</th>\n",
              "      <th>year</th>\n",
              "      <th>loan_amount</th>\n",
              "      <th>rate_of_interest</th>\n",
              "      <th>Interest_rate_spread</th>\n",
              "      <th>Upfront_charges</th>\n",
              "      <th>term</th>\n",
              "      <th>property_value</th>\n",
              "      <th>income</th>\n",
              "      <th>Credit_Score</th>\n",
              "      <th>LTV</th>\n",
              "      <th>Status</th>\n",
              "      <th>dtir1</th>\n",
              "    </tr>\n",
              "  </thead>\n",
              "  <tbody>\n",
              "    <tr>\n",
              "      <th>count</th>\n",
              "      <td>148670.0</td>\n",
              "      <td>148670.0</td>\n",
              "      <td>148670.0</td>\n",
              "      <td>112231.000000</td>\n",
              "      <td>112031.000000</td>\n",
              "      <td>109028.000000</td>\n",
              "      <td>148629.000000</td>\n",
              "      <td>1.335720e+05</td>\n",
              "      <td>139520.000000</td>\n",
              "      <td>148670.0</td>\n",
              "      <td>133572.000000</td>\n",
              "      <td>148670.0</td>\n",
              "      <td>124549.000000</td>\n",
              "    </tr>\n",
              "    <tr>\n",
              "      <th>mean</th>\n",
              "      <td>99224.5</td>\n",
              "      <td>2019.0</td>\n",
              "      <td>331117.743997</td>\n",
              "      <td>4.045476</td>\n",
              "      <td>0.441656</td>\n",
              "      <td>3224.996127</td>\n",
              "      <td>335.136582</td>\n",
              "      <td>4.978935e+05</td>\n",
              "      <td>6957.338876</td>\n",
              "      <td>699.789103</td>\n",
              "      <td>72.746457</td>\n",
              "      <td>0.246445</td>\n",
              "      <td>37.732932</td>\n",
              "    </tr>\n",
              "    <tr>\n",
              "      <th>std</th>\n",
              "      <td>42917.476598</td>\n",
              "      <td>0.0</td>\n",
              "      <td>183909.310127</td>\n",
              "      <td>0.561391</td>\n",
              "      <td>0.513043</td>\n",
              "      <td>3251.121510</td>\n",
              "      <td>58.409084</td>\n",
              "      <td>3.599353e+05</td>\n",
              "      <td>6496.586382</td>\n",
              "      <td>115.875857</td>\n",
              "      <td>39.967603</td>\n",
              "      <td>0.430942</td>\n",
              "      <td>10.545435</td>\n",
              "    </tr>\n",
              "    <tr>\n",
              "      <th>min</th>\n",
              "      <td>24890.0</td>\n",
              "      <td>2019.0</td>\n",
              "      <td>16500.0</td>\n",
              "      <td>0.000000</td>\n",
              "      <td>-3.638000</td>\n",
              "      <td>0.000000</td>\n",
              "      <td>96.000000</td>\n",
              "      <td>8.000000e+03</td>\n",
              "      <td>0.000000</td>\n",
              "      <td>500.0</td>\n",
              "      <td>0.967478</td>\n",
              "      <td>0.0</td>\n",
              "      <td>5.000000</td>\n",
              "    </tr>\n",
              "    <tr>\n",
              "      <th>25%</th>\n",
              "      <td>62057.25</td>\n",
              "      <td>2019.0</td>\n",
              "      <td>196500.0</td>\n",
              "      <td>3.625000</td>\n",
              "      <td>0.076000</td>\n",
              "      <td>581.490000</td>\n",
              "      <td>360.000000</td>\n",
              "      <td>2.680000e+05</td>\n",
              "      <td>3720.000000</td>\n",
              "      <td>599.0</td>\n",
              "      <td>60.474860</td>\n",
              "      <td>0.0</td>\n",
              "      <td>31.000000</td>\n",
              "    </tr>\n",
              "    <tr>\n",
              "      <th>50%</th>\n",
              "      <td>99224.5</td>\n",
              "      <td>2019.0</td>\n",
              "      <td>296500.0</td>\n",
              "      <td>3.990000</td>\n",
              "      <td>0.390400</td>\n",
              "      <td>2596.450000</td>\n",
              "      <td>360.000000</td>\n",
              "      <td>4.180000e+05</td>\n",
              "      <td>5760.000000</td>\n",
              "      <td>699.0</td>\n",
              "      <td>75.135870</td>\n",
              "      <td>0.0</td>\n",
              "      <td>39.000000</td>\n",
              "    </tr>\n",
              "    <tr>\n",
              "      <th>75%</th>\n",
              "      <td>136391.75</td>\n",
              "      <td>2019.0</td>\n",
              "      <td>436500.0</td>\n",
              "      <td>4.375000</td>\n",
              "      <td>0.775400</td>\n",
              "      <td>4812.500000</td>\n",
              "      <td>360.000000</td>\n",
              "      <td>6.280000e+05</td>\n",
              "      <td>8520.000000</td>\n",
              "      <td>800.0</td>\n",
              "      <td>86.184211</td>\n",
              "      <td>0.0</td>\n",
              "      <td>45.000000</td>\n",
              "    </tr>\n",
              "    <tr>\n",
              "      <th>max</th>\n",
              "      <td>173559.0</td>\n",
              "      <td>2019.0</td>\n",
              "      <td>3576500.0</td>\n",
              "      <td>8.000000</td>\n",
              "      <td>3.357000</td>\n",
              "      <td>60000.000000</td>\n",
              "      <td>360.000000</td>\n",
              "      <td>1.650800e+07</td>\n",
              "      <td>578580.000000</td>\n",
              "      <td>900.0</td>\n",
              "      <td>7831.250000</td>\n",
              "      <td>1.0</td>\n",
              "      <td>61.000000</td>\n",
              "    </tr>\n",
              "  </tbody>\n",
              "</table>\n",
              "</div>\n",
              "    <div class=\"colab-df-buttons\">\n",
              "\n",
              "  <div class=\"colab-df-container\">\n",
              "    <button class=\"colab-df-convert\" onclick=\"convertToInteractive('df-49aeb3ef-1011-430b-a23e-a58e3379cb01')\"\n",
              "            title=\"Convert this dataframe to an interactive table.\"\n",
              "            style=\"display:none;\">\n",
              "\n",
              "  <svg xmlns=\"http://www.w3.org/2000/svg\" height=\"24px\" viewBox=\"0 -960 960 960\">\n",
              "    <path d=\"M120-120v-720h720v720H120Zm60-500h600v-160H180v160Zm220 220h160v-160H400v160Zm0 220h160v-160H400v160ZM180-400h160v-160H180v160Zm440 0h160v-160H620v160ZM180-180h160v-160H180v160Zm440 0h160v-160H620v160Z\"/>\n",
              "  </svg>\n",
              "    </button>\n",
              "\n",
              "  <style>\n",
              "    .colab-df-container {\n",
              "      display:flex;\n",
              "      gap: 12px;\n",
              "    }\n",
              "\n",
              "    .colab-df-convert {\n",
              "      background-color: #E8F0FE;\n",
              "      border: none;\n",
              "      border-radius: 50%;\n",
              "      cursor: pointer;\n",
              "      display: none;\n",
              "      fill: #1967D2;\n",
              "      height: 32px;\n",
              "      padding: 0 0 0 0;\n",
              "      width: 32px;\n",
              "    }\n",
              "\n",
              "    .colab-df-convert:hover {\n",
              "      background-color: #E2EBFA;\n",
              "      box-shadow: 0px 1px 2px rgba(60, 64, 67, 0.3), 0px 1px 3px 1px rgba(60, 64, 67, 0.15);\n",
              "      fill: #174EA6;\n",
              "    }\n",
              "\n",
              "    .colab-df-buttons div {\n",
              "      margin-bottom: 4px;\n",
              "    }\n",
              "\n",
              "    [theme=dark] .colab-df-convert {\n",
              "      background-color: #3B4455;\n",
              "      fill: #D2E3FC;\n",
              "    }\n",
              "\n",
              "    [theme=dark] .colab-df-convert:hover {\n",
              "      background-color: #434B5C;\n",
              "      box-shadow: 0px 1px 3px 1px rgba(0, 0, 0, 0.15);\n",
              "      filter: drop-shadow(0px 1px 2px rgba(0, 0, 0, 0.3));\n",
              "      fill: #FFFFFF;\n",
              "    }\n",
              "  </style>\n",
              "\n",
              "    <script>\n",
              "      const buttonEl =\n",
              "        document.querySelector('#df-49aeb3ef-1011-430b-a23e-a58e3379cb01 button.colab-df-convert');\n",
              "      buttonEl.style.display =\n",
              "        google.colab.kernel.accessAllowed ? 'block' : 'none';\n",
              "\n",
              "      async function convertToInteractive(key) {\n",
              "        const element = document.querySelector('#df-49aeb3ef-1011-430b-a23e-a58e3379cb01');\n",
              "        const dataTable =\n",
              "          await google.colab.kernel.invokeFunction('convertToInteractive',\n",
              "                                                    [key], {});\n",
              "        if (!dataTable) return;\n",
              "\n",
              "        const docLinkHtml = 'Like what you see? Visit the ' +\n",
              "          '<a target=\"_blank\" href=https://colab.research.google.com/notebooks/data_table.ipynb>data table notebook</a>'\n",
              "          + ' to learn more about interactive tables.';\n",
              "        element.innerHTML = '';\n",
              "        dataTable['output_type'] = 'display_data';\n",
              "        await google.colab.output.renderOutput(dataTable, element);\n",
              "        const docLink = document.createElement('div');\n",
              "        docLink.innerHTML = docLinkHtml;\n",
              "        element.appendChild(docLink);\n",
              "      }\n",
              "    </script>\n",
              "  </div>\n",
              "\n",
              "\n",
              "<div id=\"df-85c35d89-0e88-4e9c-b955-bb11b9f63b1f\">\n",
              "  <button class=\"colab-df-quickchart\" onclick=\"quickchart('df-85c35d89-0e88-4e9c-b955-bb11b9f63b1f')\"\n",
              "            title=\"Suggest charts\"\n",
              "            style=\"display:none;\">\n",
              "\n",
              "<svg xmlns=\"http://www.w3.org/2000/svg\" height=\"24px\"viewBox=\"0 0 24 24\"\n",
              "     width=\"24px\">\n",
              "    <g>\n",
              "        <path d=\"M19 3H5c-1.1 0-2 .9-2 2v14c0 1.1.9 2 2 2h14c1.1 0 2-.9 2-2V5c0-1.1-.9-2-2-2zM9 17H7v-7h2v7zm4 0h-2V7h2v10zm4 0h-2v-4h2v4z\"/>\n",
              "    </g>\n",
              "</svg>\n",
              "  </button>\n",
              "\n",
              "<style>\n",
              "  .colab-df-quickchart {\n",
              "      --bg-color: #E8F0FE;\n",
              "      --fill-color: #1967D2;\n",
              "      --hover-bg-color: #E2EBFA;\n",
              "      --hover-fill-color: #174EA6;\n",
              "      --disabled-fill-color: #AAA;\n",
              "      --disabled-bg-color: #DDD;\n",
              "  }\n",
              "\n",
              "  [theme=dark] .colab-df-quickchart {\n",
              "      --bg-color: #3B4455;\n",
              "      --fill-color: #D2E3FC;\n",
              "      --hover-bg-color: #434B5C;\n",
              "      --hover-fill-color: #FFFFFF;\n",
              "      --disabled-bg-color: #3B4455;\n",
              "      --disabled-fill-color: #666;\n",
              "  }\n",
              "\n",
              "  .colab-df-quickchart {\n",
              "    background-color: var(--bg-color);\n",
              "    border: none;\n",
              "    border-radius: 50%;\n",
              "    cursor: pointer;\n",
              "    display: none;\n",
              "    fill: var(--fill-color);\n",
              "    height: 32px;\n",
              "    padding: 0;\n",
              "    width: 32px;\n",
              "  }\n",
              "\n",
              "  .colab-df-quickchart:hover {\n",
              "    background-color: var(--hover-bg-color);\n",
              "    box-shadow: 0 1px 2px rgba(60, 64, 67, 0.3), 0 1px 3px 1px rgba(60, 64, 67, 0.15);\n",
              "    fill: var(--button-hover-fill-color);\n",
              "  }\n",
              "\n",
              "  .colab-df-quickchart-complete:disabled,\n",
              "  .colab-df-quickchart-complete:disabled:hover {\n",
              "    background-color: var(--disabled-bg-color);\n",
              "    fill: var(--disabled-fill-color);\n",
              "    box-shadow: none;\n",
              "  }\n",
              "\n",
              "  .colab-df-spinner {\n",
              "    border: 2px solid var(--fill-color);\n",
              "    border-color: transparent;\n",
              "    border-bottom-color: var(--fill-color);\n",
              "    animation:\n",
              "      spin 1s steps(1) infinite;\n",
              "  }\n",
              "\n",
              "  @keyframes spin {\n",
              "    0% {\n",
              "      border-color: transparent;\n",
              "      border-bottom-color: var(--fill-color);\n",
              "      border-left-color: var(--fill-color);\n",
              "    }\n",
              "    20% {\n",
              "      border-color: transparent;\n",
              "      border-left-color: var(--fill-color);\n",
              "      border-top-color: var(--fill-color);\n",
              "    }\n",
              "    30% {\n",
              "      border-color: transparent;\n",
              "      border-left-color: var(--fill-color);\n",
              "      border-top-color: var(--fill-color);\n",
              "      border-right-color: var(--fill-color);\n",
              "    }\n",
              "    40% {\n",
              "      border-color: transparent;\n",
              "      border-right-color: var(--fill-color);\n",
              "      border-top-color: var(--fill-color);\n",
              "    }\n",
              "    60% {\n",
              "      border-color: transparent;\n",
              "      border-right-color: var(--fill-color);\n",
              "    }\n",
              "    80% {\n",
              "      border-color: transparent;\n",
              "      border-right-color: var(--fill-color);\n",
              "      border-bottom-color: var(--fill-color);\n",
              "    }\n",
              "    90% {\n",
              "      border-color: transparent;\n",
              "      border-bottom-color: var(--fill-color);\n",
              "    }\n",
              "  }\n",
              "</style>\n",
              "\n",
              "  <script>\n",
              "    async function quickchart(key) {\n",
              "      const quickchartButtonEl =\n",
              "        document.querySelector('#' + key + ' button');\n",
              "      quickchartButtonEl.disabled = true;  // To prevent multiple clicks.\n",
              "      quickchartButtonEl.classList.add('colab-df-spinner');\n",
              "      try {\n",
              "        const charts = await google.colab.kernel.invokeFunction(\n",
              "            'suggestCharts', [key], {});\n",
              "      } catch (error) {\n",
              "        console.error('Error during call to suggestCharts:', error);\n",
              "      }\n",
              "      quickchartButtonEl.classList.remove('colab-df-spinner');\n",
              "      quickchartButtonEl.classList.add('colab-df-quickchart-complete');\n",
              "    }\n",
              "    (() => {\n",
              "      let quickchartButtonEl =\n",
              "        document.querySelector('#df-85c35d89-0e88-4e9c-b955-bb11b9f63b1f button');\n",
              "      quickchartButtonEl.style.display =\n",
              "        google.colab.kernel.accessAllowed ? 'block' : 'none';\n",
              "    })();\n",
              "  </script>\n",
              "</div>\n",
              "\n",
              "    </div>\n",
              "  </div>\n"
            ]
          },
          "metadata": {},
          "execution_count": 5
        }
      ]
    },
    {
      "cell_type": "code",
      "source": [
        "loans_data.info()"
      ],
      "metadata": {
        "colab": {
          "base_uri": "https://localhost:8080/"
        },
        "id": "PnGb-23TTgyZ",
        "outputId": "79d7516d-7a8e-44eb-f367-cbbf1762db5f"
      },
      "execution_count": 6,
      "outputs": [
        {
          "output_type": "stream",
          "name": "stdout",
          "text": [
            "<class 'pandas.core.frame.DataFrame'>\n",
            "RangeIndex: 148670 entries, 0 to 148669\n",
            "Data columns (total 34 columns):\n",
            " #   Column                     Non-Null Count   Dtype  \n",
            "---  ------                     --------------   -----  \n",
            " 0   ID                         148670 non-null  Int64  \n",
            " 1   year                       148670 non-null  Int64  \n",
            " 2   loan_limit                 145326 non-null  object \n",
            " 3   Gender                     148670 non-null  object \n",
            " 4   approv_in_adv              147762 non-null  object \n",
            " 5   loan_type                  148670 non-null  object \n",
            " 6   loan_purpose               148536 non-null  object \n",
            " 7   Credit_Worthiness          148670 non-null  object \n",
            " 8   open_credit                148670 non-null  object \n",
            " 9   business_or_commercial     148670 non-null  object \n",
            " 10  loan_amount                148670 non-null  Int64  \n",
            " 11  rate_of_interest           112231 non-null  float64\n",
            " 12  Interest_rate_spread       112031 non-null  float64\n",
            " 13  Upfront_charges            109028 non-null  float64\n",
            " 14  term                       148629 non-null  float64\n",
            " 15  Neg_ammortization          148549 non-null  object \n",
            " 16  interest_only              148670 non-null  object \n",
            " 17  lump_sum_payment           148670 non-null  object \n",
            " 18  property_value             133572 non-null  float64\n",
            " 19  construction_type          148670 non-null  object \n",
            " 20  occupancy_type             148670 non-null  object \n",
            " 21  Secured_by                 148670 non-null  object \n",
            " 22  total_units                148670 non-null  object \n",
            " 23  income                     139520 non-null  float64\n",
            " 24  credit_type                148670 non-null  object \n",
            " 25  Credit_Score               148670 non-null  Int64  \n",
            " 26  co_applicant_credit_type   148670 non-null  object \n",
            " 27  age                        148470 non-null  object \n",
            " 28  submission_of_application  148670 non-null  object \n",
            " 29  LTV                        133572 non-null  float64\n",
            " 30  Region                     148670 non-null  object \n",
            " 31  Security_Type              148670 non-null  object \n",
            " 32  Status                     148670 non-null  Int64  \n",
            " 33  dtir1                      124549 non-null  float64\n",
            "dtypes: Int64(5), float64(8), object(21)\n",
            "memory usage: 39.3+ MB\n"
          ]
        }
      ]
    },
    {
      "cell_type": "markdown",
      "source": [
        "### Preparação dos dados"
      ],
      "metadata": {
        "id": "sJ1FAxwGTjSc"
      }
    },
    {
      "cell_type": "code",
      "source": [
        "# Verificar quais colunas possuem valores nulos\n",
        "print(loans_data.columns[loans_data.isnull().any()])"
      ],
      "metadata": {
        "colab": {
          "base_uri": "https://localhost:8080/"
        },
        "id": "3xq1ZyQMTlI1",
        "outputId": "5e9d4dd3-e9d1-4ee9-fcf6-4aa39d0046a5"
      },
      "execution_count": 7,
      "outputs": [
        {
          "output_type": "stream",
          "name": "stdout",
          "text": [
            "Index(['loan_limit', 'approv_in_adv', 'loan_purpose', 'rate_of_interest',\n",
            "       'Interest_rate_spread', 'Upfront_charges', 'term', 'Neg_ammortization',\n",
            "       'property_value', 'income', 'age', 'LTV', 'dtir1'],\n",
            "      dtype='object')\n"
          ]
        }
      ]
    },
    {
      "cell_type": "code",
      "source": [
        "# Remover linhas onde as colunas categóricas são nulas\n",
        "loans_data = loans_data.dropna(subset=['loan_limit'])\n",
        "loans_data = loans_data.dropna(subset=['approv_in_adv'])\n",
        "loans_data = loans_data.dropna(subset=['loan_purpose'])\n",
        "loans_data = loans_data.dropna(subset=['Neg_ammortization'])\n",
        "loans_data = loans_data.dropna(subset=['age'])"
      ],
      "metadata": {
        "id": "jEBaEboaTm4v"
      },
      "execution_count": 8,
      "outputs": []
    },
    {
      "cell_type": "code",
      "source": [
        "# Substituir os valores nulos pela mediana\n",
        "loans_data.loc[:, 'rate_of_interest'] = loans_data['rate_of_interest'].fillna(loans_data['rate_of_interest'].median())\n",
        "loans_data.loc[:, 'Interest_rate_spread'] = loans_data['Interest_rate_spread'].fillna(loans_data['Interest_rate_spread'].median())\n",
        "loans_data.loc[:, 'Upfront_charges'] = loans_data['Upfront_charges'].fillna(loans_data['Upfront_charges'].median())\n",
        "loans_data.loc[:, 'term'] = loans_data['term'].fillna(loans_data['term'].median())\n",
        "loans_data.loc[:, 'property_value'] = loans_data['property_value'].fillna(loans_data['property_value'].median())\n",
        "loans_data.loc[:, 'income'] = loans_data['income'].fillna(loans_data['income'].median())\n",
        "loans_data.loc[:, 'LTV'] = loans_data['LTV'].fillna(loans_data['LTV'].median())\n",
        "loans_data.loc[:, 'dtir1'] = loans_data['dtir1'].fillna(loans_data['dtir1'].median())"
      ],
      "metadata": {
        "id": "cw2mifUUToZ0"
      },
      "execution_count": 9,
      "outputs": []
    },
    {
      "cell_type": "code",
      "source": [
        "# Conferindo se sobraram colunas com valores nulos\n",
        "print(loans_data.columns[loans_data.isnull().any()])"
      ],
      "metadata": {
        "colab": {
          "base_uri": "https://localhost:8080/"
        },
        "id": "vZtiXrruTrvU",
        "outputId": "8cb1f2cf-902c-40ff-b10f-3d87e38b8b79"
      },
      "execution_count": 10,
      "outputs": [
        {
          "output_type": "stream",
          "name": "stdout",
          "text": [
            "Index([], dtype='object')\n"
          ]
        }
      ]
    },
    {
      "cell_type": "code",
      "source": [
        "nomes_colunas  =   [\"loan_limit\",               \"approv_in_adv\",        \"loan_type\",\n",
        "                    \"loan_purpose\",             \"Credit_Worthiness\",     \"Interest_rate_spread\",\n",
        "                    \"Neg_ammortization\",        \"interest_only\",         \"lump_sum_payment\",\n",
        "                    \"occupancy_type\",           \"total_units\",           \"credit_type\",\n",
        "                    \"co_applicant_credit_type\", \"age\",                   \"submission_of_application\",\n",
        "                    \"Region\",                   \"Status\"]\n",
        "loans_data_classif = loans_data.loc[:, nomes_colunas]\n",
        "\n",
        "loans_data_classif.info()"
      ],
      "metadata": {
        "colab": {
          "base_uri": "https://localhost:8080/"
        },
        "id": "yM_IyFOUTz4a",
        "outputId": "cf1de040-0726-4707-f15d-06d408240e5a"
      },
      "execution_count": 11,
      "outputs": [
        {
          "output_type": "stream",
          "name": "stdout",
          "text": [
            "<class 'pandas.core.frame.DataFrame'>\n",
            "Int64Index: 143983 entries, 0 to 148669\n",
            "Data columns (total 17 columns):\n",
            " #   Column                     Non-Null Count   Dtype  \n",
            "---  ------                     --------------   -----  \n",
            " 0   loan_limit                 143983 non-null  object \n",
            " 1   approv_in_adv              143983 non-null  object \n",
            " 2   loan_type                  143983 non-null  object \n",
            " 3   loan_purpose               143983 non-null  object \n",
            " 4   Credit_Worthiness          143983 non-null  object \n",
            " 5   Interest_rate_spread       143983 non-null  float64\n",
            " 6   Neg_ammortization          143983 non-null  object \n",
            " 7   interest_only              143983 non-null  object \n",
            " 8   lump_sum_payment           143983 non-null  object \n",
            " 9   occupancy_type             143983 non-null  object \n",
            " 10  total_units                143983 non-null  object \n",
            " 11  credit_type                143983 non-null  object \n",
            " 12  co_applicant_credit_type   143983 non-null  object \n",
            " 13  age                        143983 non-null  object \n",
            " 14  submission_of_application  143983 non-null  object \n",
            " 15  Region                     143983 non-null  object \n",
            " 16  Status                     143983 non-null  Int64  \n",
            "dtypes: Int64(1), float64(1), object(15)\n",
            "memory usage: 19.9+ MB\n"
          ]
        }
      ]
    },
    {
      "cell_type": "code",
      "source": [
        "# Usando o método one-hot-encode para tratar as variáveis categóricas\n",
        "loans_data_classif = pd.get_dummies(loans_data_classif, columns=['loan_limit'])\n",
        "loans_data_classif = pd.get_dummies(loans_data_classif, columns=['approv_in_adv'])\n",
        "loans_data_classif = pd.get_dummies(loans_data_classif, columns=['loan_type'])\n",
        "loans_data_classif = pd.get_dummies(loans_data_classif, columns=['loan_purpose'])\n",
        "loans_data_classif = pd.get_dummies(loans_data_classif, columns=['Credit_Worthiness'])\n",
        "loans_data_classif = pd.get_dummies(loans_data_classif, columns=['Neg_ammortization'])\n",
        "loans_data_classif = pd.get_dummies(loans_data_classif, columns=['interest_only'])\n",
        "loans_data_classif = pd.get_dummies(loans_data_classif, columns=['lump_sum_payment'])\n",
        "loans_data_classif = pd.get_dummies(loans_data_classif, columns=['occupancy_type'])\n",
        "loans_data_classif = pd.get_dummies(loans_data_classif, columns=['credit_type'])\n",
        "loans_data_classif = pd.get_dummies(loans_data_classif, columns=['total_units'])\n",
        "loans_data_classif = pd.get_dummies(loans_data_classif, columns=['co_applicant_credit_type'])\n",
        "loans_data_classif = pd.get_dummies(loans_data_classif, columns=['age'])\n",
        "loans_data_classif = pd.get_dummies(loans_data_classif, columns=['submission_of_application'])\n",
        "loans_data_classif = pd.get_dummies(loans_data_classif, columns=['Region'])"
      ],
      "metadata": {
        "id": "orJaV2TIUFlQ"
      },
      "execution_count": 12,
      "outputs": []
    },
    {
      "cell_type": "code",
      "source": [
        "# Forçando a ordem das colunas definida\n",
        "ordem_colunas = ['Interest_rate_spread','loan_limit_cf','approv_in_adv_nopre','loan_type_type3','loan_purpose_p4','Credit_Worthiness_l1','Neg_ammortization_not_neg','interest_only_not_int','lump_sum_payment_lpsm','occupancy_type_ir','credit_type_CRIF','total_units_1U','co_applicant_credit_type_EXP','age_25-34','submission_of_application_to_inst','Region_North','loan_limit_ncf','approv_in_adv_pre','loan_type_type1','loan_type_type2','loan_purpose_p1','loan_purpose_p2','loan_purpose_p3','Credit_Worthiness_l2','Neg_ammortization_neg_amm','interest_only_int_only','lump_sum_payment_not_lpsm','occupancy_type_pr','occupancy_type_sr','credit_type_CIB','credit_type_EQUI','credit_type_EXP','total_units_2U','total_units_3U','total_units_4U','co_applicant_credit_type_CIB','age_35-44','age_45-54','age_55-64','age_65-74','age_<25','age_>74','submission_of_application_not_inst','Region_North-East','Region_central','Region_south','Status']\n",
        "loans_data_classif = loans_data_classif.reindex(columns=ordem_colunas)"
      ],
      "metadata": {
        "id": "qx-NRBDId5JM"
      },
      "execution_count": 13,
      "outputs": []
    },
    {
      "cell_type": "code",
      "source": [
        "loans_data_classif.info()"
      ],
      "metadata": {
        "colab": {
          "base_uri": "https://localhost:8080/"
        },
        "id": "hrjvVGGxUHtA",
        "outputId": "1a1059e2-462e-41fb-fbb0-b3e7f4af53f6"
      },
      "execution_count": 14,
      "outputs": [
        {
          "output_type": "stream",
          "name": "stdout",
          "text": [
            "<class 'pandas.core.frame.DataFrame'>\n",
            "Int64Index: 143983 entries, 0 to 148669\n",
            "Data columns (total 47 columns):\n",
            " #   Column                              Non-Null Count   Dtype  \n",
            "---  ------                              --------------   -----  \n",
            " 0   Interest_rate_spread                143983 non-null  float64\n",
            " 1   loan_limit_cf                       143983 non-null  uint8  \n",
            " 2   approv_in_adv_nopre                 143983 non-null  uint8  \n",
            " 3   loan_type_type3                     143983 non-null  uint8  \n",
            " 4   loan_purpose_p4                     143983 non-null  uint8  \n",
            " 5   Credit_Worthiness_l1                143983 non-null  uint8  \n",
            " 6   Neg_ammortization_not_neg           143983 non-null  uint8  \n",
            " 7   interest_only_not_int               143983 non-null  uint8  \n",
            " 8   lump_sum_payment_lpsm               143983 non-null  uint8  \n",
            " 9   occupancy_type_ir                   143983 non-null  uint8  \n",
            " 10  credit_type_CRIF                    143983 non-null  uint8  \n",
            " 11  total_units_1U                      143983 non-null  uint8  \n",
            " 12  co_applicant_credit_type_EXP        143983 non-null  uint8  \n",
            " 13  age_25-34                           143983 non-null  uint8  \n",
            " 14  submission_of_application_to_inst   143983 non-null  uint8  \n",
            " 15  Region_North                        143983 non-null  uint8  \n",
            " 16  loan_limit_ncf                      143983 non-null  uint8  \n",
            " 17  approv_in_adv_pre                   143983 non-null  uint8  \n",
            " 18  loan_type_type1                     143983 non-null  uint8  \n",
            " 19  loan_type_type2                     143983 non-null  uint8  \n",
            " 20  loan_purpose_p1                     143983 non-null  uint8  \n",
            " 21  loan_purpose_p2                     143983 non-null  uint8  \n",
            " 22  loan_purpose_p3                     143983 non-null  uint8  \n",
            " 23  Credit_Worthiness_l2                143983 non-null  uint8  \n",
            " 24  Neg_ammortization_neg_amm           143983 non-null  uint8  \n",
            " 25  interest_only_int_only              143983 non-null  uint8  \n",
            " 26  lump_sum_payment_not_lpsm           143983 non-null  uint8  \n",
            " 27  occupancy_type_pr                   143983 non-null  uint8  \n",
            " 28  occupancy_type_sr                   143983 non-null  uint8  \n",
            " 29  credit_type_CIB                     143983 non-null  uint8  \n",
            " 30  credit_type_EQUI                    143983 non-null  uint8  \n",
            " 31  credit_type_EXP                     143983 non-null  uint8  \n",
            " 32  total_units_2U                      143983 non-null  uint8  \n",
            " 33  total_units_3U                      143983 non-null  uint8  \n",
            " 34  total_units_4U                      143983 non-null  uint8  \n",
            " 35  co_applicant_credit_type_CIB        143983 non-null  uint8  \n",
            " 36  age_35-44                           143983 non-null  uint8  \n",
            " 37  age_45-54                           143983 non-null  uint8  \n",
            " 38  age_55-64                           143983 non-null  uint8  \n",
            " 39  age_65-74                           143983 non-null  uint8  \n",
            " 40  age_<25                             143983 non-null  uint8  \n",
            " 41  age_>74                             143983 non-null  uint8  \n",
            " 42  submission_of_application_not_inst  143983 non-null  uint8  \n",
            " 43  Region_North-East                   143983 non-null  uint8  \n",
            " 44  Region_central                      143983 non-null  uint8  \n",
            " 45  Region_south                        143983 non-null  uint8  \n",
            " 46  Status                              143983 non-null  Int64  \n",
            "dtypes: Int64(1), float64(1), uint8(45)\n",
            "memory usage: 9.6 MB\n"
          ]
        }
      ]
    },
    {
      "cell_type": "markdown",
      "source": [
        "### Treino do modelo - Regressão Logística"
      ],
      "metadata": {
        "id": "fdSKs3bDUK29"
      }
    },
    {
      "cell_type": "code",
      "source": [
        "# Separar os dados em features (X) e target (y)\n",
        "X = loans_data_classif.drop('Status', axis=1)\n",
        "y = loans_data_classif['Status']"
      ],
      "metadata": {
        "id": "2fB5Gdx4jb7G"
      },
      "execution_count": 15,
      "outputs": []
    },
    {
      "cell_type": "code",
      "source": [
        "# Dividir os dados em conjunto de treinamento e teste\n",
        "X_train, X_test, y_train, y_test = train_test_split(X, y, test_size=0.2, random_state=42)"
      ],
      "metadata": {
        "id": "Fuy98SkPj7iI"
      },
      "execution_count": 16,
      "outputs": []
    },
    {
      "cell_type": "code",
      "source": [
        "# Dividir os dados em conjunto de treinamento e teste\n",
        "X_train, X_test, y_train, y_test = train_test_split(X, y, test_size=0.2, random_state=42)"
      ],
      "metadata": {
        "id": "4KJuBBYLk-uQ"
      },
      "execution_count": 17,
      "outputs": []
    },
    {
      "cell_type": "code",
      "source": [
        "# Inicializar e treinar o modelo de regressão logística\n",
        "model = LogisticRegression()\n",
        "model.fit(X_train, y_train)"
      ],
      "metadata": {
        "colab": {
          "base_uri": "https://localhost:8080/",
          "height": 223
        },
        "id": "zkKISop6lA9I",
        "outputId": "cc1a8da9-a7ac-4547-cc29-43ccaf8c5078"
      },
      "execution_count": 18,
      "outputs": [
        {
          "output_type": "stream",
          "name": "stderr",
          "text": [
            "/usr/local/lib/python3.10/dist-packages/sklearn/linear_model/_logistic.py:458: ConvergenceWarning: lbfgs failed to converge (status=1):\n",
            "STOP: TOTAL NO. of ITERATIONS REACHED LIMIT.\n",
            "\n",
            "Increase the number of iterations (max_iter) or scale the data as shown in:\n",
            "    https://scikit-learn.org/stable/modules/preprocessing.html\n",
            "Please also refer to the documentation for alternative solver options:\n",
            "    https://scikit-learn.org/stable/modules/linear_model.html#logistic-regression\n",
            "  n_iter_i = _check_optimize_result(\n"
          ]
        },
        {
          "output_type": "execute_result",
          "data": {
            "text/plain": [
              "LogisticRegression()"
            ],
            "text/html": [
              "<style>#sk-container-id-1 {color: black;background-color: white;}#sk-container-id-1 pre{padding: 0;}#sk-container-id-1 div.sk-toggleable {background-color: white;}#sk-container-id-1 label.sk-toggleable__label {cursor: pointer;display: block;width: 100%;margin-bottom: 0;padding: 0.3em;box-sizing: border-box;text-align: center;}#sk-container-id-1 label.sk-toggleable__label-arrow:before {content: \"▸\";float: left;margin-right: 0.25em;color: #696969;}#sk-container-id-1 label.sk-toggleable__label-arrow:hover:before {color: black;}#sk-container-id-1 div.sk-estimator:hover label.sk-toggleable__label-arrow:before {color: black;}#sk-container-id-1 div.sk-toggleable__content {max-height: 0;max-width: 0;overflow: hidden;text-align: left;background-color: #f0f8ff;}#sk-container-id-1 div.sk-toggleable__content pre {margin: 0.2em;color: black;border-radius: 0.25em;background-color: #f0f8ff;}#sk-container-id-1 input.sk-toggleable__control:checked~div.sk-toggleable__content {max-height: 200px;max-width: 100%;overflow: auto;}#sk-container-id-1 input.sk-toggleable__control:checked~label.sk-toggleable__label-arrow:before {content: \"▾\";}#sk-container-id-1 div.sk-estimator input.sk-toggleable__control:checked~label.sk-toggleable__label {background-color: #d4ebff;}#sk-container-id-1 div.sk-label input.sk-toggleable__control:checked~label.sk-toggleable__label {background-color: #d4ebff;}#sk-container-id-1 input.sk-hidden--visually {border: 0;clip: rect(1px 1px 1px 1px);clip: rect(1px, 1px, 1px, 1px);height: 1px;margin: -1px;overflow: hidden;padding: 0;position: absolute;width: 1px;}#sk-container-id-1 div.sk-estimator {font-family: monospace;background-color: #f0f8ff;border: 1px dotted black;border-radius: 0.25em;box-sizing: border-box;margin-bottom: 0.5em;}#sk-container-id-1 div.sk-estimator:hover {background-color: #d4ebff;}#sk-container-id-1 div.sk-parallel-item::after {content: \"\";width: 100%;border-bottom: 1px solid gray;flex-grow: 1;}#sk-container-id-1 div.sk-label:hover label.sk-toggleable__label {background-color: #d4ebff;}#sk-container-id-1 div.sk-serial::before {content: \"\";position: absolute;border-left: 1px solid gray;box-sizing: border-box;top: 0;bottom: 0;left: 50%;z-index: 0;}#sk-container-id-1 div.sk-serial {display: flex;flex-direction: column;align-items: center;background-color: white;padding-right: 0.2em;padding-left: 0.2em;position: relative;}#sk-container-id-1 div.sk-item {position: relative;z-index: 1;}#sk-container-id-1 div.sk-parallel {display: flex;align-items: stretch;justify-content: center;background-color: white;position: relative;}#sk-container-id-1 div.sk-item::before, #sk-container-id-1 div.sk-parallel-item::before {content: \"\";position: absolute;border-left: 1px solid gray;box-sizing: border-box;top: 0;bottom: 0;left: 50%;z-index: -1;}#sk-container-id-1 div.sk-parallel-item {display: flex;flex-direction: column;z-index: 1;position: relative;background-color: white;}#sk-container-id-1 div.sk-parallel-item:first-child::after {align-self: flex-end;width: 50%;}#sk-container-id-1 div.sk-parallel-item:last-child::after {align-self: flex-start;width: 50%;}#sk-container-id-1 div.sk-parallel-item:only-child::after {width: 0;}#sk-container-id-1 div.sk-dashed-wrapped {border: 1px dashed gray;margin: 0 0.4em 0.5em 0.4em;box-sizing: border-box;padding-bottom: 0.4em;background-color: white;}#sk-container-id-1 div.sk-label label {font-family: monospace;font-weight: bold;display: inline-block;line-height: 1.2em;}#sk-container-id-1 div.sk-label-container {text-align: center;}#sk-container-id-1 div.sk-container {/* jupyter's `normalize.less` sets `[hidden] { display: none; }` but bootstrap.min.css set `[hidden] { display: none !important; }` so we also need the `!important` here to be able to override the default hidden behavior on the sphinx rendered scikit-learn.org. See: https://github.com/scikit-learn/scikit-learn/issues/21755 */display: inline-block !important;position: relative;}#sk-container-id-1 div.sk-text-repr-fallback {display: none;}</style><div id=\"sk-container-id-1\" class=\"sk-top-container\"><div class=\"sk-text-repr-fallback\"><pre>LogisticRegression()</pre><b>In a Jupyter environment, please rerun this cell to show the HTML representation or trust the notebook. <br />On GitHub, the HTML representation is unable to render, please try loading this page with nbviewer.org.</b></div><div class=\"sk-container\" hidden><div class=\"sk-item\"><div class=\"sk-estimator sk-toggleable\"><input class=\"sk-toggleable__control sk-hidden--visually\" id=\"sk-estimator-id-1\" type=\"checkbox\" checked><label for=\"sk-estimator-id-1\" class=\"sk-toggleable__label sk-toggleable__label-arrow\">LogisticRegression</label><div class=\"sk-toggleable__content\"><pre>LogisticRegression()</pre></div></div></div></div></div>"
            ]
          },
          "metadata": {},
          "execution_count": 18
        }
      ]
    },
    {
      "cell_type": "code",
      "source": [
        "# Salvar o modelo em um arquivo\n",
        "dump(model, 'logReg_model.pkl')"
      ],
      "metadata": {
        "colab": {
          "base_uri": "https://localhost:8080/"
        },
        "id": "F0ViTOA0mPYY",
        "outputId": "55fd2bea-ec9d-4b0d-c236-2ce8a1c9c5b3"
      },
      "execution_count": 19,
      "outputs": [
        {
          "output_type": "execute_result",
          "data": {
            "text/plain": [
              "['logReg_model.pkl']"
            ]
          },
          "metadata": {},
          "execution_count": 19
        }
      ]
    },
    {
      "cell_type": "code",
      "source": [
        "# Fazer previsões no conjunto de teste\n",
        "y_pred = model.predict(X_test)"
      ],
      "metadata": {
        "id": "mDBtDlP0lD_s"
      },
      "execution_count": 20,
      "outputs": []
    },
    {
      "cell_type": "code",
      "source": [
        "# Calcular a acurácia\n",
        "accuracy = accuracy_score(y_test, y_pred)\n",
        "print(\"Acurácia do modelo de regressão logística: {:.2f}%\".format(accuracy * 100))"
      ],
      "metadata": {
        "colab": {
          "base_uri": "https://localhost:8080/"
        },
        "id": "RQevhMYnlHHh",
        "outputId": "76d0c729-f7c7-4834-d9a0-f6154719779d"
      },
      "execution_count": 21,
      "outputs": [
        {
          "output_type": "stream",
          "name": "stdout",
          "text": [
            "Acurácia do modelo de regressão logística: 86.90%\n"
          ]
        }
      ]
    },
    {
      "cell_type": "markdown",
      "source": [
        "## 4- Criação da API"
      ],
      "metadata": {
        "id": "IwFxI6768PeF"
      }
    },
    {
      "cell_type": "markdown",
      "source": [
        "### Criação da API Flask"
      ],
      "metadata": {
        "id": "BWyOspHToU9p"
      }
    },
    {
      "cell_type": "markdown",
      "source": [
        "#### Tentativa pelo Google Colab"
      ],
      "metadata": {
        "id": "Xf3ncbkqodw-"
      }
    },
    {
      "cell_type": "markdown",
      "source": [
        "Conforme pudemos verificar nos testes da API Plumber (R), o Google Colab possui particularidades, que dificultam a criação da API por aqui.\n",
        "Desta forma, utilizamos o Jupyter Notebook para implementarmos a próxima parte."
      ],
      "metadata": {
        "id": "8mYAq7fpoetB"
      }
    },
    {
      "cell_type": "markdown",
      "source": [
        "#### Tentativa pelo Jupyter Notebook"
      ],
      "metadata": {
        "id": "I2mUh3DroXnx"
      }
    },
    {
      "cell_type": "markdown",
      "source": [
        "Foi implementado o arquivo **api_parte1.py** no Jupyter Notebook.\n",
        "É importante salvar o arquivo do modelo obtido durante o treino do modelo em sua pasta, respeitando essa organização:\n",
        "\n",
        "- root->\n",
        "  - api_parte1.py\n",
        "  - config->\n",
        "    - logReg_model.pkl"
      ],
      "metadata": {
        "id": "uZh5eDsypop8"
      }
    },
    {
      "cell_type": "markdown",
      "source": [
        "Código Fonte:\n",
        "\n",
        "\n",
        "```\n",
        "from flask import Flask, request, jsonify\n",
        "import numpy as np\n",
        "import pandas as pd\n",
        "import joblib\n",
        "\n",
        "# Funções de apoio\n",
        "# -------------------------------------------------------------------------------------------------------\n",
        "def init():\n",
        "    global modelo_rlog\n",
        "\n",
        "    # Carregar o modelo de Regressão Logística\n",
        "    modelo_rlog = joblib.load('./config/logReg_model.pkl')\n",
        "\n",
        "def one_hot_encode_columns(df, columns):\n",
        "    for column in columns:\n",
        "        df = pd.get_dummies(df, columns=[column])\n",
        "    return df  \n",
        "\n",
        "# Definições da API\n",
        "# -------------------------------------------------------------------------------------------------------\n",
        "app = Flask(__name__)\n",
        "\n",
        "@app.route('/predict', methods=['POST'])\n",
        "def predict():\n",
        "    # Obter os dados do cliente do request\n",
        "    data = request.get_json()\n",
        "    features = data['features']\n",
        "    loans_data_classif = pd.DataFrame(features)\n",
        "\n",
        "    # Tratando as colunas categóricas\n",
        "    columns_to_encode = ['loan_limit', 'approv_in_adv', 'loan_type', 'loan_purpose', 'Credit_Worthiness',\n",
        "                         'Neg_ammortization', 'interest_only', 'lump_sum_payment', 'occupancy_type',\n",
        "                         'credit_type', 'total_units', 'co_applicant_credit_type', 'age',\n",
        "                         'submission_of_application', 'Region']    \n",
        "    loans_data_classif = one_hot_encode_columns(loans_data_classif, columns_to_encode)\n",
        "\n",
        "\n",
        "    # Garantindo que todas as colunas necessárias estão no dataset\n",
        "    columns_to_check = ['loan_limit_cf', 'loan_limit_ncf',\n",
        "                        'approv_in_adv_nopre', 'approv_in_adv_pre',\n",
        "                        'loan_type_type1', 'loan_type_type2', 'loan_type_type3',\n",
        "                        'loan_purpose_p1', 'loan_purpose_p2', 'loan_purpose_p3', 'loan_purpose_p4',\n",
        "                        'Credit_Worthiness_l1', 'Credit_Worthiness_l2',\n",
        "                        'Neg_ammortization_neg_amm', 'Neg_ammortization_not_neg',\n",
        "                        'interest_only_int_only', 'interest_only_not_int',\n",
        "                        'lump_sum_payment_lpsm', 'lump_sum_payment_not_lpsm',\n",
        "                        'occupancy_type_ir', 'occupancy_type_pr', 'occupancy_type_sr',\n",
        "                        'credit_type_CIB', 'credit_type_CRIF', 'credit_type_EQUI', 'credit_type_EXP',\n",
        "                        'total_units_1U', 'total_units_2U', 'total_units_3U', 'total_units_4U',\n",
        "                        'co_applicant_credit_type_CIB', 'co_applicant_credit_type_EXP',\n",
        "                        'age_25-34', 'age_35-44', 'age_45-54', 'age_55-64', 'age_65-74', 'age_<25', 'age_>74',\n",
        "                        'submission_of_application_not_inst', 'submission_of_application_to_inst',\n",
        "                        'Region_North', 'Region_North-East', 'Region_central', 'Region_south'\n",
        "                        ]\n",
        "    \n",
        "    # Verificar se as colunas estão presentes, atribuindo False para as colunas ausentes\n",
        "    missing_columns = [col for col in columns_to_check if col not in loans_data_classif.columns]\n",
        "    for col in missing_columns:\n",
        "        loans_data_classif[col] = False\n",
        "\n",
        "    # Forçando a ordem das colunas definida\n",
        "    ordem_colunas = ['Interest_rate_spread','loan_limit_cf','approv_in_adv_nopre','loan_type_type3','loan_purpose_p4','Credit_Worthiness_l1','Neg_ammortization_not_neg','interest_only_not_int','lump_sum_payment_lpsm','occupancy_type_ir','credit_type_CRIF','total_units_1U','co_applicant_credit_type_EXP','age_25-34','submission_of_application_to_inst','Region_North','loan_limit_ncf','approv_in_adv_pre','loan_type_type1','loan_type_type2','loan_purpose_p1','loan_purpose_p2','loan_purpose_p3','Credit_Worthiness_l2','Neg_ammortization_neg_amm','interest_only_int_only','lump_sum_payment_not_lpsm','occupancy_type_pr','occupancy_type_sr','credit_type_CIB','credit_type_EQUI','credit_type_EXP','total_units_2U','total_units_3U','total_units_4U','co_applicant_credit_type_CIB','age_35-44','age_45-54','age_55-64','age_65-74','age_<25','age_>74','submission_of_application_not_inst','Region_North-East','Region_central','Region_south']\n",
        "    loans_data_classif = loans_data_classif.reindex(columns=ordem_colunas)\n",
        "    \n",
        "    # Executar a predição da propensão de inadimplência através do modelo de Regressão Logística\n",
        "    # scaled_features = modelo_rlog.fit(loans_data_classif)\n",
        "    propensao = modelo_rlog.predict(loans_data_classif)[0]\n",
        "    \n",
        "    # Retornar os resultados como JSON\n",
        "    return jsonify({\n",
        "        'propension': int(propensao)\n",
        "    })\n",
        "    \n",
        "    # return loans_data_classif.to_json(orient=\"records\")\n",
        "\n",
        "# Definir a rota raiz\n",
        "@app.route(\"/\", methods=['GET', 'POST'])\n",
        "def call_home(request = request):\n",
        "    print(request.values)\n",
        "    return \"Parte_1: Server is ready to be used!!!\\n\"\n",
        "\n",
        "if __name__ == '__main__':\n",
        "    init()\n",
        "    app.run(port=8080, host = '0.0.0.0')\n",
        "```\n",
        "\n"
      ],
      "metadata": {
        "id": "5YFVYjTro6A_"
      }
    },
    {
      "cell_type": "markdown",
      "source": [
        "Para executar a API localmente, devemos executar no Terminal ou CMD o arquivo **api_parte1.py**:\n",
        "\n",
        "```\n",
        "python api_parte1.py\n",
        "```\n",
        "\n"
      ],
      "metadata": {
        "id": "LSJKnDNFpX6Z"
      }
    },
    {
      "cell_type": "markdown",
      "source": [
        "Abaixo, evidências do teste."
      ],
      "metadata": {
        "id": "sZpqznuVqeRc"
      }
    },
    {
      "cell_type": "markdown",
      "source": [
        "![image.png](data:image/png;base64,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)"
      ],
      "metadata": {
        "id": "5Au3Qe7ZqtRZ"
      }
    },
    {
      "cell_type": "markdown",
      "source": [
        "URL da API: http://127.0.0.1:8080/predict\n",
        "\n",
        "Exemplo de payload:\n",
        "```\n",
        "{\n",
        "    \"features\": [\n",
        "        {\n",
        "            \"loan_limit\": \"cf\",\n",
        "            \"approv_in_adv\": \"nopre\",\n",
        "            \"loan_type\": \"type3\",\n",
        "            \"loan_purpose\": \"p4\",\n",
        "            \"Credit_Worthiness\": \"l1\",\n",
        "            \"Interest_rate_spread\": 10.39,\n",
        "            \"Neg_ammortization\": \"not_neg\",\n",
        "            \"interest_only\": \"not_int\",\n",
        "            \"lump_sum_payment\": \"lpsm\",\n",
        "            \"occupancy_type\": \"ir\",\n",
        "            \"total_units\": \"4U\",\n",
        "            \"credit_type\": \"CRIF\",\n",
        "            \"co_applicant_credit_type\": \"EXP\",\n",
        "            \"age\": \"25-34\",\n",
        "            \"submission_of_application\": \"to_inst\",\n",
        "            \"Region\": \"North\"\n",
        "        }\n",
        "    ]\n",
        "}\n",
        "```"
      ],
      "metadata": {
        "id": "jyDKBftEq0S7"
      }
    },
    {
      "cell_type": "markdown",
      "source": [
        "Evidência da execução no Postman:\n",
        "\n",
        "![image.png](data:image/png;base64,iVBORw0KGgoAAAANSUhEUgAAA7QAAAIeCAYAAACLN0OSAAAAAXNSR0IArs4c6QAAAARnQU1BAACxjwv8YQUAAAAJcEhZcwAADsMAAA7DAcdvqGQAAO+4SURBVHhe7N0JXFVl/j/wDwlcQLm4gUYgsqgJmojVSOqICbkV5hLmuJXaFD9ttPHXz238lX/H1OnnjM7kUONSuUxlLqOOuadOGk4l4iiYCRZiLuACF0Vw4/885z53YbuAXJarn/erk+d5nnPOPee55x7u9z7PeY5TYGBgEYiIiIiIiIhqkZeXF3Jzc1Xq3jyk/iUiIiIiIiJyKAxoiYiIiIiIyCExoCUiIiIiIiKHxICWiIiIiIiIHBIDWiIiIiIiInJIDGiJiIiIiIjIITGgJSIiIiIiIofEgJaIiIiIiIgcEgNaIiIiIiIickhOgYGBRWq+Qr6+vmjVqhV0Oh0aNmyocomIiIiIiGrG3bt3kZOTgzNnzuDcuXMql+qrOw190eB65d4nLy8v5ObmqtS9qXRA2759ezz00ENIT09HQUGByiUiIiIiIqpZskFNxiOFhYU4ceKEyi3frSaP4lrHV3Dz4a4oaqBTuQ+eohtX4eTeRKVqh9PNPLhmHYZH2kbozh1UuWWzR0DboEmTJm+r+XLJllkPDw+kpqbi9u3bKpeIiIiIiKjm3blzBxcuXICfn5/WyJaXl6dKSpPB7JVnluN242DgIWeV+4C6XQAnF3eVqCUNdLijb407ngFocCMLznmZqqA0Nzc37UeK6qjUPbSym7FsmS0qqnTvZCIiIiIiIruSrbMyNrFFtsw+yK2y9cWtZqHIDxmkUjWnUgGtbOJnN2MiIiIiIqpLsjWvcePGKlU22c2Y6oebPl3UXM2pVEDLAaCIiIiIiKg+kF2ObWHrbP1R5Oqp5moOH9tDREREREREDokBLRERERERETkkBrRERERERETkkBjQ3ufkI5eIiIiIiIjuRwxoiYiIiIiIyCExoCUiIiIiIiKHxICWiIiIiIiIHBIDWiIiIiIiInJIDGiJiIiIiIjIITGgpXrDP7IP+kT6q5QQEIk+/SNhlUPVUKp+iYiIiMim1kGumPpsI/w1xg0Dg2ojdGqAPuGuGNbBBa1VDtnGgJbKMRtbjm8R/y9bWO9YRHVUCckOweeomYswZZBKSKNmYNEbA1UiDBNW7EdysX3yx6iFW/Dv5BM4cTwZO1fMQJQqmb1J5pWcSh6PP2LnrLOsnzBBvEpZKrlcQKx43WSc+NcKjFJZJfk/NwNr/iWWEfuT/PUWLBphHcCL9df+WxyjeJ3DO5HwuvWriH343RrsV/vw702LMCpAFUk21zUqVb81Yc4WnNhkrOU+7+3H6RNbMENL2dAxCrG9y655IiIiojrRzA2fTGqC1LGN8FZXV7zU0wOfjG2M8/Ee6KMWqRlumDe0ET58XgTQKodsq5mAdkg77N85FCdM0z+fxpbFj2DUI6pcGTWlI3b+07RMT6x43b14QNStKRKW9kWytp1Y/Htpa4xqZyyavVStV8a0ZYpxGaoOHXQeYlKpkkZNW4QZ1lFb74lY8M7EanzApyCidRbSN2eqtMjpHIKsk5uQ2VsE18nr8IpvIQqt9sn/d3/FDPGCe+ePxdhJS5EeOAqLVo7Xytb+eSqmzrKaNqeJ3EJkaaVGcv0FQ72R9Fex/tubYHhyClYsjVOlFpVZzv/XK7B/6wJE6XIBfXn1NgF/mjcKfinvYezwsXgnUYc+8hi0wNQfM5YsQJx3Et57ZSze2mxA5G9WYMVQbUXg9T9hwQg/pIp9GPrKO0j06COWn6E+LxWsqyldvzVCZzxvpB0fLMOSvy3FKi1lg/zhYlp5PwEQERER1b5JA90x0NsJBYbb+GjXNby8qxBHrwFej7jhT3EuaimqD2omoG3gCi93d+huXkHmhYvIzG+EsIinMfuv7WAKA8YvHoDZz4cjpIFxmawGjyAqTgSji73Ul3QvrJk+AH3auCL3VCoST92A7tEemP0H4zayssR25bYviDNLvhauqfRFnL2sbaBea9KkiZorzVZZbXMbswjrtu/Ezk0rMOM54zszIWEnej0swqjuIn/tfMQOmo91o8KgbxiGUWLZhNfFQjIvYQKipq3AFrn+2kUYZdWiG/X6fMx/3dSeKgwKg//1dGw7oNKIRZifAel7EoEnfGBYNxXP9U2CCBfNogL0yEpci2mfJiJxzxLE70iDzr8DIkRZyp7N2LzRNGXj6cgwZO17D0uMqwr+mNBT5O2Zhvi/ifXXvYWhq5Ogf2IgjCGxSeWWi2qnw5F3h6Ln2rMibLbwH2EM1rSae7EL/HVp2Be/DInHErF2ylokFfojrLcoCxB1FZqFfbPisSxRlM0eilX/0SNikPFV4jr7Q5e+T9uHFHHMkz9JQqFfmPEHhArW1VjXr833ZgISxHs6Xitbh/lai64/Yt9IUOfBGswfU7Ll2LidLWtmY1QDlS2FhCEy8il0Vkl0HIX5a7Zgp1h2XcIUxMpA/vUE7OwuaufhXiLf9HpEREREdckVUT5O4t8iHDpgwH/tv4nP9l9H5M5C/PviHRQ4OxsXE1o/5oGN8Y1x/n+b4MfXPfHXrpYvQ8Oe1yPpdT3+GuGGD18xLpP6SiO8WqyRzwVTf6VH6owmOD/JE/Mek69btwKalB8i2iqrKzW6R4b0w3hm9Fd4Jm4zln1/A2gagoFDREH/ULwS0RSFGfsxtt+X2jI9+63D5p9vQh/xpNbqhrhWCPMCMv+1FT0npGLshF1454tUpOW6I+yXwJKZYrty26NTobU5ZaWq9FeI/0hm1F8yYB0/fjweflhEhSXIPFlWP4LaEEQN90bKpk0i8BLB6h/+qnUfzT4t6vy6eH/PpyL1ZBqys9OQ8mMWCguzkJ4i3qPzYqEm/gjp8QoWiGBt3ydifURixqp1mKK1Rkbi+cFxiBv8vBZ8ajm9g6FL+xqbVRrd+yFYBH9fbxTz8+Mx4vebje+zlVWv9ETPVyztf3FtfcROZYnXKuH1KejjnYS1E/epDKkP/L0NOJskAmaTP6UhU++HDtZdeSu53KopIzD54xSVsogdOAqxL/YV4bnw6WFkFoYgYk6sFuCGvd4XYbpMEXyLRB9/+BjO4rA5oAcWpmdC79tBW3btkUwUto7AbO1HhTBM6BsG3dkU7JALVrCuVKx+bb43/gjuPBAT++txNiUFadkiWP/DciwYE4zsPauwKUWHXtPWYM1Yuayo86XrsGioH86Ksu0ZERjf3/SKgnydtmLf5HzAeKz5aAZ6uaRg0yc7YHh0PBZ8MB+R59OQet4AXM9Eqno9IiIiorp1E9/nyX+d0LlLI0wy3TubdB29/pKLiL+LuEZo3cMTiXFu6POwEwpyi+Dm7YKXntUjsb9x+ZZNG+DRFg0wqL87hj3iBJ2zE1oHuOJPozzxkraEC/76eiO8FeqM1m6AzssZk56v23tnZcC6Y5wejz1s3UphJPNkWX0Lamttb45fvib+LypG/Bf7y1bwxjUkfXEGlhDjJibvSkMhWiK0m1go96bW0uX/xFNYNNIVkY+IL/XzZICcjLf+ZVzDUV29ehWrV6/GyJEjiwW1cl7myTK5TN3LxL5XR+CthCWYFrfU2JooApm1705GmohBctMnY/KsZUg8sAxvHchG4e1sfD1lMhauU6uLYG37+LFY+LFcfzJ2XI1A7G8jRUEiJvcKQlCvySr49MfAdj7IPLFMS0n+scHwEQGbJcc2/1+vwYzIXGz68zsqxyQKCS9EIGvPQqvWWSkE3vosZK5QSY0Izg1e8JYtpmaVXa5sS+LaIyh8hHrtJXhrSRJ8XlyE/adPY8sbIchatxTvZIiiEG/oszOLH+/32TA08Ta2wv7lLbyX5INRi/fj9OktmNI2C2s/eMcY5Fe0bhn1W/57IzTIwr5RQxE/5S0sOzBBBLdeSPz9M4h/dxWWzBiKqfsKETlY/rQxBXGROiT+2VT2HJYkihOjDJG/HYVIww5MjpuGJR8vxNiX3sGqlGz4r1uIyem5gCENk7XXUysQERER1aHpewpwtADwauGKeWMbI//tJvgxXgSfj5nCJxGYdnOB1927+OzvVxG4OAcPf1CA7+86odNjDTFMLSWDYpy7gdC3r6Lp4hv4902R1agB+oSIfyPc0K+FKC+4hemLRfn/u4pBqSIw1tarGxlX7yJuTR7WjvAsFtTKeZkny+Qy9UnNBrQ6d8T2cceoV0Mx5QlvEbNeQMpawMfdVRReQfZ+42JmecYg1surEbDjJKb+PRmZrq0R++owrPn0Vzix4Ukset64qKM7f/58saDWOpiVZfVDIQpksHWvzp/FdvP6iTh+zgCv5mUN/jMKYX6ZSLG62XJUqD8yUyu8+1Ijg9l1b4Yh5U/jME22dlrxf2MiopomYe0kqxZWjQj48n3gP0YlNTJ4zYXhB5XUVHa5Shi6Ait+44ek3z+HoKAgPPc/+0Te/zO2dp43oLCpf/HBpGSgajBAtvvGLV2Bia2T8NbAILHuc9pxxr29xtjtuYJ1y6pf2++N9fvuD72HNyLfloNRGaeEKPFZ1ulFmXgNj+LB/tpL1p3CLcKae8Fw7rh4JSVjFd6ZshDickBERERU/3yfj8jf5+K/9hdiR8Zd5IrAtMUjrpga54UvesgQygUBImTBbaBTjBeSXhfTYBc0EWk0egg95TY0RThyqgA/ydnLN3BC+6rkBC/Zha31Q2gh/sk9dwuL1S2TO9bdwvfG2Trzn/N3igW11sGsLKtvajSg1YfFYNHvhmL2yC7wv/Mz9i3/BrL9rPCOrAgveHfTFrNwNv4KUHhD/nQB7Es4hp69V2HE/27FqkNpMHi1Q+zrPTD/Ca3Y4VkHtfUvmLUDvb7YaMBebjrgjvUdpsobEQjJTscmcxBVhQGMes/H8jfCkLl8Mkb8reTyUZgxqKzWWekUDNf10Le26iI71AdedwzILNZKWNnlKhbbJwzeZxMRr7omp6ybjLVJcsRoEZb+ZIBB1FeIVTfmuJZegCFTBIGx6PuYNzIPxWPVMVmSYrz/tkEYeslg2Oa6Qqn6FSr73mgysWNAe7TvoKb2IqiOmabKdHCzel3/BmUPh1VY/659RERERBW4g492XcegpTl4+O0cvPzNHRSIYDTqSQ/zkzVKunr1Dr6/eAfWX7vEZhyOdVBbn4NZqUYDWkPSZgT1WGWcnvkSY/9uzF/1nwsoFAFtyBPuxgxl/C9aQS8Hd/r+BvpMCcfOleGY3wdI3HsFb735DYbuPQO4Npdjzdw3TEGtwwWz4nz28rT6KMvz21kPH6vgBnoRcP1aBYIi8OwTCqR9a2wmtB4UavzjITCc3GZpvRsrArBiA0SVQ45+vHAgsGUyhs63vj/WqKzWWcvrbsbSQ5kIi52P8do+R2H+q5HQH9mu/ehS2eWKDfpUBuvyzRlZgHcIJpgGYOo4AX3D9Mj6eQewcSkSz4Zh4DvjjdsS9TU+Uo+kHfJVNmv3lvq0tjwuSLv/VnaFli3SNtcto34lG+9NcZuQmuGPztOM9/3KFtvxK3di50LZHmwsizK9rvwB4Qm1zRJWfZsGXUQc5qtu2v5vrMOJ4+swQSbkL5kNvcr9w0BERERUuxoi6fdNkf+/XpjXTGXhLj47K1tqBRcntEARCmXP27t38LG8r1ab8vDbvTcwe2s+FsjlKlJg/MfLy9nyPeiph1B6lJ26YQpq63MwK9Vsl+PyfHQMmzJuwrvrAOxfEoLZk1siYUkMpkR4oTDjMN77CNhxuQH8Azti4MuhmDLEHbEjW+GvXVuJlXNxtvTYOw5NBrKO1jK7ZE8SdNErcPpfCcYBjz7ehH3ZIRi/+wTW/U5bBDDkwnvcTmNX1fcHQndgId74iyywHhQqEl1EDJSWaB4OCpERfiLDaoCocsx/c5QI6nQIGSr24/Rp45SsuuHK4KpU62zxwagSJ72FVSIQnCH2+cSJFRioS8TCN+XSlV2uxKBPZShW/vuFWJbijYkbThvrZMMUhMiut/8jW5YTMfn3q5AZNgP7T5SsL+CdPy1DSsuJ2HJKlIl1t/wmBJkfv4Np2s9/ttYtXb+act+bkozbNkQuMm77xH7MeKwQiV/I4FeWrUVWJ/W6JxbB72QSyryL9i9vYOEBHQa+b9z//f/lj5TVatTpD3YgyaMPVpzajwSOckxERER17gZ2nC8CXBtgUrwXvnixET4c7YUfY120LsIXz97EZ8jHp6fFMm4umCYHdurqhrd+5YlPxLKfxDVUgz5V4Iubxntqm7ngw1fEawz1RNLTLvAyltYLMpCtz8Gs5BQYGCjeCdv69++PL774QqUqIa4jkl8PB5I2I3xS2ffU4ZFGWDTvacQGmt6yOzD8+DUWTv8Jq3425oz6XSSmRIdAb7of+U4uUv6xHc8tMnZJNmqFnV/1FIHBfgSNPKPyyMTX1xfnzp1TqVo0dg2SfwO8Fz4Cib37QJ+2A4nF+l4oAfOxc2sIdnQYioVahj/m79qJkC/aY+iftIya1zEKfRqlY0diBV2cK7tchcIQNcgb2Rv3qXtciwuzVV9iH2J9srF5T9m/6pRat1T9CpV9b0rwj+yDUKSWcfz+iOwfCqRUYjsBkegTocPZco6diIiIqCIVxSYXfvWdmquGZm748FfuGCYHbTK5W4SffirEGyvyjU+agAv+FC8fw2O1TP4dfLAhF298D0wa2wTzgoB9X1xF/6+NxX+d1BQveReZ8+RIyV/0dkFr7UlAYvvf3wYeFWk5UNTv87BYW+veFd24Cif3un16Ssu/P67mSvPy8kJubjnxYiXVTEBbJQ0Q1acBsnfcLPcLblg3d/jduIEdpZ7HQhWpDwGtzZGKu4/H7EgD3nrXNDxQJMbPeQqGWRwwyC5K1a9Q2feGiIiIqB6qlYDWrAH6hDdA49tF+PfxW8bBnUpq5oKB/k4oyL6JHaphrmoeQlQHZ+iu3uv65XsQAtoGTZo0eVvNl6tNmzY4deqUStlbEX5KvwNbj5/MzryN9PtorKTa5Onpibw87UFatathUzx85yck7k3CWZVVpjNJ2Pe19U8ZZ5G0N5Gtd/ZSqn6Fyr43RERERPVQRbHJtY6/VnP2UIT0C3eQknUXOSqnlBt3cVIsk37PX7lFPJRVnfVtuF0AJ5fi4xbVtkbH/qbmSnNzc0NhYXkDk1ZO3dxDS/c/+Wxa+YxalaR6hO8NEREREd0nGNASERERERGRQ2JAS0RERERERA6JAS0RERERERE5JAa0RERERERE5JAY0N7n6uSRPURERERERLWAAS0RERERERE5JAa0RERERERE5JAY0BIREREREZFDqlRAe/36dTVHRERERERUd+7evavmyuZ0p1DNUV1zupmn5mpOpQLawsJCuLm5qRQREREREVHt0+l0yMnJUamyuZ4/pOaorrlmHVZzNadSAe2ZM2cQHBwMJycnlUNERERERFS72rdvr8UmtjQ6tpSttPWAy+VUeKRtVKmaU6mAVj76RTbth4aGsqWWiIiIiIhqlWyZDQ8P13qOVvRYSper36PpznHQnd3PwLYOyG7GurP70OjYB9CdO6hya45TYGBgkZqvkK+vL1q1aoXGjRvjoYc4nhQREREREdUs2bAmuxnLltmKgllyLF5eXsjNzVWpe1OlgJaIiIiIiIjIHuwR0LKZlYiIiIiIiBwSA1oiIiIiIiJySAxoiYiIiIiIyCExoCUiIiIiIiKHxICWiIiIiIiIHBIDWiIiIiIiInJIDGiJiIiIiIjIITGgJSIiIiIiIofEgJaIiIiIiIgcEgNaIiIiIiIickgMaImIiIiIiMghMaAlIiIiIiIih8SAloiIiIiIiBwSA1oiIiIiIiJySAxoiYiIiIiIyCExoCUiIiIiIiKHxICWqD5q5AaXDm4qUb6H2jaGS3OVICIiIiKqiMuTcHJS8/cBp8DAwCI1X4GuGDMrBq1UCjeu4HTqXnzxRSquqqwHToc4/PegJvhu8QfYZ1B5FXH2hE8T4Ep2Hm5rGbJe2+HknI9xSEvfO5++kzDpFznYMPtjHFZ5VeMMT++mwNUs5Mmd6zwGs4Y2xnfvLca288Yl6qOuo2fhF7lrsHjTaZUjBeG53zwH/HMxtlhnV0tNbLNsjebEo/2Vlfj2T9dFqiGazBqI0F+0gBuuIWvXFqQsvoC7csEh/dEt5mckvnbUmK4DszedQFywSqAQWelJ2PHnsXhnj8qqArmtiP+0x3OzVEY9J8+9mACVwA1cSUvB3h3bkHpFZd3PSl3LSnJDUPQwPPd4K+hdRO1ki7rZuBmHL5a9dLmqch1yawJf9xs4d7VAZdSkEn8TrWXswpyV93BFr7BOa5FbEGLinkOXAD1cxLmddWwvNv7zMLIq3LESf0cEtya+cL9xDsa3xQf9fjMJXXM24K2V9/aXiojo/vEIGrR/G55PdoLOQyTzf0bewb8hP22bsfievQj3X/0W+pyNuPjFPJVnMgWe/zUaXjl7cO7vv62z748mXl5eyM3NVal7U4UWWje4ud3C6a3LsXyZmDYcxq22wzDxV53En68HkTO6/iIMns6+COvqqfIqoXU/jB3Xz+pLkKxXMalUdWTt24K167fhqEpXXSv0GzcW/Vqr5LFtWL9uC/bW42BWcvNwg7v4wlySu4c73O3cB6EmtllKo1AEdryIn5bKYFYk3x6NX3TMwffz/4Z/zf8Xbnd7Gb+YqZpl13+Dc41/iXYizq4rOg8dCk+uwtRZU8W0EJsvB2PUwjUYr8qrQm5Lp1MJByDPvVvpXxivics24PCtthgWPwKdHoSLYqlrWXG+z07EuC638e+17+G995bjizMPI/a1Meha1bqpynXoF3GYMKyrStS0ZGzW3ncxbT2NW7dO4wtTekuyWqaKKqjT2uOL5yaMQ5fb/8ba98T7t+wLnPGLxYRRXSvx977E3xGh67AJiPuFSiALe/+5Fp/tuPe/VERE94dH4NzrMzzc90k0dL6EgnM/46ZzEJo9Nx/ePUarZe6VKx5y18HVrawvVZ8i/8A3uHJoQ50Hs/bSoEmTJm+r+Qq0xuO9/XD939tw6Ewe8q6eRcolHzz1dCBu7juCs+LPXKuIAXi2fw882bENGual48xV48+zvj1GIKpxLnyfHorerQtx5IdsOPt3wYAB/dHjF4+hTaM8pJ+5qv0ibVz2Ijwjh6J/tw5onnsKZ1w74fkh/fFUp0A8dOEUzl83Vr9zi1D0iY1FT7kNj6s4mZlbe2+M85Po86wXju29jPadvfFD4g/IU0XyGGIDLuOYqKdi6VudMOLZTmjZuAl8g9uh5a0j+CFL1mtzGH5qisjBvUTdFT9GOPsgtO/ziP3lk3gsuCHyTp+BqlaEPjsC7R5yxeP9+yNCfxHHbrRC9C+aIfv4Gfg/Ow6xPSIQEWGZ/LTXEys2DUWMqPtekY8j9OFCXPwxG9fv+qL78OfQ6eHGaNIyGO1aiPfpew90HdAO4g1DtnzBcvclFM8Nb4eC/HZ4Vh7Doy1ReC4N2TdkWc1r/Xhv+OUfwYFU674CTRDWPQxIPYAU2Vpmox7Lrg9VJlspXhiMXr8IRcub16FrF2zZpjjnfTr0wfPP9Sx1zpd6b8S54BbUHYOfi0HXx+W2ziItu5xWpHExiGh0Ev/ZcFEkWqLVbzoj75NVOLPjFu6euYxLBg+EPPcwLn2WjpvIx+1OXRDyyFlk7L1mXL+WRY+ehJDc7Xhj7ic4+f1/kLjJGU+99iwCb7yPDfI7a0Aspsyfi9mvj0dcvzA4n9qN/8jzUBJlM/70f5gV/yv0beeMm3694H1hMVZdnYEVK15D2E8b8NUZ46L+b67AuvFhSNn0FUrGNtd+5Q/DrwOR378l7jZxheuxynaZqB7t3Mv7Gtu+OYO8a1dxNjUbPt16I7BgH478bPxcwPVxcV2MgOeFYzhzrfxzpkwPd8eIqCbIfSQaQ3u3RqH8LNo6l0VZl1h57QzXrolXWz+LKP0x7XMfKq4JXV3VNUAonraxXyVe7+oPZ5DbQuxXqWuZcXGTLk8PgEvyImxKLkBBQR6yT6Uh6+5DuH7lDC4XigXEZ6v787GIKfG5K/X3wvo6pNVHI5xt1APD+j+Fxx9tjty008bj7/AcxnULRhOvJghsG4KGWn1ru1JDbqPgmvhbKKeG7dE99C4Obz8kXlOkC+QO2adOK33dsKsu6PWsC44u3oQjBeL9u5aNtLQs3H7oOi5nXhbXHaHM96/035HCtrF4KrAJmjYLRJvAhrgo/j65d4hGZLNs7bqoXSsLr6Ndf9N11voYRR0+8TyG9nsK4bKeclvh2Z6NcEx8h5Dqpm6IiOyk6Xw07dsGyNiIC39/BQUnP0PBkeO42XoAvNqK79L//gx35HIuL0LX83do1GkEXH3b487P+1Bk+p7q1A8uT/wvPJ8YDTf/X+DupeO4Wyjjj05wjXgK7gXfw3BiH9BwCjxi/gfufkG49VMRXDr2gM4lB4Vnk8Syj+Ah/9lo2Os1uAdHAzlpuJN/Sds80B4Nwuah0VNjyyizD9mwV1govxjcu+q1NV2/Ye4WFTTkv/FqP19cSdqLvd8DXUdNxHOPGMvcWvjj8YFxaJd/Bmd+zgFCBuO/f90fvrnfYe/ek8CTYzDxWV/Lsv0H4dHL3yIxoxG6jnkT/z2sA7IOJ+Ik2mLwqFhoSzp3xZhfD0Gr7ERsE9tw6f4qXn2mCi2l1eTcrROCLv+AQ/tTcEbfDl3VsUryGPxbWNpczenrWcg4l4fbt/NwPkPUhTn+8kXX6CZIPySO8ZY/Yl8bIb5OSE0QNf5VDPG7gu/2JiLdpQtGTIpDW/UTuY9fW8Q83x3ul84gI0ucvA194R/gq7X25vwsti9fQ045bmjVyg1550SBvjtefX0YQl3SkfhFIrJaDVG/uuch68x55N2+LZZT7xN84BvkK/4v2doXsdyjMfhVXzccF2UnXUTg/us4BGnr1Qdl7ftg4/6VWx+COMfGTR0jwvWTSNx7HM49YxDmLguMmvQch1cHttLO+cQfXdBlxGQMDjGWlXpvHnkOE0eId/X7vdh26AqChk7EiA7GZUtqEtwCeRd+VinpNu6U/GKub46Gavaa+ILZKLAd6kvDZtjrfRGmy0TKxzIVhfnLFmBUYDZ2fLIJKS69MOOjNRivddONw4q1ixDne1aUbUfmY+PRx0/mC9/thUEXiT4vRKoMf0x4Jgq6vL2Ql15rMpi9EdUcRbqHtEnOy7y6UYAbt9Ss+lwM7u6OrIwMZF23fc6USX6mu8Qiro1B+yzn2DqXZavapEno75Mlyr7FueBBGP3LtvBtphWKczLIPC9Zp8vfL2dxLZevlyU+H3tx0lV8Xl6LgWe51zKLrNwC+HaOE9dG07XwKlK/OoAf5G8Nzm0RN0lc5+Tnbu93MAQNw4Sx3SGv4KX+Xlhfh2R9dIrF6CdvIVlea8Snc8Rk1SJ+VSx/+YZ4C3JEXRnruy7ZpU6rcN2wryxcy/dFp6Fd4Wt6+66k4sBB9cNtiffvit8QvKq9f6X/jsi/RTkizrxxWaTPZGnrW/+N1K6Vw/vBTRxj4g/O6PSrVxGnPhO+z07GpGe8kSXq8NuLwRg0qhfa+hn/ItVd3RAR2cdD7R6Fu7gq5iW+Dcv9nwdQsPG3+HnFe8YfD3Vvw+uV6fBp7w0n8U3PvdMgPDz+U7hq97+OhsdL89GyWxAaiJRzm95oOXYl3JvKMitOo9EwbjSatQYKv5mHu/CGc0AQ9L7G4KVBj8/gO7Q3POR3XH17NB/5MbzaPykSj8B1wMfwjRHBsXyBxu3hLcoa1dVXLBuqHNC66H3h+7CcQtFvyOPw/CkF34n805uWYP7CD7DtyGmc/mYDvstuAl+rL2o3ftiMDzbtwq4jIqpK24wlf3gXH3xxFKdPH8KGpCw0EX/UTG78uBdrvkpF6u5dOCm+n2Tu+xgHUsQf05WHcKaJtwhrhVa+4u04g+8OpOKc2MaaxXOwfKf2p7YWeKJXx1Y4c2yvOA0P4buT7mgbWYnwzfADDhzPxq1b2UgWx3bUHLNk4asVa3FIHuMn25BS+DCCZd116I8ezU5j/d+24ehpWbYCh653QszTpsDdGVn/XoI1X+zCgZPFj/3cEVHX4jV27ctAk5CmOPfl37FPtioaDuDjP/4flnxyAKnnU0X5Sdxo0QqtxJH8cDAZ2bduIfu4ep+sVbQvzlk49LctxrKV+3DavRXCHjYW1QbPjmMwa9Ysq2kMwkzVJPe9UQqWm/d9Jb670Qm95Ge13PoQ24z+BYIu7jWWnT6KLX/bJ844k1D07+6JlI+M53zqV2uw8vANdOph6u5Y4r1p7YsmuaexL+k0zqVswwcL3sVnx9WiJbg2ckPBRdOvXxeQfQoIGPYUPGQv4+Yt4T8sDPI2C7Mfc3DNQ4cyel3XGv2TU3Di+AmcOHEaW/7LG0l/noZ3ZMHrEzHw4RQs7RuPhR8vwbS4ydhhiMSo34pA9Y04ROoS8Z6pbOASJJobVhOx8Ns0+D82DFpI230KIltn4sjniVqptYLIklfusvNqjKu41mnXRF+E9h+ExxudQYop6pafi7+uwbbdMpCzdc7I+w5N11Y5NbHchlB4EpvFZ2vX7qM4Z+tcfqwXwl2OYo2pbOXn+KFQ/fplk639agVfET+cOfKV+HycxqG/L8KcZbuQV+61zCL1k/ew+acm6D5+Fua+NQ2TRvdDaAvj/ng+HYNO1w9hhemz9f5ybD6dpwW0UrG/FyW5ZuPfy9S1Rl6HroWiu7wO/XwUu2SvmOsZoq5U4Fxn7FSnVbhu2Fcq1iRsRmZzEWzPnIvZ0yZhTP9Q+KjTSb5/YZd2ma+N21Z8gTMtuiLq4dJ/R+TfoozrQN4ZkTYFxMXIa+UH2KLV08fYl+aOVo/Kn63Fed3ZGUc/M9Xhx/j8+xtiaaXO6oaIyD6ctO7ABty+YEybFe7BXcMeFIko96GIHtDrLuHyp72Rs6k/sjYexU239vDs2g9o2x9ejYHcbcNwZdMgXF65B9fQHI0jp6gNSXroBk1EU/dLuLRxIgpL/dg7BQ07eeJmylJkfToIuZ8Ow6UMHfRPjBFBYg84+4h9vHoUORtF2d8X4sI//oj8LKtWvHqiigGtJ9o+Nw7jxsupP1qdFYHpqkPGVlq9P7oPmoBJ00Qw8dYs9CoZzNwxteVKnvDvMQQTJk8TgcdszIoyts6aFVv2Fm7lq1lrp/diX8bDGDxzNqZNnoAR3UtsoybpuyP04aso0PVCTHQMfIoMcG8XKb7C3CtxvOZDtjr2Zo3gdvln8dXCJA/pF8SXPr23Soul71rXVUmyNWcYgtI/w/L9piYUZ/g81g8jJv63VvezRXBk+hJpU4X7Yn0MWci74Qx3UxNiLcg79jHmzJljNX2MFNM3J7nvXp0wzhzsTkRXb2c4a62t5deHdyN35F06Y/XWyONS8/BBI48m6DTWtM1ZmPiED5x15jCk+Hvz7704hHBMEq/x3xPHILajXhVULHfOJ0gp6IRffjod/f8+CPqD/4bsjFyfGL5ZiPYd2qN9+54Y8adUBP9mDdaMFQX+4kJ6Pg1LjIsJiTh+zgCv5mHAw6IsOxPLVAmwFllWQUjmkkSk+HXG6O5A5Aud4XNyHxYeUIX1iGe7WHVNHIf+rc5j8/sf45DlpLH6XNg6Z1oharjp2iqnWHG2WJg3YetcbiLKcrJgGa/sHK5Uqsutrf06jb3/OoOHY2dpQc2E4T2MPWQq5SoO/+MD/N/smZjz583G+4tfG4fu4tT31nsi70K6Jbi5fQaHZcCuksX/BpRw+RxSzMWlr4n1g53qtBrXjWq7chgb3v8/vDVrDhZtOYzbbS2t6PL9c27VD9PVsc2aHosgt3u/5ltfK7PERdbZTdZTEzRyu4qsNGO+dO6qVThcl3VDRGQP2qVPL+9CKZfLw81FKJSN26bBJjNOay237j6/QINH/MS32Eu4dV79qnw9GTfFZdLZ51GtxVYT0Bs+AToU/vApbpiWs9biUehcxOu0HY0W8d+IaSMay3hV30xsW6zznXi9Jk/Cd/JRtIyfgkaPiMKbZWynjlUxoM1DyhpTwPB/+OAfphEPfdFv9DC0zduLT5bMw5zZb2GvjWP17T8aw0IM2LtmCebNeQtvfWlp96q8qzi0cj5mzv4/rNh1FOg0Bm8Ov/eQsip8nw5DU4P4o+vfCq0CxORxG3nOQehcE92dxDtk3cbiLM/QSo5L7fvsOMR4pWDtuh8sX4gjRmBcD3ec/GI53pV1vybF8qWyItXYlzp3fq841ywB71uzZuKD/SK/ovpoUOyI1b8m57B3nmWbc8QX95nv71NlJdz+AVv+PAcz5y3ChoNZ8H5mku0u8uYrkaj21jdw4X8SsD16Hr54JgEpZxqh4YWfITtjasT7UsUPcg3KROLf4rE5VYewqFHGLGc3lOqdckfdK1GszB/iO7FFxjIknfRH6ItxGPaYD9K+XSa2XppbYukhhcvKqynWP6b83/sbKhjFt7xz5rR2fpjzbY16Xt65LBX7jIq5Sp8Y5Z/LVxM/xvxZb+H/lu/CUadOGDNlRCV+vHNDk4d94Kl2puCqbE1dgr3ZrRDWUWTI60axz1YVeHjCOnz1dBV/ievldcgOdVrV64a9yNGivUXQqiUKcDXlANa8txdZAWHopOWJ8z51jeXY5LVz5nystQo+q09+jtzgbhWnOj9kdc7UVd0QEdnJnZ9OoxCecG8zSOVIj8Cl9x4tsHRrJP68ya9LLnrLI3acjA0nt25cQlGBLNThIesfE+Xf/Rt5ljGFCk/jalohdB1fUd2IS7hxU1u2IPk9ZK95yzh9PA0/rzR2eS46NggXl0zAuX9shCGjEG5PjEazqOoOWGV/dvoe7AZPtxs4n5aKLDlOv1tXBLdQRWVw83DHjYsnkao9msANXUPuoXU17DlMGheDJrfzkCX+2H5x4grcPGujm6Gv2F9PnPnXB1i+fLmalmBDyi20fUJ1NxVfrtx9go3ds9xCESmWN5O/RLu4o0llvssdOY1zD3fF4EfVwk2j0OtRF2SerPiZMc6PxmF05zzsWrrBqsVG8HSDsyED352+Kr6mOKNVh1bFWmhvF7mILxBl7Fw19qXOafveCTGqu6O8/2vwa68iRvYSt1Efp7/PhMujvRClTivnx55AO3NlHcbp877o9IyP+tLnjLZDXsWr0WV3PffpNgYThnWCc8FVnD6yC9+dKYCnZ9mtSnkXcuCp7muQmv36v9B9hko3agzfIWG4dSJFXASVNs3hceUy6mZIqDJ0nIDIYB0y08WX982pyPSLwvxfq7C193zERehEcLqqjLIZ6Gx+BI6Uibf2JMGn+wxEeadg3+yywllRJX/PhPu+S3AqvKtNcl7m1T9VO2fKZOtcLvUZjUEnq15Bt8VfrCa+oVpXZucWMVa3BNjar1A895txiGl6G3nZIijdnoIrHo2gfSRsXsuaoteISRhr3qZ8zV4Ia3EV2T+Jz9bJkp+tEZg1szKBsuAZhMetrkNd24gzxXQdkjGQq9gnY6oO2adOq3LdsKtmvfCryWMt55nYf5+oMPhczdb+nmjXxpBIdDF+r9LehzET49BF3QtR8u+IPPfcGlb1XTmKlIym6DSwi/a31NmzEwZ3sXxXqLO6ISKyl8y/wXBexAxPTEfT6D/Cte10uEWvRLPHmsPp3FEUii92N0+dwC0R5OqfnoiH9C/CNaY7GolvgNdPvIe7J79HfpEnPCPno4G+H5yfeBGeIgi+9sOnlt95LxzFtX++hys5Ouh7TYeuZE8aw27kXwY82vWH80M/4e6dYLg/Pxve0c+KIHEiGr38DXyeexZFZ99G/tffa0GuU4P69ziKKo9yXJBsGuHV2lWcaxCG/nLE4R490DvSE9dzvYCLX+JwhvgSFdodYUgxj0J79YIzwvrFIrZnD/To1Q2eN3LghYv48rufSixbYqRabR+a4/KXh/GTKPbp1heD+/ZEj1/2xlO+V/GvtRtxutLNjfcopB8GPlGAb1cdxlmVJV3N9RH71gp3DxzBsfO3EfBUHwyI6Y2eXRvjQuZDIvBWx3Q1F+4deqFf/57wz/8Xjv5sdUzalqyO+fxppBUEI2bQ84gR9drrqQDc+u4zfHjgsvZrihxhtfklYx1rmoahu/hGmHLgBnqO64fWDb0Q/FRv9O5tnNrcEcsezEPjHrGIixF1H9UL7Ypycds9X6yTIt7Fq8ht2BG9+vRHT78C/Os/zpZ9K7S1LzaOoRYayioc5Virx0cxYLja917h8Mo6gC37zqLgZxv1kXUCF5r3ROzAPujRoxd6PHIKJ6+0FN/m5HHdxOm0fDza/1d4vrdx3XCvbBz45z6cvVH6vbl+3R2h0bHmZdu7nMCWzw/gYhmDut3y9EHrbp44vyFDG90uPyMHjeKGocuYJxAw/Ak0Pr8N38zMMP/61mxkX+h++CfOWfq51io5ynHEYz0wadIk4xTXBbeTP8I7v9mKn85sx09NB2B0/P9g0quvYeLzj6LwXwvx6u+SYJBl/oPxyrgpmCjLYm7jP6lu0F99H6t2qY0f8kavib3wcOrfMeLzb1VmaXJUY49tF7WptkY4lso+90xKfi5snzNlMn+m5edT0D6H5ZzLsuxuO+063Fucr70630R2TjM8pK7D5643ROce/dFfXJd6tLuMn3J84Z4ty2ztl3hV7+7oO1hcE+S1vasvrh74FBvTxYW21LVM22MlD6cydXisfxyeF9f4buIaHRMp1v367/j0SC7uys+W51Por21X7GsHV6T9cy2+PF9Q6u9FsXqU9REiopvg/oiNLn1NhLj2PtxTXKNj2kN38luk1davPCXfJ5vvdeXr9OsfKn/dsKu8Uzjr+hj6D30evbt3E3+nY9Dd7yq+XvMpjhhETcv3z+uXGDRMHYN4H4pS92BLinwfSv4dOYtztx5Gzz4DEROmww/fpMHZ6j0uea20vP8XceboaTh3eRaD+4tztpMnTqTdQHCjbO27QlWuqURE9dMZ3E7JQaFPF+jbPQrPth3Q0McDt37chsubf2f8u3Y5EQVOUWgYEYUmET3QyFt8p/z3ezCkHAVufIGCq1HweDxSlEXD01+PWyKYvfKvz8SK1qMcL8at812gCxfbb9Ea+Sey4dLZVPY+bqc1QZH429O861B4dRHLFZ3B1W1v49aNPWLqDY/OkWjaNR5enVuJ2O4bXN39Nu6aB8CsPnuMcuwUGBhov85a8qHw3s4wnJetXRWRg6D4wDnP9LD1e+Msvvz7OBtq6UH6dUV239PjdrblQfXVJR90r7+dZWxRrxL770vtKf3AfxOb9SG737nfKPcck+dgU1ypVF1Wrt5bImTDc7jz7lL8aD0GUquGcMm/jlvWo6U3CkXHtY/j8n+txDlj1FRPhSFqkB8Kk3Yg0fQDjElAJPrI3x6+SCyjS/EErDv+Cgr/GI4RK1TWfaAq50zZyj+XtetwE+BKdh66vzYX7U5YdUmuQLn7VaVre3HynG/qdgNXylq3qtsNicO0ocDa+WtxrokPXPLq/3XIHnV679fr6pLX+6biS8+Vcq5/stwdN+7hvKgUZ/mM9gJoT0GSyV4TMLtdSrFbO+quboiI7Kk9nPTNUGQob7AQW+WPwKnRoyLSNQ4kdc90vfEQvsfdwjLuG23YD043t6HIjoGsiZeXF3Jzc1Xq3tg3oCUi+xg5EJEdv8e/p540t8SWxePN0ejothP/nlNyiDzHF/u7BAzrHolIj0SM/WU8LF9hqbKiqhjQ1ntWAa0D3OxA1eKGrqPfREzT0/ju63RcbR6MX3QJQsGXi/DBwZruikVERLWFAS0R3bfi3lyEp5pk4ssPFmJzyVZdqhTfzjHwzir7sToOSd8W3TsCR8t8/Avdf9wQ9GQMIjv6wO1WHs4k7cPe41mWQQ6JiMjhMaAlIiIiIiIih2SPgLb+PO2DiIiIiIiIqAoY0BIREREREZFDYkBLREREREREDokBLRERERERETkkBrRERERERETkkBjQEhERERERkUNiQEtEREREREQOic+hJaJ7dnqAj5qrf4K2Zqk5IiIiIqqP7PEcWga0REREREREVOvsEdCyyzERERERERE5JAa0RERERERE5JAY0BIREREREZFDYkBLREREREREDokBLRERERERETkkBrRERERERETkkBjQEhERERERkUNiQEtEREREREQOiQEtEREREREROSQGtEREREREROSQGNASERERERGRQ2JAS0RERERERA6JAS0RERERERE5JKfAwMAiNW83Ypto2bIlPD09tXReXh4uXLiAH3/8UUvfj6p/zP6I7B8Mwxf7kKJyqLQH8dwy6xiFPo3SsSMxU2WQI2nevDn8/PzQpEkTuLq64ubNm7h69SrOnj2LS5cuqaUczwP9mSwH64SIiOoVpyfh5PwNim6ptNSwH5xubiueVwe8vLyQm5urUvfGrgGtu7s7wsPDodfrVU5xBoMBycnJuHHjhspxfHY55u7zsXNpHEJQiLQtz+CZ/6nLgGUUVvxrPLC8J8Z+rLLKEdY7Ft5Zm7HvmMqoQQ/iuWVt/Ip/Y0YPPQqvJGHhL0Zgmcqvd8aswP5xwLJfjsUqlVVnqrEvszedQMR/2uO5WSqjmkJDQ+Hv769SpWVmZiI1NVWlHIM9PpO26rnPe/uR0NuAZe2fwzsqr76zz3XKH6PmzMeo/hHw1wGFhjTs+2AaJn9s/586KzzPO47Cot9PRFSwHjrx9ynzm7V4b/Y72JxhLB61dD9m+OxD+4FvGTNqWrtP0eJpPQxr++PGZZFu+Arcer4IfYAnnHATtzMOIGfXNNwxfzl7BA3avw3PJztB5yGS+T8j7+DfkJ+2zVjcbAmaxj2Bou/m4eq3G415QoPIL9A83ICchBfFURMRVYN23QpSCSH/EvLT9+D6wYW4a/cmRZP2cNK3htOdn3D3+gmR7gf3X81H88YncOGvL+KW02h4jJ6CZk1FkeEbnFv+Cu5o69UNewS0du1ybOsPuSTL5DL3E7scc2wEQrJ3YET79nUczEo66PRe0DVQSRtGTVuEGaNUooY9iOeWxXj0itAj6a/t0b4+B7NSAx289OIcUsk6VY190XmI9ex0EBUFs5Isl8s5Ent8Jm3V844PlmHJ35bW/Q8jVVD9OvHH+DVbMPs5b6R/+g6mzpqKpfuAqN+tw853ItUy9mPzPO89HzvXzkBk4V4sFfsx9d1VOBsoAty1K8QVyUjnIf5WiG3UGlcdXN30eMhZJsQXsriJ8G6rw61T3yLvlAEN2vbDw8OXqC82j8C512d4uO+TaOh8CQXnfsZN5yA0e24+vHuN1paAsysauOnQqNsUeLQwZmnEa7iKfCKiatOuWzoU5f2sXYcKCvXQPzEaPv2nqAVqwjB4jZuPR/oMU+ltKDh0AFcO/APa731t+sNLBLPXD83Dz5/+sU6DWXuxW0Aru1jZ+kNuIpeRy5ZtAhLWzseoMYuwbvtO8cc0ARN6qyIpIBZTEsQfdlG2ZY1YrqPKFyaI/Pkj5B9bsd72dUh4PUqVSP6IfSPBuM1NazB/TJjKrx67HPPrCdjZXXzZbRqB2WK/5w+SmeXvb+w74tjeVMeZMEHkFK+zLStmIDYgDKMWGutp3cJRqPBo5a/w5nrzUZkmUZiwcA22yH0R78eU54xfzCck7ESvh8Wedpf58xGr5fqLIHdF/aznx6dgxT/XYLbpfAoYj4RNor5fVOkSRi3cgnV/iFMpf0xZKuryHeNRApGYsXILEuIjMGPFTqx40xSsxGH++p2iDlVSfO1bJOph9oQZWLF9BaYEqOyh80UdiXNbJTF2kTifZ6OPShYXi/lrxXvYUIeQWNN7Loj3bL744qu9xwlTxHtuzDadD+PF+7BFnU/FPhubVmCGeA/DzJ+xRcU+R2WR77XlmIqntW3/WhzfJuv6sQgbMx9rRJl2br0RK2rSyHgex4r6k8ewBWvmjDKXSeWtV9Fn2XJcon5Lnso2rh+yzHpf3FR2dcluxtbBbDeny/jfBieQ4HxE+1emTeRycvmylP7ci+VHiHrXPrdin99Rn/PHq3OuVZ5dPpNmUZa6Nx2HFBKGyMin0FnODxLHIc/z38nzWr5/szHKfM6XUxdCyXqTn+sti03hmCQ/s1uwaIxKVoNd6qT7FIx6Mhc7pjyDeBFAbt64GUtmPIfJO7IQ0vsVsbeCqgvjNd703pZ9nTZdD+JGqM+F+vwX08B0/d+CFb+zfNYmvDoQ/qnLMDRuGpaI/dj88UKM7fUW9onXGrXY/sF1lbXogYaNgWsHfouruycgf3d/XNpzFHm5rnBpJMqbzkDjcE/cztiIc8v7I3fTIFxdPgFZmSJe7TQG7tZvlZMnmvZfCmcnlbYDZ72vmivNVhkR3Z9uHh2kXYdyP/0tLp8HXFo+CnPbkffbaNh/I7wGroSbfz+Vqegnwi1alm1Eoycm4iF1nXLuKvKi3zYHcg+FrRTL/BHO6AdddA+4yszmPczLNPDxhbPPo3jI/4/wejJILCe2ETwMnh27w/mJT9W6itNEuIvX8wwv50tyPWS3gFbeL1RZ5S/rj+DOAzHlJT0SP9mEJF0kpog/0savH1GYv2wBRgVmY4coS3HphRkfiTL1pcY/JAID3xwP/bersClJh8g3FmHNWGNZ1B+WY8GYYGTvEWUpOvSatsZcVh12OebzaUg9bwCuZyI1JQVp2eXs76+NXzN8AkIQNXYiQq+lIvW0WFjV2cThOiRuSoQhbDwWiC8t45skYtOes/DuPxvz3yrxBcZawAxskb/CIwmbPkmEbnAcIhqqMpE7X3xhmhipQ8qm97ApMxjj//BXzBB1nn06FZnXAcN5sR8n0yD3ZLwI8ma/6Kft96okiP1egRVDjVuqDrvU83cL8fWVMMS9MUP7wjZ+zkRE6dKw6VNjcUmrrgIRPfuqQH0UoqJCENG9n6gRIWAgoiL1KDyWhON3vBDVUzVTD+qLXp3F+xOlfnUb2wtRwTpkLTkONIlClFostk8vRLSNQq83jOnxvaMQ4pKFHcZkCdlIO5mOrMJCZP2o3nMRjK/5aAZ6uaSI92wHsgNHYcGy+eITIqnzob8eZ9X5pH02fjMKum83IfFaGMbPE19c5Wds0w6c9e6D2fNmm7/ElsU/JATBVgtYp7Vt/1cf6DNTkfKTPAss/H8tzttpvaBL2YRVe7IRPGYBlqtWJuN5PAWRF7ZrZX5DZ2P5H4xlxdczIPTXlvVsfTb8f7cF66aJ5ZLEet/qEPdiBCzfWcu5fmhlcSIYWoQ437OibDsyHxuPPn5aQbXJe2ZNZPA6ssEZPOxUoKXlvzJtHdRaL2+t1Od+rAhe3o6D3+UdWPWJ+LD1FgHdUhHufFedc63y7PKZVPyfmY2own1YtSkFuqgZWLNmvPF8bOKPkLb+0H6XkPNR4zHliSxsl+e8bxxmi3NeOyvKqwuhZL2t+qlQBIZ9rQL8gejbrhCnKri9ojLsUiexofA/ewTv7FFpZd/Engj6xVislQlVFxPDDOJvhrz2ln+dFrUrrgd9MePVYKRtWoUd5/wQ98fVWGT1Q3FI71HwFp+1TUmFCBuxAH+dJnPH46m2hUjasRDF+wytxdJvM+HfbqBK16EbebhTBDTsPB06395wEl/y7h4bLb4wvoLCa+LLTbtH4Y485CW+DUuvvgMo/PYobjo1h1vbJ1UeUJh5GoVeT4qPjmq5rSYZsHq/sAKu3o+qHAuZJ8sY1BI9oBoPhltz4NaF77WWUaf2G9Fy5CA0kr9nN3gEXkPmw7uHuha1WArvsa+g8SMyoYNHt1fgE/s2ZEzbwDcI+oBHtHnJyUekgwItQXIJJZe3dueOHp5B3eFm+qG4Q280CwqCU345X5LrIbsFtKbBLyrD5rINsrDvpbFY+PESTBu4FikNQ/CUbLV8fSIGPpyCpX3jjWVxk7HDEIlRvzV+0ZWy9ozE2HdXab9or03VIyRShiMTxJd7LyT+3viL95IZQzF1XyEiB88wrlQNdjnmdQsxOT1XRIZpmDzlLSw7IPfXHynLLfs7eWcuIoeLL/9qlcKkpXhm7GRMflf7eqPVWeKrol4S3sKI/WnQGZIwbexCLHl3rAgsDfBvK9tj5KBTsYgdZJqitFaMyDf7IOzsJuOv8PIX+Jc2IU3bqJSIaW+OxdjhQzEtYTOWTFmLpEJ/hIkvQ2vfnYw0EYfnpov9mLVMLAksmxWPEaOM+71q9jQkXvCGn+U7wz2z17m1bNZ7SPIbhT/NScAo8cV40+/FPop8eS+wpV76IFJ+oEVEntI0GP26i/k3IhDyUwpSvIMxUJaNCkOICOQ/OwBs3pGC7NYRkCFsZO9g6FJTYAiO0AKl2MgQ6E4mYgk2Y3tKNkI6a0uhXzvxxTPVgJDHtaXwVIhIJy4R82W9R4liv79G9u1CZB8wvueRvx2FSMMOTFbvWXzfpUh5WASxplZU+RkaNRTx2vlkzMo6ME68L0vw1oi9SPPIRdIs8RlLEO+3OE6DX4ixxa5jlNVrx6JPpK0w10J+7oZOnIy3/iZr0yQSU4ZHIPPToRg6YwlWvRuPcZ+mwb/3K+pHAnker8JzWpnYlwOifkJ7iVy5XiRyd05W643FyN+vQupVuS+2PhuRmPFMGDK3mF5PrLfRciZr1w99It4xXz+mYl9hJAb+TpS9EYdIXSLeM5UNXIJEcW7bgxwAyqT3Q1lqrjjrfOvlSyr2uV8xDfGjR+CZ+IVY9fFbmHYgC97iPBRnZCXPteqx12dSk7ED4+RxJEzD0P/Zh9zIOEww/VG1VpiEVQPVderPieJzFwZ5xpRfF0bF6u0v25F0W6xn6mHQN0J8ZveKz2j12aNOxj/iA8O545YgcugULFq4SE1TjC20kqiLpX3Hir8ZC0WIWf51WtNABKZ/fk6UrcLC+Gew9IgP+rxqDumRuWccRsxeon2eloqg1r+jPFdC4K3PRXYZv3wk5heKE9XH/DmuM4bf4urmb5DvHASfYX+E3+Sj8Bn5KXTNtG9+cNK6DBtw+4KWtCgoxF3xj7OnJdgsurwRV4/mQRf+azR82Lh+ddw2nMPlzZPRLHZRsaBWzss8WSaXIaIHh2f0Ufi/IaaX+8HD8A0ufyWDxX5weyIIzuf3IGvlIORu6I1L4lrk1qm/sYU151Nc2bQU2bJsU3/kpAMugZ2MZeXahsLdX+GmnL30FXJ3v61d88wyf4vcoz9rs1qr8aGlKDryDa4ViYC5zSsi9xG4thbBbMFR3PhBW8wh2C2gtZ9CFKgBJ8RXZRiu66CT3/H89dCdT7P64pGI4+cM8Gpu7qCGwjuW35Kzcg3Qecjf9v2h9/BG5NsncOK4cUqI8gZ0FXcNqxtyfzOR9heVFBKPnoWhibelK14p1nUmFOZqgVpxUXhl2gIsmGOajF+Owpp4wZCVZvkClZEp6lzNC/6P9cXEP+9Hsqy7EyJwsFVtIREYPWsn/p0sl92JWDu1ctlNxjJME0FV2AgRvn3xjvjia8yO+411vczAK7KpUyyb8pM/gmP9Mf7xEGSdXIiUs+JL4ihgSucQZP5npbGO132NtNshiBjrj4HtfJC2R/4gIH+EkcGEHikHFsqlsPZAGgploBswEMFN07Bvgwi2Qp5CbPd+CG6YgsQ/yaXKfo9KCmsu3jPxpdfyHi9B2nkd9Ob4s8T5IFh/NmR5rjr2YuKmWL32AswYa91tv3zFt20SBu8mOoS9uNP8uds5Jgw6nc7Y4lbC5qu56jMp1zPg7FHL0WWueUf9eGPrsxEGvd6A7O8t+5KZaRBfZxV5/WgaidlqX04cT4D5MvCwKMvOtLo3eS2y7BTQytGMTUwtsyVZ51svb1swIkbPxs6vk411K85Tk8qda/VHVtoqy/XnwGGcNfjA3/pWk7JszEJuA3HOa4ny66K0ZdiUZECY1otiAnqFGpC41h7hrH2kiM+B3idEpYSHQxAaFiqmSPQZ1AeWML04m9fp/EykrFPzwpKfMsXfVEsdlf35zYYh3wveZbwP/qLexR8NbFbpulR0+hVcSeiPs0vfw8VvT+Cuvr0Ibt8z3hd8Wy6hh3PJC4741iNbKO4WFO9Rcnvv33AlxxNNn5sHFzt8M7qZ/X2xoNY6mJVlRPRguXZgGn5eLqbVn8LQ4Em0HLkQrk6/gK6ZKPTuDp/4b9BCTM3DPEXU6o0G8jp+0xvOwf3R5LVv0FL+aBcs8spqYq2uoqXIF8GyLuBJNMCLWktt4amvjPfbOgi7BbTysQSVVZVli3F2E19pS7hTmTEIM7FjQHu076Cm9kEIitH6VVVLzR2zztLsL8lO7XdkGFIdqzD2l1Z10OE5VDwu5Qz89XcDoU9ahsnDZb0ttNFyFYuEORMRenkT/jf+GbFse6z9SRVVk/3q2R9xT4Sg8KoBPhHPqy66wFsDrevFNLpzJjalZsI/dAqeCilE+p59WHIkEyGdExARbBBpU8C1DF//oENI5BSEPZyGpD8tw94UHYKfGY1gb5lWi60Qga+zCHR/Gwb/n5KwcMVepOiC0e/FYPjItLbQvbxHkj/c5DmifYGrhlnPWb12e/R8pbrD8Yhg4U9WxyM/d+EVDWolznLZB8d8I0dJFXw2rNcruY2zO/CM1fG1bxOEZ/5HlRW7tqj6tAP5aB6T80Vl35lrnW+9vC2xCQswMSwbm34fbzwm69boSp1r1WPPa5+bXrtLVvGCzrlQfEZVshJs1kUZ1n6RAkO7SEx5vRfCrqdgu1WwVx32qJPEpLMwtA7DbNM5/hdxTH2fwTNr01CYb9Bu7Sitguu0hx7ealaKlIM4yc+YTWuRdl6PkO7Gn9Qipq1D8tfyFh9/jG/nj+zMJC2/xjWeCF34fLg0Vmkny0BND7Vfqt1vptP/jKJrS3HzwIu4dOBncYl4BC4iiL3z02lxXfCEexttYArlETiHthdXEXGOnVUjHZutRP6mA8j36ITmHSvf2m6LdVDLYJbowVZUsA13DWLKnodrR+S1yk9cq/JwV0SNt3/6Atlr3jJOK2Xg+w4KxJ8Jl36/hc+jOtzY80dkLX0RF46V/3fGqVoR3c+4+cMJ3Na3h9vjneDuUoj8k0tVmWOwW0Arn7FXWVVZ1mxzKjL9ojBf3S8nR2CMi9Ah7duKvnRvQmqGPzpPMw12If4gr9yJnQurPzxvzRyzcX+j3lH3kcl7/16IgC796xoZ7XPZoTToIuIwX/0S7/9GX0SYf93XQ6fLRfpHq7RH8/iPeAoh1r/8iy9FXp6msNAHeo9CnD2yxPic1I6zEWanFlp71bP/r+djVGga1g5+B4kefTDjD7ZbIBM/T0VWu1jtXtuvN4oQd3M6skKjEFEovgRbnvCAJYkp0EfFIuR8ivYeLfsuDT5RUfBPT7J6z5Yg8aQeUf1DkJmqLYWkdB9E9favxDlcXKn3TBxXlF8mUr8wpu1OvM8+rSdoPQT8n1uEyNbGbNuMgX7EgBnaelLUH7Zg/5oZ5bYyGa3C1+livRcs9wRPWX8CJ9bKLpK2Phvq9azX62N1D612/ehsGRBH3oe8a6dxMKBS15YZ6FxWl9d7IJ8za7Lnbllt08XzrZe3xUcvvpJnHsaSLxKRKWp4dqjad439zrXy2PPa5/3EMPNYCFELYxEhg0yrz1dFbNdFGdYtRdKVCIwaF4asb5ca70u1A7vUyYql2P5TCOI+SjAPWuYfOQVrJsh7w7eX82NEBddphCByobrWifN+YqQ/Mk9uMqbLlYlpckyFHjOw7nexyJ7/Bt77MQxTNm1BXHAa9q6wV61VwPNJePXqh2ZPz0cD/StwD31EfCs04HYOcPeaDrqgTmjSbwlcvPvhId+3oe8iyy/hluzFn/k35GYUwv3x6Wga/Ue4tp0Ot+iVaP6YJ25lfCGHrSjtygRckUGxHVtATEEtg1miB5vzI/O1H+h04Uvg9YTpWvYpCn4shEvAk9A1vIy7hW5w6TUT3kPGwLlIBGku8gfIbNz68VPcbdAf7q0tP7YVyV/y9Z2g7z4RLmEroW9n/UOcMVCGmzcaNKrkvX8/HMX1W57Qd+0EV8NR3CjrGlmP2S2glQ+Ml8/Yq4hc5p4eLn9gMt5aLb6uvLnf2GXw/YHQHViIN6y6H5YtEZN/vwqGyEXYf0J2x9qPGY8VIvGL6n+xq5ljNu5vZtgMtb8rMFCXiIVv1lC3uL+8gYXfeiHuffFasrveC9niy68qE1+M1x5wQ+xuVfYbPxRYHe6SPUnQRa/A6X8lIFZ8aV66MwsRbxqXPbEqEroqtLLYYpd6Fl/k5r8agayN7+CdjLUY+0ESfJ6bYQ4Ky3RgJVLPA4UiMNVaFQ9sQ7pBfHlO+7r4l+A/JSJFXFiyxJdE7fP/pySkOetEMLHMmFYWHkhBYYMspG825i48IgJTXSZSPqriVUO+Zwd0GKjes/1vhiFz9VuYXFY3YjtYsmEfcjtOwZZTp7H/d944e1YVVGDJmwuR2GQUtsjzWOzniuf0SN+/ChW17Wjr6QZihfq8TvBLwaoP5Plv+7Mh10vSx6n1diIuS7wPWomgXT8MiPyjun7sFoF2fiL+IVvjZdlGee6qsoV+SD9S8flWGWetKutgUTOsvtPK3CIr/5VpmW9ivbwty1ZsR1bEDOP+nliDSF3x/bXbuVYOe177MlOAV7aL45DnSH9g3/K3qhRkVlQXpSVi5ZFM6PVZOPJp6Zsz7pV96mQfpo1/BzsKIzF702lxPOIzt2YCws6uwuTR5fVtsH2dlt2HC8MWGetHnvdiW29NqsRxrxiByctT4D1C/O08tRNTnhSBc0M9DPveM9+uoQmOw+nTpy3TrvmqwA4yp+PKd5fwUKt+8B03Ec1b5iFn2zsolF/kRNnlPadx9+HuaDlyPh4ZNgj6RlblcgCojX9E1o834dahN1oMeBHeHZrjzultyN5oPVBUcUXfvYNs+3xMzGQgy2CW6MHm3r4ffHrJqTsaOv2MK5vltepn3PziPVy60hzNXlwK//96G96tCnF9/9+07r6F33yDG7r2aDHxKPzH9sdDuZYW2pv7NsJQoEOjJ15Bi196ovAn69bbT5F/9BLutugO35d+W8E9t0rRPBFci8DbBbhx8ouKO/LUM06BgYF2e6yvfR4qX5EwRA3yQ2HSDiSWuE+wIv6RfRCKVGMLop3U5DHLwYr88o/YdX/LJQcE8snG5j1lPLxflvkX4ojWAlKBgEj0idDh7MZ9KGNL96x2zi0HU0N1bXe2zi0b5Oe1s8fZMtez9dmQZd5Zm7XWqtLkwFuhQEoZ1w9Zn2FAamXO8yqozHNopczMTKSmpqpUZchj6QxdZnnHWrPs+pmsdt1XrS4iF+/HmtBE9IyZZtf32r7XKfm3zlsEX5X8fJd5nZ6PnacjkBT0DJaIz1PwtR33dK7Iz6K2ro/Y3h8ikf5uT8TX6uCX7eHUyBNF175R6RIa9sNDt/+Du+LLYdnE+vpmKDLU0K9+RETV5dIdD7lext3rJ1SGySPi+hcorn81f/1q0OsAfMMLcfnj3si/ojJrgZeXF3Jzc1Xq3tg1oDWRz9iTjyUwjeQo7xeSXawq+qXekT2Ix1wXWM/kiCoKaqsezNYfjvWZnID5a3qhV0QYMv/2DIb+yZ7hrEX9qRNLQFv9USOIiOi+5PQ29PH94anT4c7pjbi4qfxeLDWh3ga0RERUXPPmzbXnzMpH88jRjOUAUPKeWdnN+NKlS2opqlHdx2P2oA7Af5birY/rdb8GO4nDlIX+yNQe70NERFQG/UTogvyA/GQU/lD7z55lQEtEREREREQOyR4Brd0GhSIiIiIiIiKqTQxoiYiIiIiIyCExoCUiIiIiIiKHxICWiIiIiIiIHBIDWiIiIiIiInJIDGiJiIiIiIjIITGgJSIiIiIiIofEgJaIiIiIiIgcEgNaIiIiIiIickgMaImIiIiIiMghMaAlIiIiIiIih8SAloiIiIiIiBwSA1oiIiIiIiJySAxoiYiIiIiIyCExoCUiIiIiIiKHxICWiIiIiIiIHBIDWiIiIiIiInJIDGiJiIiIiIjIITGgJSIiIiIiIofEgJaIiIiIiIgcklNgYGCRmoeLiws8PT2h0+ng5OSkcomIiIiIiIgqVlRUhMLCQuTl5eHWrVsqt2xeXl7Izc1VqXtjDmhlMFvRCxIREREREdGDJSwsDJcvX1apypPr2Iox7RrQNm3aFFeuXNEyiYiIiIiIiKSgoCBkZWWpVOW5urrajDHtEdCa76GV3YyJiIiIiIiI7KE2YkxzQMt7ZomIiIiIiMheaiPGfEBHOX4VCbt2YZc2JYgUEREREREROZp6EtB6o9fL8Zg0aQR6+aismhTdCi3T1yEmJkZM8fhAZRMREREREZHjqAcBrQxmh+KxnOP4j0Fl1bTdZ3BBzRIREREREZFjqvOA1qfnMyKY3YfFG79XObXhA8QfDUdCvEoSERERERGRw6nzgDZr/xoRzJ5QqVp06gpaduLds0RERERERI7qgRsU6tX31WBQ8cBfXuPds0RERERERI7KKTAwsEjO+Pr64ty5c1pm3ZD30j4DbF2DvVV/Zm/VRc/FxqFnMIhBLRERERERUbmCgoLw+uuvqVTlvfvuIpsxppeXF3Jzc1Xq3jxwLbRmbZriwlEGs0RERERERFUVGBhYaqoLdd9C69MDLw3vAC+VNMlNXoeP9merlL29ioT3gXi2zhIREREREdkkW2izsop3o/3Nb36j5iz+/Oc/qzkjvV5f4y209ajLcS1id2MiIiIiIqJKqc8B7YPZ5Vg+hzZ4qHFwqF0J4FjHREREREREjucBvYf2A8THxCBGm+JFioiIiIiIiBzNgzsoFBERERERETk0BrRERERERETkkB6oQaHatG2Ngvzq3XRM9UP/AXFqrrjJk43Px3om5mntXyIiIiIiqp6WLf2Qk3NFpYxeiBuj5iw+X/uxmjO6nl/EQaGIyvOPHWtKTURERERE9OBgQEtEREREREQOiQEtEREREREROSQGtLXhqQQM/ksCmuJ3eObDz9FGZVtrM/s7jP7QOA2eNFLl3j+aTtprPK7hn2P07N+pXHt4CXOXbsRqNRERERER0YOjfgS0v5qBjz9eoaY/YUo3lf/A+B0CW/2IxJcfx0oxbVi8WuVXR/nB833n2mH89ZVBGCkmIiIiIiKqeXIAqJJTXaj7gLbbq0joA2wfMxZj5LQjG4/96lV0VcX0gBj+B6z4cC3eHq7SREREREREFaj7x/Z0exRdD36PQyqpBbi/boZ/jXkHn6gsezE9tsfJ6SEUFd1FgwYuuHPnliq15iQmrVqKqWi9irdbguyK/MoTaKSSJteSF5lbaWVX5MhW2ixw5h9Y+dbvVaK8Mtky+zxaGnMtrn2Lf74ejyuy/C+P4DttXpD7IILIfTJtvT9ie/+80hvPhnsWe91K7w9ki/MLOKVSFek66UP8OrwhzuyMw9sl3viy6lU+tsc4qvFLmPsnP2x94/f4WqT2bftKK+dje4iIiIiI7KOsx/ZUxoPx2B7rYFbo+sSj8Mj4j92DWWsPicDIzcMLTg0aqBwLY5kezi5uKsfC1npSReWlfB2PDVo343/gghYAFu9yLO87DfzemCcnGWCa7q+VZR2vLFJlYv1WvfGLp2TJ77HTlGe1zZWmANYW0/7s/FG8QG88juXGdVXQamt/5L2xkRABripb+fJRBFbhXtlDi1/G2JdLB7NSleuViIiIiIgeCPVqUKiuk/+E+M7Z2P6//1Q5D7KRaBPiiZbPWAaLkq2ljZq21kqvLO5lda/t7/HjGTVrN9/ju2L38treH2RcwrVWz1sNaiUCa6vWWyIiIiIiInurNwHt8P+3AvFtvkdCDXQ1LununVta1+OiO3dUjoWxzIDbtwpUjoWt9aSKyqsuDyeXWlpEtckUJMrRglVgKSdLV187ufJzGS26NvbH3Nr8OI41nWzcLzuNZmz/eiUiIiIiovtBvQhoZTD7yyt/wJgJHxTrflxT5P2YUvn3uZa+f1aqaL2Kt1sVq3EqDWjXxxIUmh99I7R5NBAXdpoCy0U4eU3LrpxGj6KN1j1ZCGhe6h7estneHxlgP6MGdDr1ltinpd/iWtNH0NSYVTEbg0LZt16JiIiIiOh+UfeDQslH9vQJUQmLjB1j8b9/Vwk7MQ0KVX+UNYCTbAXthX/LEY6EcgdhKjaglFgn+RLahTcvf13zoFCCbN19JlDLxrU8XMP3pQeFMis+uFN5+9NmeAKaPvUE2plXLn4cFbE1KFRZOCgUEREREVHtqM+DQtV9QFuL6l9AS/eKAS0RERERUe3gKMdENalRF/zX0o1YLSYiIiIiInpwMKAlB/cRZr4yCCPVREREREREDw4GtEREREREROSQGNCSw3q+z4hSExERERERPTgeuEGhTv3wk0rVjhfinsfna/+hUkRERERERI4lKCgIWVlZKlV5er2eg0IRERERERERlYUBLRERERERETkkBrRERERERETkkBjQ3seenrMRu3bt0qaNc55WuURERERERPeH+hHQdojFpEnxahqBXj4qn6qljTfwzYIYxMTEYNCsL1UuERERERHR/aHuA1qfHnipN7B7cQIWy2lPHh4b0AOMaavvVPYFNUdERERERHT/qfuANusrfLR4M1JUUpNzCVUfFLryXF1d4OTkhEaNPFROcbKsLBWtZ6u8YUMPrczNTadyLGpiPenLWZ8DQ+eCnY2JiIiIiOh+VE/uofVGr5dVl+M2p7B44wmVXzM8PNwR0iYAbu6lg8SGIjiUZU2bNVY5FrbWk2yVu+pctDKvxp4qx6Im1jP6EmcQit7RKklERERERHQfqScBbTb2fqi6HJ9qg0kvs8txtUTPxUY1GFT40UGYuVvlExERERER3UfqSUBr5fgpnNU3gbdK1oT8/BtIO5WBghuFKsfi+rV8rezK5RyVY2FrPclW+c3CW1pZbk6eyrGw+3q7Z2JQjHEwqOROGzGXLbRERERERHQfqvOANmxQPCYNaq9SQoc28DNcRbZK1oSbN2+hqKgI10TwWhZZVpaK1rNVfv16vlZWUFBG0FoD6xk9jVZIxR620BIRERER0X2ozgPalI0J+ORKhOWxPXLE4w+/qtFBoR4UT895AVg3E3xgDxERERER3Y/qRZfjrP1rjPfPalOJEY/pnrXxbqnmiIiIiIiI7j/17x5asptT2cCTU42DQ22cw4f3EBERERHR/YUB7X3sy1mDtIGh5DRoFjseExERERHR/YUBLRERERERETkkBrRERERERETkkBjQ3ofatG2t5oiIiIiIiO5fDGiJiIiIiIjIITGgJSIiIiIiIofEgJaIiIiIiIgcEgNaspuWc45gwpzxQPwOzHx/nso15s/cla5NWnkdq9z+jEff9fe4v/L4d+1AuEpWRnl1V11jBg/Dux2AHlH9sDJKr3IrqUUoVk4ehvXa1A1jVLaWPzYUPeCHd63ziYiIiIhqWb0KaH16jsCkSfEYIr6A0/3jwqzOmBsTjLkb0lRO3arc/gSjeRXjP5OWvj5qrqR5GFnFQLcu9WgfACRvw5BFn4npID5W+URERERE9UX9CWh9eqB/0Bn854xKE9Wp6Vgtgt4ls5apdOUZA+Y+SFZpu4hPwK5du5AQr9JERERERASnwMDAIjnj6+uLc+fOaZm1zxu9Xo5E1oebgUHxePRUAtYfV0V2JB9nc+qHn+Dq6oJbt26jYUN3XLuWr0otnJycUFSkVUsxFa1XVvkLcc/j87X/EHkeyM+/AZ3OFQUFhVqZia3t3st6lTnOmtifCsXvwATfz0sHibKb7eAQlTDg8ILO2L5bJaNXY8LUSDTWEsXLZDfdIdiO9NA4dJGtqYZELB8yEheMxRUrc39kV+Ppxu0JGRuCsTrBOG9cPhu5XSPhdWge1mMCxnXVW5axPo5i+yJbZuMQoM1bqcL+Pj1nI6Z3bYS0DTEyti3G1vtlU4duWB/tZ5w3HMOiFan4SszKbsqxrYzZFmexma20RERERA+koKAgZGVlqVTl6fV6mzGml5cXcnNzVere1IsWWp+ez6Dpt5uRotI1zcPDHSFtAuDmrlM5Fg0beWhlTZsZQyhrttaTbJW76ly0Mq/GnirHoibWk2p7f+6NCPYGA1tlF2A5LUhB8FRTt1xRNtUbB1XZ8kNAl6HF7y9t3LUvkCDL5+EwIhFd7RbMZdg+xPh6W9NVlpXGXb1xPGYtckMnIBpLxD4Z4OWr7rNN6KOOIRE5xhzF2No7V6yXgTTLsVYh+P5y1iDExJQOZqWKzoMyyftgoyGCVNmd+DMsOh2AV9Q9th9vUHnJBlxnl2MiIiIiqsfqPqDtEIv+2FkjLbLkAOIjEJCeZOmeu3sf0g0+aCmCLWMgaOm6e2F/SolAEcg5tES12C5DcqpVcFlDcg59LvYnHZeQheOzluHCuar/UlUfGO+PPWYOUr/atw1LT6gEEREREZGDqOOA1hu9nngEXuFDtcGg5BTdCvDrLeYHtVfL2J/sMpt2KgMFN0p3mb1+LV8ru3K5ZOhkez3JVvnNwltaWW5OnsqxqIn1pNreH/szjjRsGpF4prnrMVmr6DyorK8uGtQcEREREZFjqOOANht7P0zA4sWWafcZ4OweMb+x5pqLbt68pd0jW979hmXdPytVtJ6t8uvX87Wysu47rYn1pNren3uSkISM4AjLyL/RUQjWZ+GCbHWV80jEclMX3XoySnKdsDEoVEXnQVm+OpEBhHe0PHJH3k87WN1PW22vIkHs6673X1VpIiIiIqKaUX9GOab7lvm5r4ND0LjrdOO8+Vmr07F6AzDA3AobhvQFqpvx7pE4mB2JcaayTtk47B1X7ee02t4fS6vwgGAgYLBxfmRl7s2Vg0LJbcmWZL3a7/Wr0VIVy2M9nh5iOdZiZbY97VvZJSvpYipG7wZiTc+ZffIqFm04qxXJZ9bKvMnhejQMN85XKdiNbiWO6xq+WfeByiAiIiIiqhn1ZJTj2mEa/bc2mUY5rk11cZxEZrI1OfoK5g2ZiS9VFhERERE5Lo5yTFSrStx7a55MoydTTZKtyddS9zCYJSIiIqIaxxbaGsYWWiIiIiIicmRsoSUiIiIiIiKyMwa0RERERERE5JAY0BIREREREZFDYkBLREREREREDokBLRERERERETkkBrRERERERETkkBjQkt20nHMEE+aMB+J3YOb781Tu/Sn8/fQ6OsZ5GLl+NVqqVEXkfo6Mt3pv7KFFKFaODUUP+OHdyd0wRmXXT6Z91GPm2H6Y2UJlExEREdF9oV4EtGGD4jFpktX0cg/4qDKi+mc8WnqrWSIiIiIiqjP1IKD1hk/jn7F7cQIWm6YPv0LVH9tLVFuWYfuQYMx9bbpKO65X39+FXbsS8KpKExERERE5EqfAwMAiOePr64tz585pmbXLG71ejkTWh5uRonJqSpu2rXHqh5/g6uqCW7duo2FDd1y7lq9KLZycnFBUpFVLMRWtV1b5C3HP4/O1/xB5HsjPvwGdzhUFBYVamYmt7d7LepU5zprYH1tk19cBwSqRvtYqGJRdaP1xPDUMA7rqtZyMDcFYnSDnxqPv+hdwYTcwYHCIVpZzaB6WzFqmyqaji7ZKGrYuyEa3qZFoLOdj+iBZ5BZ7TUMilg8ZiQtqvea7Ta8hRK/GhKneOKjWs8V6m5Z9MZLdeodgO9JD44z7ZX7NipVfP8btjjPXzVqxv/7YLbcru3ZHZxd7DbmdbtnF96t8T2OuqIsn9WlYFxOPD1Suia3zoGyyW2834JsMtIvuiIYi53ryNozeZzAWq26/EcZDAc4cxJANZ43zHbphZfMMnAzqpsrPYvOig/hYzI0ZPAyxrWSeAUmfHEPj4d0QpM1vw9yLIlt2gR5ufD3jMiqfiIiIiOwiKCgIWVlVb3LU6/U2Y0wvLy/k5uaq1L2pBy20zdEUV+Fj1e14SAdVVEM8PNwR0iYAbu46lWPRsJGHVta0WWOVY2FrPclWuavORSvzauypcixqYj2ptvenPDIgk0HW3JhgMa1FRnBf9I1WhZI+Et2wxFi+IBFeg3cgXBUBIRjQKcm8bm7XCWpd1UoqtwcfdBsKrNeWUUGpCPYGQASGWl4wlouAeZx2z6tYL0G8hghiTfehtuwZhtwNFQezUvJranuHTEFacY279gUS5DLzcBiRiI5XBTbYrB+xn0O6Zokg3fi6xzvFIUAVIaEPtmZbv8Y8dPBOxPpKBbPSl5g5JAYxZQSzUkXnV9n0iHgSWLroMwwRwSfCO5rvse0R1Q3tTm/DEFkmps3iXV8ZZYpuxWdPLIutxrJFyXrEDvbT8j/eIPO2IUlUebsBATiurW8KWv3w7gD1etpkDHjr9329RERERGQv9WNQKH0HND2luht/chyevWMRporI8V2Y1dmqxXA6jqerWRODVRC2eyQOpoeggzlIS8NWc2vldOw+BAT3LD24Ufq64i2h4Z1CkHHU0sp5YX8Kcrz9jUHs7n1IF2dYuBY0zkO0CBiPm1prqynn0BJs3y3nliE51QAv34oHYrJVPzLYbpyeZA62k1+TAbxF8tE0BHSSgboMjPvCK3VfpVqEa44BSVtT8ZWcvXgWJw16+GkDMenxyyDg5AnLDwEf/3AWDZtaAtrryQfNLatf7TuG060CSgSmelz8xthqa9YhAEH6jpg8eRjWa5NsvTW9JhERERHd7+pBQHsC60Ugu/64SmZ9jwyDJ3xqcFQo2WU27VQGCm6U7jJ7/Vq+Vnblco7KsbC1nmSr/GbhLa0sNydP5VjUxHpSbe9PuWTX2F3p5snctdZusrRuyZUng00VGMdHIMAqYKwT1amfhCRkBEcgHOMRHioC+/2VbZ2tWEXnV+0zICdbzVqTXZfNLbTWrbdEREREdL+r+4C2QywmTbJqkfV5FAH6PNxDF+1Ku3nzlnaPbHn3BZZ1/6xU0Xq2yq9fz9fKyrrvtCbWk2p7f8qjtZZuMHaZ1briluytqze1lgrRq9EtOM2qxdS6tVa2plYuaLNuuZS0ls7sTHPrpWyxRWgU+pZoya0LtupHa1nWAlZFBuBq1ki26Io6mhOFYKQguUqBve1BoSo6v6rGgH+dBtq1t7TIjmnrh+tXLAfbMMgPPdR8j6iOCDqTUbw1tizHM3C6VUerx/FU/VFCHBiLiIiIyHHVfUB7fDMW7xFxjOmRPcNbIeOTmh8gimpP8jp5X6ypBXICkJqFLlOPWO4TNWShebwqnxpZ4n7WNKCTad04eJm79MrBnYx5AfI+W9W6KZ+5qpH3lyJOrZeOcaEpWG49KrHs2pwdiS7eidhdhe7GctAlbXtd9Wjcdbo2X93nu9qsH7Gf6w/5mI9vZicU63Isaet3FfUmlq1ad+On0aoWHz/01b6DOBnUT3UNHoZYHLQaMAq4ntMEr6iyyeEGbFYDRslBodZPloNJ6REx3Fhuuff2LN78JAPtVP76yR2R80mJbsk2Gevg2qHPy7yPmIiIiIjqt3owynHtMY3+W5tMoxzXpro4zntnHOVYG7VX5VioUY6HVG7AJnJg2ijHx4oFuLXjVSTs6osrCwZhZhVbt4mIiIgeFBzlmMhByBGHjS2lxSdzy+89MbUml5ysR3OmOhHdCi0NqdjDYJaIiIjIIbGFtoaxhZaIiIiIiBwZW2iJiIiIiIiI7IwBLRERERERETkkBrRERERERETkkBjQEhERERERkUNiQEtEREREREQOiQEtEREREREROSQGtGQ38hmuE+aMB+J3YOb781Ru8We7auUPqPLqp3r88O7kbhgDPWaO7YeZLVR2PTVm8DC82wHoEdUPK6P0KpeIiIiI6N7Un4DWpwdemhSPSZNiEaay6P5wYVZnzI0JxtwNaSqnPpiHkbt2IFyl7lstQrFybCh6qGSNk683eRjWq0kGr0RERERENaV+BLQymB3eBN8uTsDixZuRorKJHiSvvr8Lu3Yl4FWVdjx+eHd4AE5+8hmGLBLTJ8fQIlq2HhMRERER1QynwMDAIjnj6+uLc+fOaZm1yxu9Xn4G2LoGe7NUVg1p07Y1Tv3wE1xdXXDr1m00bOiOa9fyVamFk5MTioq0aimmovXKKn8h7nl8vvYfIs8D+fk3oNO5oqCgUCszsbXde1mvMsdZE/tTofgdmOD7OZbMWqYyFNkFd3CIShhweEFnbN+tktGrMWFqJBprieJlsgvvEGxHemgcusjeq4ZELB8yEheMxeWQLbNxCFApM7UuxDbHeW/H3Nemq4Lx6Lt+OprvDsbqBDn/Ai6I1x+g9jfn0LxixxP+fjoGBKtE+lqr7VTkacwVr/OkPg3rYuLxgco1qXK9y5bS4R3RUCXNzhzEkA0GrXty428+w5vHVb62fBPsWXQQH3fohpXNM3AyqBsitF7BZ7FZ5msLCsW2bUDSJ9sw96KWKE4uNwBYuiIVX6ksIiIiInI8QUFByMqqerCm1+ttxpheXl7Izc1VqXtT9y20Po+K4CIPTQfI7sbGaUgNd1P08HBHSJsAuLnrVI5Fw0YeWlnTZsYQypqt9SRb5a46F63Mq7GnyrGoifWk2t6feyMCzMHAVtklWU4LUhA81dQVWJRN9cZBVbb8ENBl6DytxKRx175Agiyfh8OIRHS8KijXdKzWtrcWGUizvK4KhC/MWoLD3hGWrsjRUQjOXiuCWZVGCAZ0SjKuI7aR23UC+kYbS2SA3eGo2p6Ylmf3rcI9w19i5pAYxJQRzEpVrveLqRitWkmvG45hkZyX04azotCAuVuPoUVbP+OyQo/2Abi42xK0NgzvKN4U4zqLkvWIHWxa1g/vyiDVtL1Fx9B4ePFWWHmfrNblmMEsEREREdWwehDQNoGX3hNXtsruxmL65Dg8e49ALx9VTve3+AgEpCchWSWxex/SDT5oqQWJMvjsYy67sD8FOWreJOfQEtViuwzJqQZ4+VZ30Cm5HR90U4Fo+NBI5B61bmUVQbC51XU6dosgO7inXHY8wkP1CBhsHPxKTuO66tHY29RcW89cPIuTjTuqQaT8EBtuwHFTa61wPfmgudX1q33HcLpVgDFo7RCAIH1HTDbfJ9sNQdDDz2owqo83qGB3K/CKNmAVEREREVHNqB/30J5JsnQ3zvoeGQY9mtZgQCu7bqadykDBjdJdN69fy9fKrlwuGTrZXk+yVX6z8JZWlpuTp3IsamI9qbb3x/5kF19LgDjT3PW4Zl2YtR25XV9AOOahg3cidptbZysiu0RbWmi1qdJdjm2zf70bMPcbAyK6+WlBaovkY5YuxRWR3ZbNLbRyKqfLsQyaxWfZOtglIiIiIrKnug9os64it1Uby8jGsguy/md8b9VaZG83b97S7pEteX+oSVn3z0oVrWer/Pr1fK2srPsfa2I9qbb3554kJCEjuEQXX32Wdp+qNo9ELDcFh7U2SvJ0HE8PQbf1fYHdJe/JDUEHc7fmeYjuCqTvl/fQypbd4l2izY/pqSRbg0LZvd6l4xk43aojVj4J7NlnUJlGDYP8zCMj94jqiKAzGcaAV61jeTyQ6bFBxkfxrLceUbmFH9rpDThbVrBbjqfnbBR1sBFzVTduIiIiIiJb6sGgUEKHWEzq/YhKGPCfT2pmgCjTYEm1yTQoVG2qi+O0RQZ2svttMdYDJtkYFKr4IEuJOOwdiS7ZxnWNg0ItMQ/KVDJdkWLbLjmglDYYlbx/19Ll2dhi/AKaZ4cgQK1XW4NC3Tvj82mNgzsJ2qBQ8j5aIxmETm56rFge5KBQbcW/rfzUwE9VGBRKrLs+2nS/rY0Bo8ohg/qhWIeY1+xXA0RERERUPfV5UKj6EdDWEga0VFllB8dqlOMh1kGuI5PBbjdga4mgUxvl+BhGl2i1rXnGoL7p7hjEV7qbNxERERHVNI5yTFSrStx7a55MoyfbIFtmxbLjumbhYCVbeh2R1j14cj9E5ByrUgtqzWqDpvo0JDOYJSIiIqJKYgttDWMLLREREREROTK20BIRERERERHZGQNaIiIiIiIickgMaImIiIiIiMghMaAlIiIiIiIih8SAloiIiIiIiBwSA1oiIiIiIiJySAxoyW5azjmCCXPGA/E7MPP9eSrXmG96FqxWTnY0DyO15+vKZ+8eQd9olV1dLUKxcmwoesAP707uhjEqu7rGDB6GdzsYn4O7MkqvcomIiIiI7k3dB7QdYjFpUnyJaQR6+ahycngXZnXG3JhgzN2QpnLovtehG9ZPHsaglYiIiIhqVL1ooc1NXofFixPUtA9nDWeQUvXn9hJRKU9j7vpd2LV+rpirLX54NxpISjaoNBERERFRzXAKDAwskjO+vr44d+6cllmXfHqOQH/sxEf7s1WO/bRp2xqnfvgJrq4uuHXrNho2dMe1a/mq1MLJyQlFRVq1FFPRemWVvxD3PD5f+w+R54H8/BvQ6VxRUFColZnY2u69rFeZ46yJ/alQ/A5M8P0cS2YtUxmK7KI8OEQlDDi8oDO271bJ6NWYMDUSjbVE8TLZlXkItiM9NA5dZEOgIRHLh4zEBWNx+bT9SLKshzRsjemDZK1wHkau98du03bk68cD62Xael/S12J5dl+M6yo2IObnvjZd25/oc9uBwXEIkMuU2J/w99MxIFglbJUV2x/BRh1U7FUk7BqKEMM3mDdkJr5UuZKt97l8Ilgdq8fx0wGIDTe2vp7e/RnePK7NasYM7ge/g9vwr/b98AoOYvQ+BrZEREREjiwoKAhZWVVvcdTr9TZjTC8vL+Tm5qrUvaln99C2R4/wPHxbA8GsNQ8Pd4S0CYCbu07lWDRs5KGVNW1mDB+s2VpPslXuqnPRyrwae6oci5pYT6rt/bk3IoAcDBHABRu7JS9IQfBUeU+oKpvqjYOqbPkhoMtQy725UuOufYEEWT4PhxGJaBF8VoZlPbldHwywuue3XLtHYoncF9l12rsvorHEuM8imDUJGByB42p/t2ZHYojpnmERRA+ACHxV2fLUMIwzvWaJsrkxSehg3h9RBzKgNpdtR3Nz/VTGB4iPiUFMiWBWquj8KZe+I3qLQHXIos8w5JNjaBFtdY9th27ofeUg5l5UaSIiIiKiGlSvAlqfnhHwTE5EikrTAyA+AgHpSZbWyN37kG7wQUttcKPpWG3VUnlhfwpy1LxJzqElqrVyGZJTDfDyrdygU5b15D2+25ERHFGFIFFKwe6SLc1CxgbL/iavSwRCo9BSzId3CkHGUUvgqx2Lt79WhlPZyAmOsxo0Sxy3KUiW9aOPxDg1qNbMXbL111Q/dcRwDEtNra4XU7HnjB86dBDzciCpthlskSUiIiKiWlOPAlrZOisCghM12zoryS6zaacyUHCjdJfZ69fytbIrl0uGTrbXk2yV3yy8pZXl5uSpHIuaWE+q7f2xPzlyrymQE5O52209kJ1ZcdfmyjK1/IrpoPd047FatxjLLs3mFlo5VaXLcfkqOn+qaky3jmjYyjgYlJwmh+vRMLwf1mujJRMRERER2V/9CWg7tIHfmSTsrYXBoG7evKXdI1vefYNl3T8rVbSerfLr1/O1srLuO62J9aTa3p97kpBUvHU0OgrB+ixckAGbnEcilpsCOTuOktxYtZxKLef0Ld5KrA9DuKkFtI13lYLogE6WQDR8aCSQuk8LfJOPphUra9kzDI1NQXH8Dq1bsZT8mjjOBYmW1lutfvpaPY7H9Jieyip/UKiKzp9y6QPwyxZqvkUoerc6i+PHgY83fGbshqymRckGXE/ehiErUvGVWrwiT8/ZiF27NmJuXbZAExEREZHDqB8BrU8PvNTbE/85eEJl0P3E/BzawSFo3LVkC+R0rN4ADDC3woYhfYHqtrt7JA5mW3W37ZSNw95xxVsv71FOtjeGqO2O65qFreb7YOX+ZKHLVPWa0T6Wbs5ycCaZJwewUl2EZ5YILjMQofLTMcA7EetN3ZIT+mArTOuI1wxNwXL1muHIxqVoY742yTpIMA0YJfZHu6/YVN4Xl0z1Uylt0NTeT84xGNB4gLEVdv3wjri4+yA+VkXV1ca7EZC+HTPt0AJNRERERPe/ejfKcU0yjf5bm0yjHNemujhOh6KNclzGaMvVZBzluDNWJ6iM+5JxlOPNVWh1rTzZmjwdTXfHIP6+rkMiIiIix8JRjolqVYl7b81TVbrqUu2TrclpSGYwS0RERESVxBbaGsYWWiIiIiIicmRsoSUiIiIiIiKyMwa0RERERERE5JAY0BIREREREZFDYkBLREREREREDokBLRERERERETkkBrRERERERETkkBjQkt20nHMEE+aMB+J3YOb781Ru7ZGvPzJeJUyiV2PCriPoG63SDmceRlbi+bnh76fXSZ2XZtpf+SxgO9Z7i1CsHBuKHvDDu5O7YYzK1vInD8N6OWnlVTNm8DC82wHoEdUPK6P0KpeIiIiIHEW9CGh9eo7ApEnx5umlnt6qhO4bMsjdJYIubao4QLObNt5orGaLq1ygaK3cgHn9arRUyXtX9f2xGI+WD+pH5mIqRi/6DEMWHcRplVWSDFplwCsDVyIiIiK6v9R9QOvTA/2DzuCTxQlYrE37kBf+DHr5qHJyfDLoGwxsjQnGXDltAAbUVmtiQh/xmp2xfbdKV5OX73g1ZyU7ExfUbN1Yhu1DRL2+Nl2l67OnMXf9LuxaP1fM1TwZzMY2PoakMyqDiIiIiO4rToGBgUVyxtfXF+fOndMya1WHWEx64io++fArZGkZ7TFkUht8v3gzUrS0/bRp2xqnfvgJrq4uuHXrNho2dMe1a/mq1MLJyQlFRVq1FFPRemWVvxD3PD5f+w+R54H8/BvQ6VxRUFColZnY2u69rFeZ46yJ/SmPbNkcgiVYMmuZyhHi5yE8YTqSZcvt4BAtK+fQPBz0no4BwcZ54/Ky5TIOAdoSQMaGYKxOUAnrMkMitqaGocO5zsZyGURPjVSts2kimO6DZG2++PbMxPrLh4y0HZiKfZ3g+7nYr2BtG5D7AlOe3FfZzXY6uph6rqavNQeZskuwPC7xQji8YDuaT5X7YD1fgnl/5P5G4Lj8EUDVk3UdWLZrXWdGxnrfjvTQOOM+lThGWT6uq9rZEmXW2y1ef4LVeyYVf08q8ioSdg1FiOEbzBsyE1+qXJN7Ob+M/PDuWD02r0jFVyoHHbph/ZNXsUjkBYnAtsMPn+HN46qMiIiIiCotKCgIWVnGaK0q9Hq9zRjTy8sLubm5KnVv6r6F9vhmLN4K9Dd3Oa6ZYNaah4c7QtoEwM1dp3IsGjby0MqaNivdUdXWepKtcledi1bm1dhT5VjUxHpSbe9PeVp665F7ziqYlWQwq/0rW1CDsfyQAQidgA5Hja24lgBRBHOmlt2YebgUbbkvM/z9OHiJIE4rEwFVN1NwJu0eiSXaOmuRobKMpmO1OV8GamrbFQWzSmNvEeXFR8DLYCjVWttyzgQEp6r9EdNWxBnvKRaSX5N583BYHGawWN94TLLluDL7E4IBnZKM+RvSECCCdVMXZ+N2Vf2VoXHXvqKO5TLitRGJaFOXaRGUyh8ZTPs6d7c3xplazUXZAIhg3FQWk4QO5hZ1EWBbt7aL6XinqnSV/gDxMTGIKSOYle7l/CrX8YMYYh3gEhEREdF9p150OX5pAPCFucvxKTw6aQS7HD+AGmdvL97SFx2FYL0I5sz33srWTz2at5GF89Ah2ID0/SpQFgHs+nKCOrs5lY0c8U9LXx/k7t6OXBHcavNasD4e4aGw7I+QfDTNGAAXI4L73VatnZUiAl1Td+KEJGTovSt9z27OoSWqu/UyJKdagvDwTiEi2J1uua9Ztrh6+xu3K48zOE7LNwbkIug2d2dOxyWDek/UvcPJr1X1eIiIiIiI7KPOA1qf9q2A09+r7sbSCXx/Ro+mNRjQyi6NaacyUHCjdJfG69fytbIrl2XoUpyt9SRb5TcLb2lluTl5KseiJtaTant/ynMhu3RrZllystPVnBXZFdaqNVBOle/eWjNaemfheIII7Lwj7mEQJwMunVKzdUx2FbauV3OrsLl1O1jrAq4FvOYWWnW/riyXrbpaQGy/Qb7u5fwiIiIiogdXnQe0WZfz4BX0KCzxa3s82sqAK1Xvol1pN2/e0u6RLXl/qElZ989KFa1nq/z69XytrKz7AmtiPam296c8F/anAF1fsAQ98h7MygRBu/ch3bqbbLFHwUzH8XQ9gnuaAmXZQlrDj13ZnYlc777o5p0tAr9lIlD3QXAoVIAqW0BhtT/GVtAyg/R6QLYeW3dd1t4Tqy7HptGctS7NCxKRY2q9lV2OTctp3cVlN2oftKz043lsDwp1L+dXTXp6zkbs2rURcx32sU9ERERE97e6HxRKkI/tGR5uCUbO7knA+hoYvMU0WFJtMg0KVZvq4jgrJAMm80BCVoMMFctXig1QVHwQp3IHhYIBGTJ2PFrWoFAmxQc3KjbwUYlBkcqmXk8N9mQcVAk4vMA0inJlBoWyKDmIU9n7I19T3nNr2u/iaVvbLTkYV1npsgaFCo8XgW50pOU4tMGr1DHGz0Nf377oYnW/csnjsM32oFBVJp9DO7wjGqqk0VlsXnQQH6tn1gapXLMzBzFkw1mVsO3V93dhKNYh5rUPVA4RERHRg6c+DwpVLwLa2sKAlogqT7YmT0fT3TGIr+Nu7kRERER1iaMcEzkI2WppHijJajJ1waUHSRs01achmcEsERERUb3FFtoaxhZaIiIiIiJyZGyhJSIiIiIiIrIzBrRERERERETkkBjQEhERERERkUNiQEtEREREREQOiQEtEREREREROSQGtEREREREROSQGNCS3chnuE6YMx6I34GZ789TuUT3QJxD2rmk8NwiIiIiorLUj4C2QywmTYpX0wj08lH5dF+QwcjMXenFpyoEJeZgpp6oi/0Jfz8dI+NVguzn5dfw3vp5eO//eqkMiz7/J/JlmZw+ehFtVX6FTNvUphl4qafKl3q+iHfMZfMw5WWVT0RERET3pO4DWp8eeKk3sHtxAhbL6ZMzCBgeizBVTI7vwqzOmBsTjLkb0oD0tcb516arUiI7iE/Arl27kFCVoF8Gns82xXffZagMK6LsueZH8ech0zFRTH8+GYTflBH0liID1meBLWq9if+8gsdfNgXDvTDlN0H44c+qbMhO4NkSAS8RERERVYlTYGBgkZzx9fXFuXPntMxaJVtn25zC4o0nVIY3er38DLB1DfZmqSw7adO2NU798BNcXV1w69ZtNGzojmvX8lWphZOTE4qKtGoppqL1yip/Ie55fL72HyLPA/n5N6DTuaKgoFArM7G13XtZrzLHWRP7UyHZXbRTUolgdh5G7orA8Q3AgMEhWk7GhmCsTjC2hI7rqtfyrJnKJdlyOSDYOK8Fy2rblnwDDi/YjuZT4xCgzXfG9t0ltm1IxPIhI3HBmDLup9oXqSr7U56K9qfi47BmWc9Yf3JbRpXZF5Pi207D1pg+SJazsruvbxLSQ+PQRTvc4mWmusk5NA8Hvadr25DzS2YtE7m29mc8+q6frrZpvY5kXSZeT5wP3Xw/tyq37ek5GzG9ayOkbYiRsW0xZZ/PIrhcH4nLf34HHwWJwDbsJCb+915VZmyd7ZAyHQs/VBkyUH0Z+OilT/GDyqoUGTSbtl3GNkq9DhEREVE9FBQUhKysqgdner3eZozp5eWF3Nxclbo3dd5C69PME2jVxtIi6/MoAsSBN63BbsceHu4IaRMAN3edyrFo2MhDK2varLHKsbC1nmSr3FXnopV5NRbHW0JNrCfV9v7cuxAMkIGuasUNiF6NliLX1LK7/JBBC360cjGZAiQZYHY4aszTlsvua+4KnPyazJuHwwYgOF4EzNoyKggUQdkQLDGvN3e3N8aZu0CLgGwwRACnysR0vNMOhIuSivbHFlv7I4+jW7Zpe2uREdwXfaOt1wvG1nRjcGhcxhTMyiDQtC05zcOl6CPmdW0SdTAAqrVcm5LQwaobeOOufYEEY9nyQz4YYCpL6KPyxIGETjDXvzHwtL0/4e9PR/PdqmxBItD1Ba1epZZzJqBLtml/xL5Y/aBQGV/OGoSYmNLBrFT2+bwXC4eIYHa/ShYThIeb5+HyadXtWHY33n8Rlz0bI1AtYVsQXvpIdSu2DpSDGkPvGYSnzC2yvdBBbLBZyyCVJiIiIqKqqvOANmv/GnyS7Ilo0z20A1qJ3J/x/XFjOT0I0rDV1GqbkIQMvbcW0No2HuGhegQMttyXK1tPG3uXbM7UI3e3al1UwjuFiIBtuuV+Xhk8efur10zHJYMIsGX+emNgnfxa8fWrp/T+yEDZ0hI5HcdF8Fop0VEI1qt91SbZwqlH8zaq3JZT2cgJjtPWM/4IMB2rrVrOcw4tUUGz3L/tIsiOMAefJo2ztxcP5ivYHxmcm5ffvQ/pIiY2Mr6XGUdNry/2RXZPd1in8dFLqltxSjvL/bcfvm/sgvwb0z20kWiWl4cfvhaRMxERERHdk3oxKJQMarX7Z+X0bR68zpxCiiqrCbLLbNqpDBTcKN1l9vq1fK3syuUclWNhaz3JVvnNwltaWW5OnsqxqIn1pNren9onu96aWgPVVKw7s2TApVNq1oqltVNN5i7Hy7B9iMqTLbdaYGZsobWPMvZHduM1B4FldTG2QXaXtj4OMVWmxRi7R2KJWl52G9Zeu4qjB+dklxF529gf2RJtOU5L1+OaVtHnpLTTOH/JE82CgB3/LYJS2UW4ZwsRfObgR7VEpX14Ej9at+zKoNZ0f+2fZSB7Gl+X2UpMRERERJVRP0Y5NjENEGW+n7Zm3Lx5S7tHtuT9oSZl3T8rVbSerfLr1/O1srLuO62J9aTa3p/atQzJqUCXoZYgTAZMlRl9OPmopVuzRgaU1l2Oi3Wvld2EfdCyMt1475FsMbYE2MZuyZUiWzkRiWjzQEiyy2/luxybRk3WujUvSESOuZUaaBwaZZ5vOacvAtKTKm6ltrk/shUWVj9ArIVlKCb5XhoQ0MnyXso6qRIbg0JV9Dkpy46UDAT2tIxs3PapIOgvXSx2/6xxFOTX0EelJS3PevCol9shsMxAWA0Q9WHpe3JffX+XOJYEvKrSRERERFS+uh8USpKB7PAO8MLP2L14c421zpoGS6pNpkGhalNdHKctZQ6mZB74SA0KZRp0qFRaEMHnhKmRMN3VLIM/U6tfVQZTkve9mrr2Ftsn60Gh4uehr29fdLHaX+v1NDb2pzw296fY9gw4fChLvL6P1cBPggy6zfeVVn9QqPB4EdBHR1q1klptU7zWhE7i3+AQtU9lDwplVmxQLRv7U2zdNHGcPuI4s9S2rQeFEuulp8Er2z6DQpVHBp/PlbopNgNbhryPHWKu7fQZ+M3j6l7xvKP4c7EBoeR9sq/gcU/L8ibF1rPanpEcjOoZBCIP38kBqUq1zj6NuaIeQlPnYdCsL1UeERERUd2qz4NC1Y+AtpYwoCWqBBnQVmGEYbKnV5Gwqy+uLBiEmaYfM4iIiIjqGEc5JrrvyZZJy32w5kkNLFX76tv+UKVEt0JLQyr2MJglIiIiqhS20NYwttASEREREZEjYwstERERERERkZ0xoCUiIiIiIiKHxICWiIiIiIiIHBIDWiIiIiIiInJIDGiJiIiIiIjIITGgJSIiIiIiIofEgJbspuWcI5gwZzwQvwMz35+ncqnSoldjwq4j6But0rXB7q8pn3+7A+EYj77r7bjdFqFYOTYUPeCHdyd3wxiVfb8ZM3gY3u0A9Ijqh5VRepVLREREROWpvYDWpwdemhSPSS/3gI/KMusQi0myTJtGoFepBciRyUB3pnXQJIOoBzLgNQV75WjjjcZq1m5kXa9fjZYqWUpNvKYjMQfKREREROSIaieglcHs8A7ISz6O0o/NbY8hvT3xn08SsHixmD45g4DhsQhTpXR/yDEAwT3Hq9Q90loT0+/f1t+EPpgb0xnbd6t0baj113wac9fvwq71c8XcA04G05OHYf1gP5VBRERERFXlFBgYWCRnfH19ce7cOS3TvrzR6+WhaPptAtZnicB2APDFh18hS5VqrbNtTmHxxhMqQy7/DLB1DfaaF7KPNm1b49QPP8HV1QW3bt1Gw4buuHYtX5VaODk5oahIq5ZiKlqvrPIX4p7H52v/IfI8kJ9/AzqdKwoKCrUyE1vbvZf1KnOcNbE/5ZEttNHntgODI3A8pg+SZWA6NBNLXptuXECmp0aqlkIDDi+wCrCKlQEZG4KxOkElKhD+fjoGBKtE+lrM1V5PdoV9AUj1QZeuWdgak4QOu+IQYEjE8iEjAbmvSIFX10jkitc63kluw2qfyt0fud3p6KL1Ek3D1gXZ6KYtJ+ZNryGLrKnXvFBsm3J5UUfavCRbdUusa1pPzpdXdyX208xUDzZfs0TdWb+etj/ifdwADBgcouVU5T0BXkXCrqEIMXyDeUNm4kuVa1L180t2QQ7AcXHMsdHGwPD07s/w5nFt1hg0Du+IhippLiuRb3bmIIZsOKsS5anKaxqQ9Mk2zL2oJcrfHyIiIqJ6LCgoCFlZVQ/O9Hq9zRjTy8sLubmlmzyrohZaaLOx90MRzJbzpc2nmSdyr1xS3Y5ld+NsZOXo0bQGux17eLgjpE0A3Nx1KseiYSMPraxps1KhgM31JFvlrjoXrcyrsafKsaiJ9aTa3h/bpuN4egg6xKukmQiQRN76mGDM1abtaD7V1C1XBInxxsBSK1uQCK/BNrrsWpFBdLfseWqba5ER3Nfqfs4QBGMJlh/yQbf1/iLIFuV6b3O33IBQsT/ytaKPoOXRYGxN16N5G1ki9ycM6QtM+7pWBOmmrtTLsH2Iei2I7Q41HZMMFKdjtWk/tOBRrW8KEnePxBJzeUmmdY3T1nQgJ3WfJbic6o2Dqmz5IaDL0HlaiXmb4jhyZECqljEG9VblZb1m/A4MgAh81TrLU8MwrlireAgGdEoylm9IQ4AIjsvt0lzKB4iPiUFMGcGsdG/nlx9i22ZgyKLPMGT3WQQ9aepCrMfMAQE4+YnIl2WLDopAvh9mthBFF1MxWuZ9cgzXDcewSCsXU4XBrEl5rymC3QHAUtP2Fh1D4+Gme37l/nTERRHEamXitVtE37/3AxMRERHVBg4KRbUmeZ0MEksEP/ERCNBHYpzsSqxNsjXSBy3LG0zIkK2COdsuzOqMJbOWqZQMptWsJg0HRdmFc1mACA6TkY5LBlUkZIhg78LuTOQiBckJYlvZqjA6SgTCIs/Ueqxt1xTsFpe+ztSiaT+y1VQG6dbHtdqqZfXC/hTkqPnqCO8UgoyjKvAVtO16+1u9byIoNwXGCUnFfgyoG2ex2RSIHs/AaX0TBMn5Fn5oJ8L1f5laR8Vyx8/o0dhbJaulnNfsEIAgfUdMll2JtambyNfDTwbRZTFcxWk1S0RERERVV+cBbdblPHg1bS6+FG7G4sWym7E3fBobcMXO3Y2tyS6NaacyUHCjdJfG69fytbIrl0uHBrbWk2yV3yy8pZXl5uSpHIuaWE+q7f2p0O59InQMQ3jJAFB2g1WtgcbJ1OVYtnrOw6VoFexODUN6QiUDRTnSsjlItuo+WyuyRECsZu1EBrMdjgZbBbOS7OZsOcaZZXUxdjDVOr/qC9lt2dxCKydTl2MD5q7YhpwnVbA7PAAnt6biK20lIiIiIroXdd9Ce/wUzraKsIxs7PMoAvR5uIcu2pV28+Yt7R7ZkveHmpR1/6xU0Xq2yq9fz9fKyrovsCbWk2p7fyomAtTdWegSbTXkl2zhK9YduPhIwOHvTxDLlAx0K6a1Mpq6KsfMw2GrFth7ZgrIrfa1Q7ABl06pZI0wBq0ymC11n6rWYmzVnXhDmiqonuSjaQjoNE+lgJY9w9A4O9NOLc62B4Wq3vlVwsWzOIkA/NLcOuqHDq0MyMlWyZogW2tbdTR2a9YUf8zQmMHdgK0lA93Ke3rORuzatRFzy+vBQERERFQDCgoKRGxwrcpTbaiVgNan5wjjI3mGd4CXvgOGF3s8zwms10Y2Vo/tGd4KGZ9sRoq2Jt13Ej7HYeitWhKnY/WCFARPNbU09sWlBZZutMnrrMuMk7zntiJa9+bBpnVEUJwqAump1X0uqgjIE6z3Jw7YYAqyTa2lsst0CAaUua/G+4hNZTNNj9ORAzSp7VnWVUG9DFr1QID5WKzKdo/EwWyr7tqdsnHYO674KNBaEG61jKnM1msm9MFWiO2odcaFpmC5qYtxtbVB01p7vKoBc7dmoN1wS/df7C4RRGpBr1UX4WqPOHwWb35i/ZodkfPJQXysSj8+aF1mnORzZyurjXcjIH07Ztq5BwARERGRo6qFUY7rD9Pov7XJNMpxbaqL46wRMuiSA0aZR9gVZJ71CMlEjkKOcCwHjFph1c1Y5nUzYHSlBqOSrdvT0XR3DOIrPao0ERERUfXda6xY0Xr2GOWYAW0NY0BbHbLV0/QoHBPTo2nKeJyNVOwRM0T3Qo+ZY/sholRL8llsXmRpba26srZb4rE+NslHHoUjOSYeH6gcIiIiotrAgLaeYEBLRERERERUNfU5oOVje4iIiIiIiMghMaAlIiIiIiIih8SAloiIiIiIiBwSA1oiIiIiIiJySAxoiYiIiIiIyCExoCUiIiIiIiKHxICW7KblnCOYMGc8EL8DM9+fp3KtRK/GhF1H0DdapaliWp2lY6ac1q9GS5VdWeHvp2NkvNV7Yw8tQrFybCh6wA/vTu6GMSq7bslnvA7DyqhSD4+9Zz2i+hm316Eb1g/2U7lEREREVJ/UXkDr0wMvTYrHpJd7wEdlWXij18uibNII9CpdSPeLNt5orGarwq7BmB3U6v7sHoklMcGYG7MWGSrr/lWdAFmPxvcSy5qDcyIiIiJyRLUT0MpgdngH5CUfR+nH5spgdigeyzmO/xhUFt2fEvqIwKwztu9Waapzr76/C7t2JeBVlXZcZ/Hmos8weh8vIkREREQPEqfAwMAiOePr64tz585pmfZlDFibfpuA9VkisB0AfPHhV8hSpT49R2B40yQs3nhJLPcMsHUN9poK7axN29Y49cNPcHV1wa1bt9GwoTuuXctXpRZOTk4oKtKqpZiK1iur/IW45/H52n+IPA/k59+ATueKgoJCrczE1nbvZb3KHGdN7E+5ZLfZqZGqdTYNW2P6IFmbl+Zh5K4IHN8ADBgcouVkbAjG6gRjS+i4rqWb3UzlkuxSOyDYOI/0tZj72nRt1pJvwOEF29F8ahwCtHljQF1s24ZELB8yEheMKWOXabUvUlX2x5Zi+2r9mvL1OiVhK+JUeck6kkQ9rffH7pL7GZ1dbN/la3TLnocls5apHFuextz10/GkPg3rYuLxgco1sXUelE12++0GfJOBdtEd0VDkXE/eZhVkyvJ+iDBV4ZmDGLLhrJgxtswGGXMtDMewaEUqvlLJshXf5undn+HN48Z5m/sjW2aHG/OKMe8TEREREZnca6xY0XpeXl7IzS3d5FkVtdBCm429H4pg1vwls7is/WtEMHtCpWqHh4c7QtoEwM1dp3IsGjby0MqaNivdOdbWepKtcledi1bm1dhT5VjUxHpSbe9PuSrsNhuCASKgmyuX2ZCGABEAy3tFL8zqrOUtP2RAzqF5xnIxmYJHGWB2OGrM05bL7mvuCpz8msybh8MidgmOFwGztoxqHRaB4BAsMa83d7c3xpnv+RWB42CIgFKViel4px0IFyUV7Y9N4jUHQATcap3lqWFWrykEx5mPZWt6CLpVpktzQh9szQ5DuPme5Hno4J2I9ZUKZqUvMXNIDGLKCGalis6vsukR8SSwdNFnGPLJMRFhdzR3Ie4R1Q3tTm/DEFkmps3opu55NbauDll0EKfF/GZVPqTCYFYyYO4Ktb0zKquYcvbnYipGq7zrMnA2vSaDWSIiIiKHwkGhqB5Iw1bVsoqEJGTovSsx+NF4hIfqETBYDZgkJtl62tjb1ARqokfu7uKtneGdQtC463TzelprrLe/es10XDKIANtqEKbk10q2lladfM2Mo+oYhQv7U5Bjfk0hfa05ME4+mlbGcZQt+WgWugw1BsYt5/SFV+o+SwtunTAgaasKRC+exUmDHn4tZEKPXwYBJ09YugR//MNZNGxausXbvsrbHyIiIiK6HzyQAa3sMpt2KgMFN0p3mb1+LV8ru3I5R+VY2FpPslV+s/CWVpabk6dyLGpiPam296f2yS7ElpZUbTIFxmYGXDqlZq3IbsLF1jN3212G7UNUnmy51YJeYwttvZTwOQ5790XfaBngZ+FgpVtnK1bR+UVEREREVNceyID25s1b2j2y5d0XWNb9s1JF69kqv349Xysr677TmlhPqu39qV3LkJwKc+ukVNnRh2ULqKlbs0bei2rd5dg0rw1iJbst+6BlNR81pL1mJ6t97RmGxtmZdmhNNdZDcPwEBKd+XuWWZFuDQlV0flWNAf86DbRrb2mRHdPWD9evOPAgTtFzsXHXLmyc87TKICIiIqLaVisBrRz4aZJ8ZM/wDvDSd8BwOW96RI/pcT6ThuIxvR6PDZfz8Xipp7dxZXJ85mepyoGZVHfeKrR6yu65sOoiLJ+rquXP6qwNpGTKH+e93TwYkhwcaeau6egizqkuU43l5mBXBKraPaxqPW1gJVPLrtj2pey+5m3KbQSnLik2MnN5+2OTvN/Vel9DUyyvaYt13ekjy2wxvjBrO3JFnJi+v6qts0+jVS1+zL7adxAng/ph/eRh2hSLgyVGJT6L42f8EKvK11fqcTrG589q22sFBEUb59/toIorIrshoyMmm16zKs+bbdMUjZCG7bO+VBlEREREVNtqYZTj+sM0+m9tMo1yXJvq4jipDqlRkkt3t6aa9PScjZjuvR0xr5U1pBYRERHR/eMBH+WY6EEgHz9kbH0tNqmBpWqGes3BPji87n4NZi0tsMWnbubRk+tKG+9GSDvKYJaIiIioLrGFtoaxhZaIiIiIiBwZW2iJiIiIiIiI7IwBLRERERERETkkBrRERERERETkkBjQEhERERERkUNiQEtEREREREQOiQEtEREREREROSQGtGQ3LeccwYQ544H4HZj5/jyVa8w3PZdVKyfHFr0aE7Tn68rn4O5AuMqurh5R/bAySg906Ib1g/1UrjHf9PxZrbyWlLc/RERERFR/1F5A69MDL02Kx6SXe8BHZZl1iMUkWaZNI9Cr1ALkyC7M6oy5McGYuyFN5VD9Z99gtTq+2rcNQxZ9hiG7z6ocIiIiIiKj2gloZTA7vAPyko+j1GNzZVlvYPfiBCyW0548PDagjKCXiBxD9Fxs3LULG+c8rTKIiIiIiGqGU2BgYJGc8fX1xblz57RM+/JGr5eHoum3CVifJYLXAcAXH36FLFUKH2/4ZGVbpWXw2wTfLt6MFJVlL23atsapH36Cq6sLbt26jYYN3XHtWr4qtXByckJRkVYtxVS0XlnlL8Q9j8/X/kPkeSA//wZ0OlcUFBRqZSa2tnsv61XmOGtifyoUvwMTfD/HklnLVIY0DyPX+2P3kJG4IJOyO2s8sF6mteWzkds1El6H5mE9JmBcVz0yNgRjdYKxK3P0ue3A4DgEyHUNiVhu2k4Fwt9Px4D/3969wFVV5f3j/6QgqFwVEPECAt4AA8UMQwQUkrymmGZa2mhjPtrYPGNTjj//jn9/jvVUMzqTjzZpt9GaLG2sTA0vmBqUVxIwFBAQEbnIVUUl+621zz4X8HC4eLic/Lxfr617rbX3OXuvs9lnf89ae20fNYF07Ioeg9PKfNO3xyRl3ZPI8JuGYKXXrOF71tqejG1Y/fxSZVbu41zXPbo0MA8x25fCZZ94T9S/PXW9rtItPPAkdmGaWq7dHtkyq9anoUbULRZsQNwUX1SKbZq8/ICaqXFPx09AKD50OYNn4svVDKknXv+NA5IzPTExSNMdOXPfJ3gpWZkFuvnhwxmD0FlNXju9W11fs15p6SAMcTqDtbuA5+RyOUcRu4MtwURERESGmhor1reeo6MjysruavJslBZooS3EwfdEMKu9wKzNMJgV3Ab2hmPOebMHs4Y6deoI376esO1oo+bodbbrpJR16eqk5uiZWk8yVd7Bxlopc3SyV3P0mmM9qaW3pzk4hbgiOXobyvwWIgrrsTmxHI4e+vtwPacMEeU+SpfmXYXDEduQe3RFMDcOIrhT11sdfRIBBvf8mlLf9pjiFBIDbNC85+ZEN4xT31MGraGFa9Rt2YZsnxjERClFyF++Hidch+i7/kZFwKdwmy5gNbU98nUDkrT7KN6zMKbmPcw+03TluzJ8EaqULcUW7XYoQa66fkODWWnDAkRHR98VzErNcvw4DMJoiEBUdkv++Ay6RYVitqYAy8Z5Iu1jkS/LxPQOBmFZN6VQWc/p3Cf4otQTz4UC74h1rzk5IEwtJiIiIqK2r00NCuUWPhMzgiqw7/Ozag7d70oTP8VpZKAIBUhevgn5eYY/fwDZO/StnKc/SwD8IuCuput0vhClIpjTD1IlgjhdC6hp9W2PKaWJ67Fnn2Y+f/keEbhqAlV5j7G+1XopkjPUWcUmnE51U4NNIGjqcJQl6be17u2ZhyA/BxHwawbjkpNsvXVy1TVLKy222sD4dFJ6zTJLUn4G72hbba+kYn9OTwQEyEQ5cksdMGSGHFBKE+Qejj+K1VdkmSDW+yIZyLwqVjuXisNXyqEtIiIiIiLL0GYCWv/JCzDDOwcfN0NX49pkl8f089mounF3l8drldeVsqvFpWqOnqn1JFPlt27eVsrKSivUHL3mWE9q6e2xGPtmYb3a8njUdakm4GtgC22zkN1/1aBTTvqu0Boy+C0LeUIEv2sQ4JqAffV1b9Ypx4nX1BZW7dTAwL25tPTx88EOtXX24xKMVkZKfkzfQktEREREFq9NBLQymH3o6mdYZ3hvbTO6deu2co9s7ftDtYzdPyvVt56p8mvXritlxu4bbI71pJbeniZz8EeQ2sUWfV1xd2fvunkG6gNR2XqJ1Pj6u8aKAHLWAs3s6edFkPdaAkpde+lbdu9he0xxMmg9dl8VA8+Mk0rrclCgr3LfqyboXIMThreIKmSrrS9Ct8cowXjDuv7Kll0geKq+fmQX5BZ5bJKJQaGa5/jxxEhtkNrND6N75yJZucXBAcum+Gm6EF9JxTMisP0iR7ZSywwz4OBXRERERK2uRQJa2ZVYeSTPjAA4OgRghuHjeQImIqo34Bg01eDRPQsQq3QZpF8DGUgprY9TfOEUUrtFdCm27ChA8MtqC2WUG+5uG69bNoboWzZdE7C9xoBTxgWhEEVR6vvJ6WV/ZGzQBor3tj2mlBa6IlZ9z7khBdiltpbKrtKOuq7BC0VQLt//lO4+WknpTu1QgOQGt85qujLLQZ+0+ykHl6o5IJcpmiB6nLruMuW5sw3Utwvs1Flz0D2HNqonOgep84bPhS0vh9M4zXNqt88YhCv7juIDmd/NAblXnfGi0jKrmSbiqH7AqHul7Gc69hi5V5iIiIiIWkYLjHLcdmhH/21J2lGOW1Jr7GdrkIFyVN7g+kcYbguUUY5rj/DccHJfY7G+yev/emlGK/7i3VQcVnNayqhVn2Op6x5EP/+2mkNERET063Sfj3JM1NLko220LZ6G0179aMFmJx93Y+Q9G9OyaYx8bJB4Hdmie5TBbJvS19UO6UkMZomIiIhaE1tomxlbaImIiIiIyJKxhZaIiIiIiIjIzBjQEhERERERkUViQEtEREREREQWiQEtERERERERWSQGtERERERERGSRGNASERERERGRRWJAS2bjvuoUFq6aByzYi2Ub16i51FY1z+fVE6+/GIrZcMCy3zyGZd3UbEMBodiuLNNwYRGP4cMIB826U3qquURERER0v2u5gNYtDHMWL8DiZ8PgpmbpBEzEYlmmTDMRedcCRL92azArbi+C1NSvWZiLCEyJiIiIiMygZQJaGczOCEDF6WTc9dhcWTYa2LduA9bJaX8FHhxnJOglohY1f2Mc4uI2YL6aNpfD8bsRu/YoPlDTRERERERN9UCfPn1+kTMeHh7Iy8tTMs3LFZHPTkWXYxuwvUAEr+OAr987jAK19C6ytbbveaz7/KyaYT59+3nh/LksdOhgjdu3q9G5c0dUVl5XS/UeeOAB/PKLUi011LeesfInpj2OT7f9R+R1wvXrN2Bj0wFVVTeVMi1Tr9uU9Rqyn82xPaYEbczAOB81UZ6AzbGzkK8mNa2T0+CpzJfjxGuDsWefkhDmIWb7UgSrjXrZO3ywZYNmXnaZjcobrEvL9whIUssX7MVCj5PI8JumrpuOXdFjcFrOCjW2J2MbVj+/VE3IbRmC5B3AuCm+So7he9a9PXK9GBQZbrvsyhtVWGtfazPcdwNqHUHs41zXPQbbp3l/l33yfeX8E8gX76fd1tLENVi/fJMyL9W9n/UZhdXifYY5pOOz6AV4W83VatJxILsLR6ndhcvPYO27qTisSWH2lOmY2FvOlePkx2fgNCMU3sr8bqy+oixCRERERK2kqbFifes5OjqirOyuJs9GaYEW2kIcfE8Es8lq0igZ9KpdjpspmDXUqVNH+Pb1hG1HGzVHr7NdJ6WsS1cnNUfP1HqSqfIONtZKmaOTvZqj1xzrSS29PXUSgd04iGAq2keZNqf6Y67unk0ZlE0DRGColL+WAp8FW+CulgZtXAqf1DXqutuAKQ3vlusUEgNsUN8z0Q3j1PeUgXBoof41s31iEBOlFKl8MS7wpKZ8Rzo8oxqyPUuxZUcBfMLnKSkpKNANJzaYCmYlsZ52O5SgW7O9q9UgOH/5epxwHaLf56gI+BRuMwiwDbZVvEZZyELdvsj9lAG+pkzUQWGM5p7ZBjmAZbHRiDYSzEpNOg6SjyJ27SeIFQHrNTVL64MdIn/tbpwsB/qP80SyXE6kGcwSERERkSltZFAoTdCrdDk+39f4fbZksYICfZGdpG8ZzD+UglLXXpogUQZoSMA+bYC2bxbWb4hXE2sQ4JOOo7oWRxn8fYr8GsFn3UoT1+taS/OX7xGBqyYwzF8+2KAVcymSM9RZHRFYalsyN5xEtoOrGtDWsz1i2bKQJzTBpwiCQ11TcFrX0txUm3A61Q2haiAaNHU4ygzqssa2iu3Zlwg1qJ6HID8HeE7JwLI4zTQ3xAFOrtrm2rbKAVd+YHdkIiIiImqYtjfKcfJ55Do4w1VNNgfZVTL9fDaqbtzdVfJa5XWl7GpxqZqjZ2o9yVT5rZu3lbKy0go1R6851pNaenvMZt8mE62aouxeg0TZFVgN8uSk65LbJIbbIwNKTfDpHu6PMhGcm26dbRgZjGsCZRFQuxoE//WS3bf1LbTK1OAux6Y133FQjtJCdZaIiIiIqB6tHtD6T16AxZMHqikhoC96lpegOa9pb926rdwjW/v+UC1j989K9a1nqvzatetKmbH7DZtjPamlt6cup5PS4Rm4Rk1BCfacCi9qgr198cjAcEQtUIoEw9F+Zeupr651UtM9+VSN7sH61xVBZK1fQZz8InRdhd1XxcAz46RyD63SYqzt4hy9BifKNcvUr/7tka3P8FuIWL+URgSe9VHfd3uM0oJdM0j2RYBB3UWFABmHZAuybNkFgqca1Lv2MT0NZGpQqKYcB80qajU+j4vD56tGqRlEREREdD9ogUGhALfwmZgRVPtRHeX48eOtOFhQu/wS9q37AiIsMDvtYEktSTsoVEtqjf2sT3MMClWzrByl5Q4oUwZLEkk5KFSg+N/HF5q7oQ0GhYragoUvD1fzxfslFiA4xE19X3VQKN0AUrXTprZHQ+6rvEfXcHCmhjBZR8o2u+KowcBWmm15Ai6FvvBU12upQaGaxHBQKC11cChv3aBQetdO78Yz8Q38tWHBBsRNgfm2lYiIiIh02vKgUC0S0LYVDGjvI8oox582Oqi8d7UDYPOQrauxWF9rfzQBbX6sed/LEo1a9TmWuu5B9PMMZ4mIiIjMrS0HtG3vHloiCyVbQ5fFTYNj4qe1AkwZeOrv2dVPDRixWbbMimXnhhQYDEZFtfV1tUN6EoNZIiIiovsNW2ibGVtoiYiIiIjIkrGFloiIiIiIiMjMGNASERERERGRRWJAS0RERERERBaJAS0RERERERFZJAa0REREREREZJEY0BIREREREZFFYkBLZuO+6hQWrpoHLNiLZRvXqLmtQ26L9nmvyja1JLn/DXnGbEPJZ9Fu3wJ3rMEsM75uWMRj+DDCAQgIxfYpPdXce9UTr78YitlwwLLfPIZl3dRsIiIiIvpVWbFixV1Ta2i5gNYtDHMWL8DiZ8PgpmbV5hY+E4vFMrEBagb9ijQ9GNMFyo2Qv3wwVkf7YPWOdDWn5bh71HWEmzcgbX4yKJ2O7UqAqurmhw9/44cwNakPYImIiIiIWl7LBLQymJ0RgIrTyajzsblimbHeOfgxR00TWShNMD0Gp9V0s4tajc/j4vD5qlFqhnmERYSif+YZZKppIiIiIqK2pgUCWldEjhPB7P4N2H5WzbqLXMYZx947jAI1pzl16GCNBx54AHZ2ndScmmSZMfWtZ6q8c+dOSpmtrY2ao9cc60ktvT0ykFu/fBOwYQxWP79UzZWtkrLr7zR4whfj1G7Ay5QutCqli66aH3cKMVGabG234bkhDnAKWapbZtYCTTkwDzHbteuZq2ux2F7DbdN195Xk+4ntWyDyjL2n4X4YvkYD6iBoo5qnTLVacffNwvrYWcjHUmwxFij37QI7dbY2U5/X4fjdeCa+HEg+itgduWquqpsfnutyRlPeKLl4ae1RfIByrH53N1ZfUbOJiIiIiJpBCwS0hTj4nghmk9WkEW7hj6LLsS+QoqabW6dOHeHb1xO2He++yO8sgjhZ1qWrk5qjZ2o9yVR5BxtrpczRyV7N0WuO9aSW3h7jZBDmg9XR25CNdOxS5sWkBGiSCPamQJ//Wgp8XtYEdNpuw5sTy1GauEZTLqYtG5QVRRC4FC77tOslACFPtEB3XgcEi4B7u7H3lIG8ml+qZmnUUwciEB6HbZo8ZTqJgMbcg7xhAaKjozF5+QE1Q6/xn5fkgGXjnLG/dpBLRERERNTGtP6gUAETMRbfmAx46VdswRB4ZpzUtzrui0dGuRvc1VZaU04/rw9uNeup882qHCc2qIFoI7bVpPOFKPWZprTOalp8RQCsa+FuebOnhAK7ZCsrEREREVHb1soBrSsiH+oBx6CpymBQcorqDfQcLeYnD1SXMb/r128g/Xw2qm7cVHP0rlVeV8quFtdsY5NMrSeZKr9187ZSVlZaoeboNcd6UktvT0szHMl4WdxSBDuoBZZGdilWW2ePuqpdq800SnSjP69ufhjd2wFDZsjBoDQDQnmjJyaK+dc5WBsRERERtTGtHNBquiOvW6ef9uUAufvF/Od13nB7z27duo1ffvkFlSJ4NUaWGVPfeqbKr127rpRVVRkJEpthPamlt6dJNpxEts8QfbfdqAj4OBQgf5+artM8BPkBJ17TdtOV3XnNxMEfQdpW176uuLvzuZkt2Ku7L1i2Oitdll17GdyDWw8Tg0I1+vO6kopn1n6CWN10FJnIxRdi/iXZi+JKOa44eGKk9nE8AZ7wLi9p1MBR8zfGIS5uA+araSIiIiKipmqRgFb7OJ7FMwLg6BCAGUpr7ExE1vV0E/oVWorkDGMDIi3Flh3Q57/sj4zXag58lH8oBbhrUKhN2LOvAMEvq+vFDUFRopt4Hc39t7rW2ym++gGlGtTqKbfH4HWj3GrdD2uCdlCol4fDyWE45sr5GoNDGa+DIBSiKErNU9YXdaDt1twQJgaFMr9cvLSvXN+CG9UTmT+k4rBaWr9R6O0KVCZ+irfVHCIiIiKipnqgT58+SnOkh4cH8vLylMxfq779vHD+XJaaahlPTHscn277j5pqGa2xn0QNMx8b4mJw9bXJWFZvKzwRERERtQXGYsUVK1aoc3orV65U5zTqizEdHR1RVlbng10bpPUHhSJqUTUf9aOfaj0qh5pHVG+4l6diP4NZIiIiIjIDBrR0n9mEPbHa+24NJyPPdyXz27cMk2OX4e4HDBERERERNR67HDczdjkmIiIiIiJL1tRYkV2OiYiIiIiIiOrAgJaIiIiIiIgsEgNaIiIiIiIiskgMaImIiIiIiMgiMaAlIiIiIiIii8SAlszGfdUpLFw1D1iwF8s2rlFzW458/1kL1IRW1BYsjDuFmCg1bYnkPmzfAneswSwzPi83LOIxfBjhAASEYvuUnmpu62lr20NEREREbV/LBbRuYZizeAEWPxsGNzVLy3+yyJdl2snIMkRN0tcVTupsTU0PDnWB+6+ZDCpfnK5OoZitZqObHz7U5WsmJQhV9MTrtcq2v/gYlnXTlM6eUrtMTAxciYiIiOgetExAK4PZGQGoOJ2Mu58y5Ao3p0vYt24D1mmn9w6jQC0luicbxmB19GDs2aemf42iVuPzuDh8vmqUmnGPZNAaBXyx9hPEyknU3UTDwLP8DNZqy9YexZWgUDVozcVLSt5unCwvx8mPNfOrryhrKTL3addTpx25agkRERERUePpAtpffvlFnTM3V0SOE8Hs/g3YflbNamUdOljjgQcegJ1dJzWnJllmTH3rmSrv3LmTUmZra6Pm6DXHelJLb0/+8sFYv3yTJoh8fqmaq5LdkOMyNJPSfVZlkC9bPYM26uc1ZEuqup6YanYpNigzfE1J6WqsXc+wJVa7zjR4whfj6lrfCNkyK5edG+IAp5Cl6mtrt0m+bq2uzXLftK8r5heuWoOY7er71Wod1r62MtXeln2zsD52FvKxFFuix+C0mq3Ttwvs1NnaTH1eh+N345n4ciD5aI3AMmygJ3D6DD5Q00r5OehbaWvIRXKOqA9XNXkP6toeIiIiIrJMzRdj6ukC2ps3b6pz5laIg++JYDZZTd7FBV1QAjeDbsexAWpRM+nUqSN8+3rCtuPdF/mdRRAny7p0vbujqqn1JFPlHWyslTJHJ3s1R6851pNaenvqJIPLKcCuaB+sFtPmVH/EagNWpQVV5CWKQMZvIQKSNMsogTHmiQBwCJLV9VZHr0FRlD5oDNo4DY6JazRlG4BQEWjqyCBQWWcbstUsDRkUavPTddu0WgkYTZMBu3ZbS7XvK6Yt4r2V191RAJ9wfVfkoEA3nNigf12nkBixv5p1Nie6YZz2PmMR7MZive71Vu9zxdzG3IO8YQGio6MxefkBNUOvKZ+XdxcHXCkSn4eh5Fx9gFtDTwT0FvVRqCbr4R1Vs8vx6838t05EREREraf5Ykw9XUBbUVGhzrUChwB0Oa92N/44GfajJ8JfLSLL5x4uPs3ET3UtizIw3H5ITRhwKtyjBoeqqAj4OBi0osYtRbCDA1z6ysI1CPApR8YhGfgKIoDdLoPi1rThJMpCntC0vIogPtQ1BacNujqXJq7XdX3OX74H2T5DlGWDAn1rtPgum+ILuPaqt8W41TgMwou6oDQU3U4frdGt2JTaXY5fqvOHLiIiIiKydC0RYz7Qp08fXTuwtbU17O3tYWNjo3RTJCIiIiIiImoo2c1YtszKYPb27dtqrnGOjo4oK7t7lKXGqBHQEhEREREREbUEcwS0LffYHiIiIiIiIiIzYkBLREREREREFokBLREREREREVkkBrRERERERERkkR4ICgrioFBERERERETU4jjKMREREREREVkcjnJMRERERERE9y0GtERERERERGSRGNASERERERGRRWJAS0RERERERBaJAS0RERERERFZJAa0REREREREZJEY0BIREREREZFFYkBLREREREREFumBPn36/KLOExERkQWztbVFaGgoBg4ciO7duyt5ly9fxtmzZ3H06FFUVVUpeUREpixatEh3DjHl5MmT2L59u5oiajxHR0eUlZWpqaZp7+zs/Gd1nqhVtevnBKsHqnDnupphjJ0trPtZ4U5BtZpBRETSkCFD8OSTT+LGjRtwc3PD66+/jm+//VYJcGVeTEyMEtDKAJeIyJRJkyZh2bJlOHDgAEaPHq2br5328/NTJvmjGVFTyB9ib968qaaaxqDL8Up8mXwWZ7XTiUP48t0/IUItbayVO8/iy1VqopnZekdj9ouvYPny5Vi+ZD6mPOQGK7XsXoQ8sxyzh6sJA24xi7F6xWwEq+kW5z0Bi5fPRoia1Bk+G8ufuSv33sj3+t0EeKvJZuMViMH/9xHYqY0HnZY9i9Ff/d5gehae4aKgsj3c//gsfKM1y5mD/JyVY+euyUgdN4gV7F3dYF/HQeg9abHBe7yCxf81E9Hetmqp+Rkex7bOHnBuvrciolYig9lHHnkE//jHP9CxY0elxUQGr3LatWuXsowsk8vIZc3B1t7eLN+1zaVd77pPdu1617XlVqJMnW0Il86wdlHnW5z8rnFGmzyli7pvc/e02drX+l5upfqrs24aeey1EdrW2djYWOX/etl6I/qZxXhFuQZagvmPB8OtLZ9ILEBd8cr9xKCFNgbPLumD3PeW4c1P92Hf6SL0jnwWzz56Ext3nNQs0ggxc/+AXoXr8K84NaOZOIfPx0uTuqPwu93YsS8BZwvtMXjsVES6ZuHI2RJ1qabxHT4G7iUHcCJbzVBdyy1E8ZVUnCm4hjtqXovqGoTIh+yRf+AEstQshU8IxniU4cDxGrn3Rr5XoDVSjqTg3mrTNJsXJqJ3wX6c26dpnrWbFAnnrG1IfPsH5MSfFtMZlJy5jV9u3Ua5Y28Ej7dH1s5LMEd/+aKcdPz04ymcOpkPp0FeKNnzPnZ8K9MpuFBZhca3BXvh8d/NQt+8I0i5qmYZcB4UiWHtTuHtj3aL90hCXnVfRE4V+3vuO5yrUBcyI8PjeMScVxBuc/cxTUSWS/66PWfOHJSUlODatWtKwKoNYqXCwkKlRaW0tBTu7u4IDg7GDz/8gOrqpvV0cR4+Gy/OnYKwh4chMjIcgfb5OHGuWHwf2qNf6DB0LctBsckf2xu6XBP5BWLQO08hYMJD8J31EDo7pKDg+G1N2ZjRCN0wFX1jRNm0gfi55DTKMjRF1gumIfIvMegTEwrfqa6oOJOG64Wasrv4+cF//RwETx+MXpPC0H9qT1y/lIKKHFkYiOB9o3HnwzO4JpN2PeC7ZR769ruIS4cbeZKXPyovmo5Hw8MxOnoMokeGInRkOMKDHJH7fWfEvDQTAeXfIilfXb6ZtIt8BEPemoXBIytw/qsrdeZp6v4ZBE4IhpeoezevS43fZ3PrEoLZi5/DlLBhGBY+GuGB4vrpxDkU3xmMGc1Vfy7u6PX35zDid94o1x4HJupGHnsj/xwF73Fh4rjsiWs/puBa7WMv+lGM/OcUUf4wvJ8Sx9ycQNi0P4vC0+qxbWbynCFbYCXZAitbbGWenGQvD3kO0ZKtsw1rqfXAhMXzEVh+ANvENdC3P+bDPiQWUwZW4cjp3Na5pv4VqCtesRTmaKE1CGij8PRiX5Tv/j3WfJyGtKQE7LR5BM/H9MG1f+7Aj3KRQU/j1b+txh9/+ywmhbqhKjkBadouz54T8ae/vYHlC55CTH8r3OoZCdd8EdCW/Anvvvs8/LN24LByogd6vfQuPpvnj5Sdh3FvHZ/8ECtOCsU7/4qtx66gorICJfnncCzDCSFjB+JO/CnkysVsvTHi8YmIHj4Uft1v4sqFQlzT/tVYucEv5nFMHDkMD/p0RkVmDkrU73ivoaPhUqQeIFb98NisGPStOo/0dv0R9XBXFCbnQJ6KbL1HYMqEaIQM9YP77SvI0gW6tvAOm4KJ0SEYOsAdN/PSUXhDKbg3XfwxYnBH5NYOaL2GYrRrsT6gNbHfVr2CMW7cWHFB8iD62lUgI6dEF7jJFu/pU0TQJbe50gb9faAPaOuqr+4jMDPCGWU9ojB1tBdunjqHwlrLlpzLQZnRs5U7+rzoj2v/+RZXMzU5juL9O2V8jYtfVOHny3KSwaymDOkd4PzcAPz8ufiS0Obdg+qqCuXYqajsiIEj/HHn1G4k5si0Jpit8/M1un8eGDFjAgK7O8HZ3Qf9u93EqXM1v5Wc/UZgSMcs7BRBunzfwpwkVHuNwRCHc/hORrQmjkmrbn4YM3EiwuXn1qkEaRfLlG3xGz8XIR1O4VyBZjnDtPY4vjFoLh7p44wuXfugb5/OuCKP3wZ/RkTUVo0cORLp6ek4c+aMMi++19G3b18lsNVOsguyzD948CAqKirQq1cvXLhwQX2FRnCIxtxZrjj22hvYcuBbxB/Nh+fj0/Fg6bc4U9ATo2c+Bvds4z/m6TV0uaawhcdr09Bp79+Q+MdEZJ76Gb1eeBjVW1NwHZ4Y+GYIKv++DsdXiTIrbwyNdUPejmz87DUMwf/tgsz/fhs/rvsOl3xH4qGIa7iwu1h9XQMiQO33j0noHL8ZhxfH48JH3+FiO188uMgflTvP4sYtd3g846YJZOyc4PHGLPTM2YaElZfUF2iEknP4/ttvla7j6D8a1sdX4K8fivT358R38mUkHWr+YBZzpyFqWjuc/f4mejoXaoJXY3lC1+VPwfX0Rhz+3be4sLMYTr9/FJ3STqKs1Xq52yN67my4fr8Gb2w5gG8PHUG+1+OYHnAV3yb/2Ez154dBn0XB6j+ncGuIky6grbNubOSxZ4fz099D8vviWHIJxMPjfkbmrloRrY8PPB+8guOTtiJNHHPpJ9rB6/dDcHOrOObURczJMKCVwau2u7GcDINZLRnIzpo1S7eOccGIHG+NpHU7cUr2IKksFOeuAlS3u4bii8W4BSv0HjIO48eGYdigvuhckYEceQEke2JO8EFFUqauccUjfCam9L2GpMwSE9fhtXTxQ7S49o00cl1c4zVu5SK90Nh4A1ZwCxiDxyeE19y+ToGYMCscXXJSkCs/DDVm6Hn1DLLKRbKOa26PsJmIcLoC++FTMTY0AC5l55HTIRCPx47FI4F90C7/PC7LDVSuse2QaxeG6WMfETGFC8rSRV2o14Y145W6ryHbKjN3Oa7NHwuj/GGTm4J/yaTnPGx9/0+ItE7Bzo/3orDP03ht06tql+RpeHfbWkzzyMXej/fg4oPzMKanUgAcP4hym+EY84S2LbwXFj4aAZuKg2h8u28tvgHo9XMajv1Y65O6tANvrNiMRDkvDqppi2ci2DoDCQeP42rPWMyfFwFnZUFnRMybj9ieV8VmJiDDOhgzF09Dv9pdH8RrTHlxJvyvHUNcmjjAO3ugl6eH0k3FasA0vDgzGNYXEnDw5FX0njQfc0PtldU8xi+CKELawd1IKPPG9AUzxWmuhRjb79+MEKd2wXcKlvx2LDzKjouLmzRg2GwsGu+hWW3YXCx9WmzlObE/P1kh8lF/dFRKJGP1NUXTHVnWSfBETOtbjpzsHJSKP/qQp+WyBUj4+iDSOozA/OejNe9fm1dvODsUo0zXmu8Oe7dKcYExFkGbnkLw2nDZUKxXeQllpT3g9riabkZ1f7517V8FCnIuo6K6GhV5Oci5VKp5IZOsYGujPehM1LFVCGb/Nha9CxOwW3xu1iPmY/6jmhp16+kNj67KrKJ2Wiq9JD4XcfjeKBbblVMgtrQRnxERtVmyVeTEiRPIzMzUDf60Y8cOJXiVk5yXebJMLvPdd98p6zRJZ1t0vFOFG9qv3epz2PbqKmxNlt3eZsPf3h7+M5dj8SR51nIWea9g5QrZtXAlVv5hivL9etdyvtPwyivT9Le2hM/HK1M1KasB4vtqxUrN+ssXIrqHki0uPgPh10UzX1MV8v/6T6R8piZTi3D9jpXmYmdMf3QrP4H0vUoJsOV7XOzUD+7y/qHxvnBIPYq8VE3RzXUnUerrj1qnUY2nQuFdIC4e39Kf329+vBNn0z3h9bSaoeiMbm88iz5XdyBheROC2Xp5Y9orr2Car5iVdfhfszFziahrWV+LJuCxp5Zo6m3Vcswepp7Zu4jvlD/IulyufC6Lx/cT3wSSLbwH+6nXRrUk7EL8k1+jWFyY6xjLE9pZ2eJOldIeKb6rq40HFbKlcdMk9Nsmbyd6CaPfDUev155DxFe/R8w3L8B/ltoJeMxoDFdvO4r+z1PwGKbJbhx78f1ajSr9AYtzn7yKVR/LD9qg/pRbubS3Aq3E6tWrMT9ULu+M4BlLNMewrNffTdBdI9Z9DGbjpyXv4OzHaj2o6qyboh9x+o9fo7BSk7x9uRR32llrEqbkFOP6LfXYthgFqLzugcCpIfDQ9vW+moojR88pDUTesUsw/zEPXD0pzl0/iXPF04swQf7NZ15Cda8QDA9Q1hC8MWK4N6rzM01eh9fgIK5xXpgOP3ld/HUCCnrHYuHTIZrjv8cELJIX7D8dxO7Eq/CeKq7fde+l5xw+F/Mn9Va2L+GCNYJnvogp8vi5noSUcm9ET9K8nvekKRhqm40TF0XCxDW3bbdeGDp2MgYUH0NCth1CZr+EJdMDUHAiAWkQscfTE6EsKa+xAyfimWG3cVpcG6aJaGKmiEsC1WNRz8Q15D3w9vbGkiVLlEnONyavpdT6O3DA8JfUe2jPf4lF7ifx1v/5i1Iy/L+fxvDyvXhx2itY/8GbWBDzDlK6T8KiF0Th76dhuE0C3opZgDc/WI9XJq1Hgu4kl4A3j6Wj14PToYS0I/6A4V4XcerTBKX0nvRwhn15AdRGPaPsR0Uj8Foi3v34CFIzk7D7n9uR2TUMY+WBGjAWYV0zsf2fu5GUKf6gPn4XidcCET3K4A+hXT9MWDQd3he2Yu32c7W6n9ojUgT9hfvWY+vhVGSe2o3Nu3PgFhKhHIDeHs4oT4/H8cw8pH79Nta8+QnU70oz6I1I3clXnSL0N1/I/fYvisN67X6/+zVyuoUgQg5Yl/4F1v/P63j76yRxcZOIHScL4Nyzn1wL0SHeyIvX7s+XePuQ2qwuyfqyS8FmXX19iOM3AhGp/ZK5mYYv/vkl4vYlIU9sn4ebON+eOozUy5lI/GgtVm2KU05Yd+nrhI7lpTV+YbyeeQU3yzNwYcMh5N70xpC/PIVuuuuvIlRctUKHZo+8TH2+de1fBc4dPY3C27dRmByHuFN56mvV0tkT0VHRyvTYjIWI7JaD49+JZU3VcW8PuEIsdyQVeeJz27puFTZ/Y7RGjco7FYds8V1akSO2S/nyaMRnRERtlhyJVDt6sY2NjfK/7H4sg1c5yXlJWyaXbcjopUZd3o0vUl0xcfkrWDhjAkL89fcgJn74AVIqKpCydRXW7RTfzN284VEej7UrV2HVqlXYXSrOZQ8bWc6EERH+uPz5CrG+mHamwLar8u2KsU9Mw8RI4xdMd5Kv4Y4aHHRa/ig8csQ5WSa8XdDp+k2DIOsSKsV3ibUISuy6OeL2DYMWgsp8VFTZqsFeTXa9uuJ6odrF1kDxhWJx3emupgDHVc8g2O57HP9TtvHAzty6WSFjrajrlWtxvF0I+pVu1tTb13nwHiKjdiuETB4Lp5NrsUJ8HitWf4EicZH8mDwUvMdi2tSJMFqlqddwV6dWY3lC4Vs7cSt6AR7632kI/vdYOHz/NbJPqIWGPNqj5Dd/w/7x/4tzVo/Ao+gjxI//G/Z8dAkeI/ori3Sb/CBK35PL/A1x/0qDdS8nJb9x8rB7VwpcJy3HK4tmYsIwEbQbu2k280usE3Uij9O3vs1DxcU4bDsqamz4FIx1Pq45hsX0RVEQJsbUdwyKujFysVdn3VRW4Xay2hpo54I+k/uj+KQIfIzp4ALXRcHweOlRBG0aBdt9BzTHtsVIxdYNX+Ciiwgul63GylcWY/ZYP909tJk71+PVN9/G7lPi3PXDDhwvdIaHDBjFeglpt+E9SL0QDBiO/u0zcSrZ9HV4DeVH8MFf39BcF19ORVx8Gm506y2uhAQvDziXZSL+ZCbyUnbj7ddexyfJyloG/DB2hD1S3tdsX+rhrfjwxA0EhmlGW8ncuQNp3aIxPfQxTPArwcF/H9FcT9V5za1x48JBZdtT98UhTVwIX4z/AEdSxPXfh4nIcXYVYa2qQyG+3/SlPl6p9MMIw3hFqu86vYnk/dFbt25VJu290g3Naym1AtpyJLw+EAMDxBQ1E2+m+GDR+1sxT5T4uziiPC9ZhKda65F+2QYOvcRsdwfYFF7EJk2BsA0FBr/aXVyfgJSeg/HMCBEYPzEYbmnxePOIWngvSipR5eCmORjr4Opgj4r8DIOL9FRcKraFnfzZtasdbIsvGQSZFcjIr4C9g6uaFufckTMR4pyHIztrB7OSK5ztrND70aW6oHLpBG/YWndUvuATv00EBi/G8hVLsPCZifB31KxlHjk4qJ58dVO8PviU+23V+zEs1Qa7SyfC29YKHTvLUnv0CovFQmUgrZUiENb+2bvCvlMFSi7p97S6sEIfaMr6cgzEXO1rLl+EEFcrWOmbcA3qKBMHv81B94nLlRPWwhlhd59c6pSPvCXbcHZ1GspOXMKVl9/D6fQe8J7clC+ze2Hq872X/RNsndDbU5xI+wUjZEAVjvx9M+Jl1ztTdZx5EPHZ3TFl2Uq88uJCzBzRqHc04h73gYjuQ9U4t/0NrHrjIxzJBfpHL8LSJZqW17tcOYGvD5Wjf9RjmPbMbDzsLhYytpwJOYW30W+sON9NGgH/4kR8+aP8kTATO15bhle3mw6GrRc8heGDsvH9H1NbJqCswROePbJxsUMgeo1Rs5rbjQpoHgBQghu3gKprmh8y9N/j/vDxuIHK9kM1P6hGuMGqSgQM8oo5cwdeXfYqdpiu0nrZzQiH2/Vs5Ow6iqwzxbAJDoWrl1poqKoSN5QfHa7h1nWxjZVqy+WlSmh/VriWXwXPmc9g4LJAOF9MQvb2hvR4ulv1Tzvwxqo38NHRbGBANBa9vARTBhg/EGVr3/yR1YjfFK90bfXv4yGq1RpDlR+gI+HW/oYajDTsGDRUf93IFv2n4XFhG07/01h3VwM3ilGcXQ2nkUNgZ6fmWYqrJ7Bj4xtYsXwV1n55AtX9pmOhtgehCCpGTF6Ixa+I658VyxFp8LtbZsI53PAdjEAx7zfIGzdSDorrd9PX4TVZwe3BxzBzkdpzYbq/5j2l7w8iEUFYLPKXLJqNiYMc1AJDbrDr5IzA32ivz5ZjkRyE1kZ9p+pz2PFNDrzHjkB1wjYc0cVBdV1zq342jC5u43ZdT/oozkOKbtG74xVFA67Tm0J2Ca6toXktpe6eCtkJ2LTgC6TY+CNytppXQy+I+Eh+t2lY2YocLbVMK3sTTqb1gt+T0zD9QTekH9sE2Qp/z1IvocC+N4LULkg6DhGYv8xghNr2hhsj5uVea7dbzNcobS/+MRhp6Oqx9fjgjCui52m7KddWgZRPDILKlSuw7NVt4lQnT6LyF79lWPP3HThS5Iqxv5uPaGN/I82kInWrQcC7AivEl9W2dBGkj30G033LcXDreqyR+QcMWmGlWtVVw+WDYh39/q5YvgxvH1LLailJ+ACvLl+BNzbHIemBQMz+Q0O7XFvBOrhzjYPzRmUVrA3+UGp8pM2q7s+36fsnFCdh8+bN2Py/H+J4eW8EhrqpBUKddVyCxA9fxbKVb+DduCQgcDZemtHEboOqe9oHImoT5AAt2gsJ7X1I8n7ZPn36KJOcl7Rlctl7fXRPdUUOkg5/iQ/WrsHukkBEKt0zaxkizlGLouHToQJpR75EfHrj+39kbn8Va/51BNkiQIyYsxSLxzbwZ7cxj2LYOCD5z9+gUm2tRWYRrneyMfhu6QG7LtW4fRWovFIG646aFmyFnTvsbY0PClh5sRidXLupKb2ufbriWp72hsxspPzua5zZnIFuLxj2MGpb8pLikSiuC8zDD77Dy3D2+a9xZdclFK/ehjPpPeA1uWkXuZV/3oBvXj2KIvE59fvT7/Hwy/cwnHR1BXJOHcGXH67Dmm9KEBgxQi0w4DACc5/wRuanHyDR2AcvXU5C/Pfn1ERj1F83dqueQQAO4AdT3dNvFaHwrRPIE9PFl9/Dj/n+8H1KLWtG8pm0shu2sUmWNZitMzxctaOjV6Ek5Qi2vnUQBZ7+IlD1wGPPTEe/ioP4eP0a5XrroGFVXEpE2nVvBDzoh8HeN5B5TNsDru7rtBqGzMTcsI5I+3ozXpfXvltTxJoqEYx++fdVWLZmLXYcLYDro4t1t3TVlIeDawzfaxmWbYxXy6zgP6A3bpdXwK1foC5mqPeau6E62YvwXc++g3WNeEWnEdfpDSVbXOX90XLSjmrd0LyWUndAK/i/MBy+NheRLj6rTeKMZzNkGl4drSnr9dtXEdHzIlK/FokvUnGxZwRe/a0a0o7+EwZ7amY1LmLF/pNwG/EnRLimIH6lWcJZcQDGI+6kFYJnzURwNzXCsfUWfxCR8MhLw3GRzPzpIqwHRCJCvc9B3o8T0j0PmWdE4lQm8rqH6H+p6xKByAHWuJim/zOoulaAc//ZgTTHaMyfqr3XRCsTydnW6P9QsO6XIOfw2Vg4XabdMOKZhZj2oBWqSjKR9M1x5FTZw76FhvdX9tt3OIK1Gyb2bfaiaQjuJKqoU0fcuJKG1MIK8WVtixBf7QWCZn/8I7TBuxUCh/TX/4Kl1FcgorV1Le8tfl4E6UZ7fflhwu/mIlpcLFQUpuLInhRc7WQHo7ebxOWi3MEFDrpfGX0wQJzYfSeo7+MXiP5BQOEP2gsFeRFSiYqG/zDaRKY+X9P7V/2LNTo61DxajMvD7rhUdHxoAiLkjx2m6th/AhbPjYaz+GIuEF8CX5+9Clt7zTtW3xHb5uGnbKdVt2j419GbUC5n21l7mm3EZ0REbVZqaqryOB55z9KAAQOU587K7l7aEUnlvMyTZXIZuaxcp0mGzcXKVwzGmrDqAufO4tyiNAFW4Ybsh6qWeXi44va53dj69REkZd6GRzftt0nN5XDtBqo72qvdDp0R4a/9ThLfozOmIKgiCUd2bsX67wrg1lvTAa/u+xcFOZLxAhek//EjXDHczb1puOIQDF+1xbTdnIfR6/o55Mtun1+lo9wvFOI0quj0+yFwSk+BkSGhgI+OItNtFIIX6XsN2cyYhIG+2chSBh3R+FkG0nu/wQ/7rTD4lWFowF2RzSwFGXkdYffzccTtixPTcVTYieBCCd5M3EPbYNdws9IRdrofNzrDzk3eN1pPa6NRTnD9y2g4F2SgcPXX+H7fJXTtU7v1oiFCMHflK5ima5G1QhdncbFxs/Y2iePuqUhYHXkb237SR7MpF/LQ0f42jiv1FYfj1+SjfzTlJo/Bu5iuG7s/P4eHXb/Dt88nGe3KbZSdk+zshZ9NPbvfTOQtCvK5s8amRt2+0DUST734G/01jvg83CL84VZSKK64bGFvewOX01NRUCHq2DYEPjV+N8pD/Jmr6Dd2IrwrUhCnBLumrtNqsbeFVXk2jmeWiDOQFXoH9NZd37qFynUCYVVVgsxT4nPOqYK9fa3WT5xA5mUPBD6qfTSoFfrFzsf8KM1FsIwvHusrtvHND3G8YximhWv+muq+5m4ke28MNYhXQvqK6MogXlE06jq94eStK/K55nKS843Jaym1RjkegsCRi7F4sWZ6KrAaJz/4C17YlQX8kICbQdPw7KKXsWj+Iswb2QXpW17B7H+Jspw9yOo1Bc/N/YMoex6LoqvxY6otHEo26h/bk+iKyEWR6J76EWZ+ekzNvHclZ1NQ1n04xj4+HqPDwhE9KgjOhQfx4YdHUCL7GBWcRb79Ixg7ZSzCwyIRGWiPi7vfx44McRK5mYn0Kh9ET34c0WFhiHzEE7ePf4L3jsjHDxiMGnahGCln78B//EQMQRJOVPhghPjSkyP/nvspH44jJ2N6TDjCRo7GI56/4OyBL5FaVIGKTn6Inqi+dvhAWKV9iW1HruCeB+ZtyCjHcr8dR2LydLnfYRgt9u2X1P34MqUYxflW8H9sIiaGhyEsMhT2N0rhiCvKeoVif7qETcTjj4qyiDB0z0xDsTihZMpRjpX6GoBxM9R9igyCY8ERfBmfiyq5TWqdaDo5iX9dRyBGqXfx/iEeKDnyb3yeYewX+gq0E0F0V5tEFCjDaRej5LYbfBdMxMDpD6PfuD64dfgznN6krhs8BP2iKpGz6rw4KZmTM/xH+IurQ/3Im7I+jH++4jKnzv0rQVnnQYgcI8p6VuHbH5WxtnWUUY475epGo75zJQvtBoxBmGcJvjv+Hc7VVceiSt1CYzBFuy0eJfh22+fIFG+Zd60zBoeNxdjo0QjrX4ysUg90LNSMeGc4+l3e7e4IHzMJ0f42OPfDMVQ0+DMiorZKtrY++eSTcHV1RUJCghK0vvXWWzh58qRuevDBB3H48GFlFGQ5INQnn3zStMf2XMpCRa9IPDFZnLNGivNGeAi65u/Glq/FOUqcyyvtxcVUzHgM6ngOBxJvKt81Y4cEYlh0IDrK0ToLj4hzUc3ljp0+hzu9IvDY5GjxXemP8otl6PpLOo6k5sKq96N4PPZRDB48DDH9rXFq1zacLfLCxN8+jUccjT2ezwW+ayaih7h47TpqOLyfktNA3Ll0GmXZZSgqccSAP0xFP/Hd4iNi4/Ob/4Ni+die0ksodBiIob8fC+/pofB0y0HS/xw1/tieWxUoPlOOLrOfRPCzD8NzRhh8BlTi7P98hgKltdNglGORupOYjooxkzHo4Yu4eLDp59caI5kqDL6zUPM7uMay8vvZ+xqOHM9EbvYt+E16GlMi5ff/I/CpPou9h7NQ5T0R82c9AoesI6jziYcPDUJfd/2IxooaeWUouyO+u59/HP1nPAzvWQ/DIfdLnPi/hTW7fMvReh8Sx+0nGcr1kN34MDhcOYLLshVClvldQ/ZX2Wg3NAJDF4bB/bFA9A/ogMwPvsZV9RFLDZeLrHJPRE6ZgjHieA2LjERI18vY/dEu5N4wqL+Bs/Hc0K7o6DEEYeHhCBdTn9vf4lRCFm4NfBxPPx6p+d71voWze48g64a3iWNQy/A4MFE34aPx0NN90bFTL/RSjlcxxdjgyufZNYNbWTejA9FbeWzPcPhOewidcneL47RW/ZqJ4SjHhvO1NXQ5RcV55HZ4EGOnPo7RI0LF5xGNET3Ftc/Wf+NUeTHy2vtjrHySg7wmGW6Pa2WOwBX9MX+r0An+o/rjxomPcCRDczVd93VarVq5VAEncX07LVpe30ai/y9lqO54Xfmbyb3WEX5R4tp3tKZsoPVZfPnpEVypMfDuLWSmX8eAsU/plgtyLMSRr+KRe7sfpj4bDsRvxs7sYpwrdEH0+GGwSj6BUxfqvuaW14P+4q/3SKo8hmpfg3ph6GgXFMtrffk37CuCVJ+xmBhlIl45Z+I6Xb5kGyV7Dd3rKMcP9OnTp3GP8vQcjjFDbJD7ebz4CGqRZfKz+DrBSJfihfgs+Tnc/GsQZr6rZpmVfEC2PW4Xyl9ejLCyh5urFcovGyu3hXN3B1QXFkD+KNQkshtFxxvIK6n96mZ47Xsi378jbty137K+3GBVkYe7NlmwdRYB0Q3jZZp1u4i4rQH7ZLLe9doteAojB55G/O9qthq0C+gMyAE+1LRks/w5DLf7BvEv677Vm19dn28D96/x6q5jK3s3uFmVGznWmqjZ9oGIWop8NI9sed20aROmTp2qjGSs/YVcBrADBw5Unk07b9485YKzyS20Wsp5Q3y31Pvd1ojvizqJ7zFXa1QoLRzm0a63Fe7kGHs1K1FWLcrUZH1cOsNahCu3i9S0hZDfI/a3C+r4jjeD3rZol1NlhkDLCtYBVvpBk5pMc83TsapA0/rXWPJ4t7+NAnNUmNnqpnnJ7sSyBbb2fG0NXa4meW3aRXweV813XVXndXhN8vrWodr4cWCqzJD8++mCq404lkxfc9dLjmI+Fdj26jbkObvBuqIlzrstx9HREWVl2ufANo3JLsdGZSdgr7FgVpJlRoLZif9nA7bueQ5DribgnWYJZiXZbdLEwS+7adb5x1GFksv3+KFXldTxR2SG174n8v2N7besr7r/sKpKTP3RyXUbuE8m613vzoZvcKHTUPTSPt1JpYxWqc4rPPrDu38xUja0YDAr1fX5NnD/Gq/uOq4WJzKzBbNSs+0DEbUU2Qorg9gXXngBN27cwJQpU5RfveU0duxYZRlZZpZgVlLOGw35HmjE90WdxPeYGYNZyXgwKzUimJWKLC+YleT3iDm/Ru5itoCt2gzBrKS55mlSMCvJ491cFWYBwWzzk9emeea9rqrzOrwmeX1b13FgqsyQ/Ptp3LFk+pq7MaoaFKSa47xrWRrfQtsE015ai0ecL+LA22/iixaOQ4iIiO4XMoCVLbWyVVZ7b5vskiyDWBnwah/vQ0RkihzsqbGP95LnGnm7A5mZQz+MGAQkqc/r/bUxRwttiwS0RERERERERIZap8sxERERERERURvAgJaIiIiIiIgsEgNaIiIiIiIiskgMaImIiIiIiMgiMaAlIiIiIiIii8SAloiIiIiIiCwSA1oiIiIiIiKySLrn0GaOc1MyWpL3rgJ1joiIiIiIiO4n5ngOrS6gJSIiIiIiImop5gho2eWYiIiIiIiILBIDWiIiIiIiIrJIDGiJiIiIiIjIIjGgJSIiIiIiIovEgJaIiIiIiIgsEgNaIiIiIiIiskhGA9r27durc0RERERERERtU43n0Hbs2BF2dnawsrLCAw88oObeX0pLS9U5IroXv/zyC+7cuYPbt28r/zdEu3btYG1trfx/v56D6tLW67Mp20dERET3N7M+h1YGsw4ODsrFDy8kieheyfOI7O1hY2OjBFT1kcvIZeU6PAfdra3XZ2O3j4iIiMgcdFcdsmVWXowQEZmTDHTkD2X14Y9pDdPW67Oh20dERERkDkpAKwNZ2c2YiKg5NLRFkRqmrdcnP0siIiJqKcpVx88//8yWESJqNg05v/Ac1HBtvT75WRIREVFL4c/oREREREREZJEY0BIREREREZFFYkBLREREREREFokBLRERERER0X3E29sbo0ePVqY+ffqouZbpAbEDv8gZDw8PJeN+V1paqs4RkTldv35dnTOuU6dO6hw1RFuvz/q2j4iI6Ndk1KhRSnBoyv79+3HgwAE11fJsbW2V7QwNDcXly5eRmpqq5Mvgtnv37ti1axdOnjyp5LUUR0dHlJWVqammMWNA+994N248vNQUbhXjXNJX+OBPHyBBzWq47giO7AecP4QTuWrWgOGI7lqMuKPn1IzmYY6Aduj0JYjopSZQhZKLWTh+cA+SCqrVPMvm9dh8TPW3V1O3UZGfhaSDu5B4yXz75zJ6PuYPKcVXr3+CJDXPYnWNwNxneyBl7VYk1qii/pi0MAI/792OG5HzMbT8K7z2ifn3Vn5eY7AXb++2w/Qlk+B0ejPe3pevlrYcBrTmZY76TJ47XJ1rnIDN9Z/VGdASEdH9ZPXq1Vi1ahWqqqrUnJpkMLl8+XIsW7ZMzWl5ixYtUv7funUrSkpKlHktZ2dnzJw5Uwl0t2/fruY2vzYW0L6CLUciUPnRm9ieIZL2gzD+qfEYVPgxZs5/B5c1CzXQk1i3Zw7wXgwWf6JmLd2CIwHJGDHzVTWjeZgjoA2dswxDK7/CJ4eviJQtXIaMxriAKuz/21Yc/xXEtF4TF2OmSzI270pR0o4DYjDhERuc2vg29tf822g6Gy8EeFfip7NFsPwqs8Po5xbD6/w6bI6vVPME/6lY8ijw5d8+Q5ZnALxu/IS0ZvjRQ35ek7AT677IhcvAAbDLTEbWTbWwBbVoQGtlB0fbKpRV1lGfotyufSUqW6EezKWt/0DAgJaIiO4nMqBtzWC1PuPGjVO6Fr/11ltqzt1k0D1r1iyllbalWmrNEdC2F9H4n+WMvb22xa2pRmDKb7xQEf//Y/3OTGSmJmAPhmDGYz6wen8nHP+4EXMDOiBs7jI8F2qPHfuTgJ7ReO6VP+K/Zz+J8ZH90P7CEZwtisYr//s0hnp0hUvPUYgZIpbtNQ1bRvnBqUs3jIoOR7+uXpj04kz0z92DH/I07959/uvYOKM/zn3zAwo0WU1S168qjdE7aCQ8Ko9h/8lcVF4rRUH6ZdiJvN63j+KMjOyd+yPi0SiEPhSE/m63UJBTjOt3bBA49kkEdTiLjMI7YiF3hE6dBL9fziCjSL6qFyKmh8M9Pw25N2S69Tj1D8GDtjnYffSs2L9KFGcn4wHfRzHI4Tx+yOiBMVP64oEOQYiOfhD2V1KRe81KBFKRGBvzCAYP9Ebnyizklv0MeEZgeowXrqVkQfszgnvoVIzzvo6USneMHNIFRWdFHcoCEeCGjBuDcIuss1sodOiHKN+OOHUyS6Q0hkZPQI8rcdiVVgrXgSPxkHMRUnPF3lq5oP+osYh5ZDD8vDqjNCMXFXL3uoVg6pieuKqtkxppK/QIjMaY6JCadSzIz2sA0vB92lX0GhIN3/aiftqLdSeHY/CDD+JB7eTbGYXqa9t4hmB8TDiGDu4Pt9sFuFh0HXIT7sXt27fVOeOsra3VucaRAfvCGHdc/D4Npc6BmPT006JeQjEsZARGPuyHToVJyLiq2XortxA8MXcmHh/1CEIeGSnK+6HLtUykXZGRrTivLF6IqcGdcP5YhqaOBfkD1TNBd3D49EU1p21orvo0l/q2j4iI6NdEdjduze7E9ZkzZw7efvttk7FOdXU1Lly4oAS13377rZrbvGQQffPmvbUwNO+gUKW3dBfvXXt6Yfj0Oeh7/TzOZxeLnOF45bWliO1ZjENfxOGc1SNY9OY6PImryMrIQtGtWyjKVZctzML5QnF5eSMP58+fQ1ZSAio7BCN8XLDmxdEds0cOh01lApLVnLbFFrbaa0v7EMyZ9zj6W2XjeNxxFPWcgLnThopw5CauVDsjKDBIs1y3QAzu74VB/gGadJ9ABHpYo0RWXZtTjZu3tC1hLujeNxzjhtmi6GIuRBwEx9BZmBPTCyVJR3E82xqBTzyP8fLe8+zL+NljKIYO1KwpA4qHh3rh54IsoFM39OjVTdScYOWLSfOnIlDW2eEklHhMwJynQmBnQXVWeeQnXHL1wVDd70ZD0b/XNWQcE/sq2Lr1QA83ubdWGDptDiZ4FInj4ygyOjwsTkARYl8FwzqRDNJe4xdizqjuSh0fPS9efdpzGNNds5ghFw8vdO8iZq4XIffiJVxSp2pHL7jcKYL8HcCq7yQ8/0QgrLOP42hSCXrFzMGsh5UtaONE3Y2LQYBTEY5u2YzNmz7D8TInDB0v/t6U4qGYPnu0COiv4OhnonzLXiRXuiBg/NM168pZLDded/PEPXNyclLn7maqjIiIiCyXvFdVttqamuQyLUHeIyu7EtfuZmyMXEYuK++ptRRmD2htukYjeoycZmP1s8GwyzwJbS/sW8kfYdaSlVj59lfAnNl41P4E3npmGd757AO8+l9rkHAzGI++cAL/fvMEin++heJj6rK73sHKrHKgIgsrV/0V/z52Av9MykL3AeOhhLQP/RbBPS8jedcJ5X3aAmuXAESERyjTmGemIuCXn/D9j6KgIhEfb1iPzTsSkXYlDfEi+qhy7YGeoij/TBauiYBDhmN2AV5ofyELVT18lPuS3fv2gvXFn5Am5tuEdrZw7+auTF5DpiLU8xrOn1Hvy7QSwdh7n2H/oUSkV/RH9DA7/PTv97Ff7F9a4mf49+kq+A8fKhZMw/GM2/AaqIQbwMCh6NsuC2fOapJadiPCMeBqvKbOspOx/6M4XHQbitBuFlRn1d8j+aIL+ou6kKwe6o+eFedx/K6++D3h7gJcPJMgjo8sHP9sI974V7yutbAuWXs2Y93/auo46+QunCp2RHdvtdCYinQkHopHvJhOVXuhV/tk7PoqHdUidB4RPgBFhzbjs8Q0ZJ3Zjy0HLsIlOBTu6qptlwu6OlgBpeJccCkf+eLva++HG7FZHC/yZwO7EYHw6lCGJHEsxqeJchGw79y0H1nVjhgUqv4IIlRfvwnbwEmY1Fe81j2SAav8lbNbN3Gw1iLzZBmDWiIiol8f2WIr76mV3ZCNTbKsvkGkzMXLy0s3AFRDZGZmYuBAXYtTm2fmgNYOAVOXYukSOc2AZ+4OrFn+lvH7Z7vboYNjMP477gAOKNNqDO8KdGhgQ9Dlf53Eue4BmPIQEDwuAF0zE/DPY2phG9DeTrae9UAPEaQNdcrCZ2/vRLrSiGkFF//RiJ23CEuWvIyXHx+gaX2TLifj4u0e8OljhcBe9riUdBQX0Qv9u9nB39MWWWfbUPtzt6GY9fQsZZo0rD2SPnoHe3Uf9M+y0VblArtOjvCfuUTsr2Z6brALrDrYKKVZxzJQ5T1ICUj7D/RCVdqRuwJQFwc7WPUYjRfV9Ze8GAMvm/awlbcIWkydVeN4ai6c+svA0ApB/XuiKPUo7h6aKQuHEy7CPWYJXl48H3OnDEeDfh+z74GHx83F/MWifl76A0bcHT8ZJVtj5wwHEv6lPT5d4NjZCj0jXtR9Xi8+6gUba1t9y3CblY/EpEu46TYU8/+wBPN/MxWj+3VEyZUyyI4s8jjCzXxkGZ6Qqk8jqxCwceuhC9irMuJw5LItAh4bB997jGnlPfmffvopnnjiiRpBrZyXebKsNUdWl4NCNXTaO20w/muIbrQ7IiIiqoep7r3muM2RNMwc0FbixNujMCpaTjGYteQtxGlHKTbm8iHMVJZVp/ARmLVGLatP7sdIzuyOfhPHY/yArshK+riRA081r6qs/di6ZSu2bopHlo0PhvqrV8aBsZgVYouMuH/hH2+8htc++8mg9S0LP120Rq++I+DlfBlZKVlIutAeXoMeRi8nmVYXawsuH8Ebb7yhTOs2foL4bFN93/NxZK1mWWV6fTVWv39UU3T5OM5f98IA//4Y5FmFrFPGR9+tTNuuX1/W2+p12HlBllhQnZ1MQkanvgjs/jACehUh44TxdteyY59g3ZrXsH5LPFLaBWD6f03VdJmtkztGT38cvpVHsH3zWlG/r4mATC0yRXbBfXwAyg5/hqM1eqBU4qf/GH5er2H1up1KK2dbV3b0faxd9wn2njiPyg5eCJk4Fy/OCYWjWt4wZTj6+RFcsgnAuPG+al7TXblypUZQaxjMyrLWJEcrbuj0m91nMay7A14JMV93bCIiImp+WVlZ8PPzU1P1k8vm57f8EzGaqnnvoTVl33lc7h6ARVFq+1PPJ7Fu6xasmCoTt4CfO8C+q0HblBzfpqM99A+ZuIy/Hk1G14cWYXjXc0hY25bCWQPVx/HVyVJ4hY1TusHCriOsKnJxOlu2Glmhx8Be+hZaIS0tC7aDH0bPkiycFumsjEuwHzwULpfTlLTlSULWFXcERLiIvZWs4Dt+DuaEay+K83E0tQQ+UTHwqjyLeCMfY9b5S7DuE4xATaMu4ByK6fMmIVAdxNVy6iwZZzJtMeCJoehx+SccqVCza+iPMc/NRIRzNSqL05C4/yxKO9nBWRbdEX8Eti7wcpM1aYP+g73UY8cWdjZVyL+QhiI5qq/NUHi5KgUmOCJ0VgRc0rZjy/eGgbXmB4K+gwPFO2g4hk7H3Mf16VZnZQeXbu5wvGuDxHEWHoGh7vk4vm8ntm58A299XwSrHkMR5gkUlYv9tHGHl2GTt1WQUlc3Cy7VbC0vOYrPv7sEW/9YjKi3LutnGNS2lWC2oXrYa9rmL1VUYdm3GRjlKW/CJiIiotrkAEdtkexCLB/LI6f6aJdrTBfl1tZ6Ae2xlfjr5xUIXv6ppsvx1kXof+MkvvlMFu5A3LFieE0XZW9rnpeEjw4huVM4Xj/0KVaP0WRhUwLOtbdDh/MJeEfNaovK9u8VoUwAxox2BL4/gqSOI/CHlzRdQye73Kh5f2TKT8j62QqlF5M0vXZTsnC5nRWKLpzW9+K1KJWI374Xpf5zdfsc63MDyT/q2/sqT2SgyM4OJee/r1kXWmf/g/+kOCH6xZeVLrAv/3Y4nHJSkKJ9KogF1VnaqfOACBCyUr6vY9sykJFth6G/Vfd13mDcPLoHibIo+zCOZtkh9LmXsezlFzC8Ol+tryzEHy9D3ynqOv8VAOv6erE+PBkRPWxgN2g6Xtbez7F4kvKjS9oX/8EZx2i8KD+vJS/j+eFOyE1JUbrttgldQ/HkvLmYMy4Adnb9MbSPCOtvV6FKBPY+QaEYPTYGQz3l/d2izEven1qGkkviODuShKxbjgh8cg4i+otyz6GYNG80vKzKcObo3V3Ty45+hkMXRczbQc24R9qg1pKC2QFdO+O9sX66oJaIiIiM279/v/Kc2bZq165dynNm6yOXacujNRtjxufQNlV3BEf2A84fwglT3ZONmo2NcTNwc5PB82rvUUvdz2bj5A776iJNi9p9wsrOBU4ovYd9toFjN1tUqfdE/qrJVsiu7VHRmH1tyjqm2DjCvWMV8kvNU9vme26qFXwfnYvHH3LRtBrfLMLxnZux93w1rPqOwexJQ+Gubb2trkT6gffxyTHN883kY3tinwyHr716C8DNfCTHfYadSbJcPrZnJrwubMW6L9QfXKyGYubvx8CrMF7fTb6NaO7n0Mpg9u9R/fG7fWn4qfiaEtT+3zAfHLtchv89Vf/Jms+hJSKi+5kcxVg2GJjSkGXMKTY2Vhm9eOvWrXeNeCxbZWUwK8vls2rlSMctwRzPoW0DAW3TRL+wGuMfCkZwxxN46YllSFDz71VrDtBC9Gtm/gDMBnZ2P6PSyA8k8scTF6uKuoNxEfzbta9EpQX/MmKO+pSDPdUm75eVvpk+BB52+n7deaKy/nOuoEHBrMSAloiI7mdtMaCVhgwZgnHjxikB7dmzmkeLyBGNZUArW2Zl92T5FIYtW7a0SFB7Xwe04+evQLBjHr776B3TA081EgNaoubR3C2K95vmrs/aLbSNxYCWiIjuZzJYlY/mqWs0Y3m/reyi3NIBrZZsidU+mkcOAGV4z6wsa6mg9r4OaJsLA1qi5sGA1rxaoj61QW3s50mouCVH5ms4BrRERHQ/GzVqVL3PmZX33bbV+1W1Qe0//vGPZn3EEAPaZsCAlqh5MKA1r5aqT/sO7RsdzEoMaImIiCybbEVu7uflmiOgbb1RjomIqM1rSjBLRERElq+5g1lzYUBLREREREREFkkJaNu3b49fflF6HhMRmR3PL0RERETUHJSA9ueff0Z19f3zPFQiall37txR54iIiIiIzEfX5biyslIJbImIzEm2zt6+fVtN1Y2tuA3XkLpqzfrkZ0lEREQtRRfQ3rhxA+Xl5cqFJy9GiOheyfOI/JHs5s2bDWqhZStuw7X1+uRnSURERC1F99geIqLW1K5dO9jY2OCBBx5Qc8gY+UNBQ34kaK36bOj2EREREfGxPUT0qyEDIBkIyVZd9hK5W1NavFuyPhu7fURERETmwBZaIiIiIiIianFsoSUiIiIiIqL7FgNaIiIiIiIiskgMaImIiIiIiMgi3Tf30Pbq6azOERERERERUWN09+iNstKraqrh0s5dVOfuxntoiYiIiIiIqNndrLqB69crGz01Nwa0REREREREZJEY0BIREREREZFFug8D2mfw5/e24V1l+h9MV3OJiIiIiIjIsrSBgHYA/rD+XXzwwd/wh1A1qzk90gMuOV/hN89OE9Mf8YmaTURERERERJallQNaGcz+EQ8Wf48fm/9+YY3vLqFInSUiIiIiIiLL1aoBbciL80UwuwOz/79Dak5L+BB//ikAf56hJomIiIiIiMgitWpAm7j29yKY/UpNtaDsErgMeEZNEBERERERkSW6rwaFmr5SHQxqBrBlxYdqLhEREREREVmi+yqg/WSFHAhKTB8Ds1ayhZaIiIiIiMiS3VcBrY6nM4p+YgstERERERGRJXugT58+v6jzLS90Pjb89mF0UpNa10/9Dxas/UlNmUevns7q3DP480rgz+xyTERERERE1CBdurji6tVCNdVwF3NL1Lm7OTo6oqysTE01TesGtC1IF9A+shRvjbmERQxoiYiIiIiIGqStBrT3X5dj+Rza3uM1g0O99z+YrmYTERERERGRZbn/WmiJiIiIiIioUdhCS0RERERERGRGDGiJiIiIiIjIIt03XY779vPC+XNZaoqIiIiIiIgaysPDA3l5eWrKPNjlmIiIiIiIiO5bDGiJiIiIiIjIIjGgJSIiIiIiIovEgLa5RW3Bwu1b4I41mBW3F0Fq9q+S3Ne4U4iJUtP3TFtn8xCz3ZyvS0REREREvwatH9AGTMTixQvUaSYi3dR8sjx9XeGkzrZpzz6Pt7avUac/YU64mk9ERERERBaldQNatzDMGQ3sW7cB6+S0vwIPjgsDY1oLtWEMVkcPxp59arrZjcLq7XGI275azDVUJP4wvguO/30pFsWK6e+Z6Pe75zFGLSUiIiIiIsvRuo/tcXOFW0EhCtSkEuDOcMaxdV8gRc0yl7b32B7ZjfYJ5Ivgb9wUXyWnNHEN1i/fpJYtRbCDzE3HrtcKEfrycDjJ+egxOC1ygzZmYJyPLBfKE7A5dhby5fyCvVjocRIZftP066vrKGS3YOW1pHKceE0bgMr3XAjsS4HPFE25fnskw20SDN+zxmvWej+hzm1VuhQPQfIOfR1k7/DBlg3KbAPMx4a4qfAt/wFrYpfhgJprkmyd9U/DoiUH1QxvzHn/SeC9v+D9Q2oWERERERHVwMf2GGMYzApuA3vDMee82YPZtssX4wJPYnW0j5i2oSxkoXqf6CbsidXkZcMNoVOB7coyaqAogtZx2Kau54PNqf6Yu3GNLFE4hcQAG9SyRDeM05WJAHKB9rXktAcuLxve1+uAYPH+SvlrCUDIE7oy91UL4ZO6Rveeq0XQGbVqnqZw3yysV/Ll9tZSz7bWqIMd6fAUwbG7WlK/t7EgOhrRDQ1mhX7uXVBeLLZS6XYsuxtn4nKRPbp6qwsQEREREZHFaDODQrmFz8SMoArs+/ysmnM/SMeu55eq80uxLxHwCVeDRAMZn2lbNDWCAn2RnaRdD8g/lIJS1166QLA0cb2u22/+8j3I9hmiCUwXDIGnw3DMjcvAMmWaBk8RMLvrBlsqx4kN6nvti0dGub4sP69ABMpLlfVkUCyD2C261tu61betNepgw0lkO7g2IqAlIiIiIqL7WZsIaP0nL8AM7xx83AxdjS1fgdIt2Wwy9K2lmqmB97wq98fK5degKEoTEC/UttBakHP5V+HQ1RN4byMWxcpuxt7o7lKB4kx1ASIiIiIishitHtDKYPahq59h3XuHa3Q/vj/4IkC2dirWICpExJuH6m/1PJ2UDs9Afbdd93B/OBVe1LXiOvlF6Fo53VfFwDPjpKarsmwB9YkxePxNwx8l5L5qb83u0DvS4eSqvTG2bvVt671pwqBQ76XhQp/h+pGNw4ehn/1VXOb9s0REREREFqd1B4WSj+wZ3UNN6OXu34DtyWrCTNrqoFAuhb7wVONC44NC6RkOmGRyUKhA8b+Pr/FBmuobFGqDsfQ8BC2IQMCU4fCURQqD163xmlr68noHhdJtX+10fZowKJQU/iT+8rtAaKq3Asf/zgGhiIiIiIhMaauDQrVuQNuC2uwox7ENDd4aSBnl+FOD0YmJiIiIiIjuDUc5JiIiIiIiIjIjttASERERERGRSWyhJSIiIiIiIjIjBrRERERERERkke6bgJbdjYmIiIiIiH5d2EJLREREREREFokBLREREREREVkkBrRERERERERkke6rgHb+xjjExWmmDQvUTCIiIiIiIrJIrf8c2oCJWDy6h5oox48fb8XBAjXZTEat+hxP5E3Ggg1qBhEREREREdWJz6E1xi0Mc0YD+9ZtwDo57a/Ag+PC4KYWExEREREREdWldQPagsN4f90XSFGTitIiNGsDbdRqPIF/sHWWiIiIiIjIwrWBe2hdEfnsAixeLKa+57Hu87NqfvMYFe4Hd3WeiIiIiIiILFfr30NrSN5P+1AJPn7vcLO20sp7aJeG2Im5dHwWvQBva7KJiIiIiIjICN5D2xDJ55Hr4AxXNdkcZDD7Av6B6OhoMTGYJSIiIiIislStGtD6T16AxZMHqikhoC96lpegUE02hwOHUpGvzhMREREREZHlavUux27hMzEjyEFNXcK+2oNENQM+toeIiIiIiKjh2mqX47Z1D20LYUBLRERERETUcLyHtg2YvzEOcXFx6oBQREREREREZMnuyxZaIiIiIiIiaji20BIRERERERGZEQNaIiIiIiIiskgMaImIiIiIiMgiMaAlIiIiIiIii8SAloiIiIiIiCwQ8P8AqexeRj5MvloAAAAASUVORK5CYII=)"
      ],
      "metadata": {
        "id": "kPFQZaVnrMVy"
      }
    },
    {
      "cell_type": "markdown",
      "source": [
        "## 5- Encapsular o modelo em um contêiner"
      ],
      "metadata": {
        "id": "y9sjT5s0oD6q"
      }
    },
    {
      "cell_type": "markdown",
      "source": [
        "### Preparação do arquivo requirements.txt"
      ],
      "metadata": {
        "id": "FwlJXQFsr0W0"
      }
    },
    {
      "cell_type": "markdown",
      "source": [
        "Nesse momento, é importante salvar em um arquivo as blibliotecas necessárias para que a API execute corretamente.\n",
        "Para isso, acessar o Terminal ou CMD, salvando o resultado em um arquivo **requirements.txt**.\n",
        "```\n",
        "pip freeze\n",
        "```\n",
        "\n"
      ],
      "metadata": {
        "id": "GMUhHDa4r-NE"
      }
    },
    {
      "cell_type": "markdown",
      "source": [
        "Obs.: Esse arquivo deve ser salvo na mesma pasta onde está o arquivo **api_parte1.py**."
      ],
      "metadata": {
        "id": "Nm-0IKposoFa"
      }
    },
    {
      "cell_type": "markdown",
      "source": [
        "### Preparação do arquivo Dockerfile"
      ],
      "metadata": {
        "id": "ShBEwE0ks8bk"
      }
    },
    {
      "cell_type": "markdown",
      "source": [
        "Salvar um arquivo Dockerfile (sem extensão) o código a seguir:\n",
        "```\n",
        "FROM python:3.10\n",
        "LABEL maintainer=\"Ana Paula Lavieri\"\n",
        "LABEL version=\"1.0\"\n",
        "\n",
        "RUN apt-get update\n",
        "RUN apt-get install nano\n",
        "\n",
        "RUN mkdir -p /myServer\n",
        "\n",
        "COPY . /myServer\n",
        "\n",
        "WORKDIR /myServer\n",
        "\n",
        "RUN pip install --upgrade pip\n",
        "RUN pip install -r /myServer/requirements.txt\n",
        "\n",
        "EXPOSE 8080\n",
        "\n",
        "CMD [ \"python\", \"api_parte1.py\" ]\n",
        "```\n",
        "\n"
      ],
      "metadata": {
        "id": "gdM5HkuBtBaW"
      }
    },
    {
      "cell_type": "markdown",
      "source": [
        "Nesse arquivo estamos preparando a instalação dos componentes necessários para colocar a API em um container.\n",
        "\n",
        "Basicamente estamos:\n",
        "- Instalando alguns componentes necessários do Docker\n",
        "- Copiando os arquivos de nossa solução para a pasta de trabalho\n",
        "- Instalando as bibliotecas definidas no arquivo requirements.txt\n",
        "- Expondo o container na porta 8080\n",
        "- Executando a API api_parte1.py quando o container for chamado"
      ],
      "metadata": {
        "id": "sRFYBGeXtU4y"
      }
    },
    {
      "cell_type": "markdown",
      "source": [
        "Obs.: Explicamos melhor, de forma global, a preparação dos containers em uma máquina virtual, no arquivo **MLOPS_Trabalho_Integrado.ipynb**."
      ],
      "metadata": {
        "id": "dsq_llxBuYZR"
      }
    },
    {
      "cell_type": "markdown",
      "source": [
        "Abaixo, organização dos arquivos em pastas:\n",
        "\n",
        "- root->\n",
        "  - Parte_1->\n",
        "    - api->\n",
        "      - config->\n",
        "        - logReg_model.pkl\n",
        "      - api_parte1.py\n",
        "      - requirements.txt\n",
        "    - dockerbuilds->\n",
        "      - Dockerfile\n"
      ],
      "metadata": {
        "id": "P5PxOs72u19b"
      }
    },
    {
      "cell_type": "markdown",
      "source": [
        "### Evidência do teste de execução do modelo em Container"
      ],
      "metadata": {
        "id": "Yz2aol7swJuh"
      }
    },
    {
      "cell_type": "markdown",
      "source": [
        "Observações:\n",
        "- A máquina virtual já está preparada\n",
        "- As imagens do Docker já estão OK\n",
        "- Os a solução já foi instalada na imagem\n",
        "- O container já está montado\n",
        "\n",
        "Para acessar a máquina virtual, utilizamos o comando, informando a senha quando foi solicitada:\n",
        "```\n",
        "ssh vm-grupo-mlops@52.226.67.177\n",
        "```\n",
        "\n"
      ],
      "metadata": {
        "id": "3ZDUB76bwPCE"
      }
    },
    {
      "cell_type": "markdown",
      "source": [
        "Conferindo a montagem dos containers (o deste modelo é o parte1_api)\n",
        "\n",
        "```\n",
        "sudo docker ps\n",
        "```"
      ],
      "metadata": {
        "id": "CzeSqTrFw89W"
      }
    },
    {
      "cell_type": "markdown",
      "source": [
        "![image.png](data:image/png;base64,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)"
      ],
      "metadata": {
        "id": "wIHz7apTxSPs"
      }
    },
    {
      "cell_type": "markdown",
      "source": [
        "Executando um GET simples, apenas para conferir se o serviço está OK\n",
        "```\n",
        "curl http://172.19.0.2:8080/\n",
        "```\n",
        "\n"
      ],
      "metadata": {
        "id": "N_1AqwlcxSuc"
      }
    },
    {
      "cell_type": "markdown",
      "source": [
        "![image.png](data:image/png;base64,iVBORw0KGgoAAAANSUhEUgAAAdsAAAA0CAYAAADCH5LXAAAAAXNSR0IArs4c6QAAAARnQU1BAACxjwv8YQUAAAAJcEhZcwAADsMAAA7DAcdvqGQAABdSSURBVHhe7Z0PbBTVvse/GJ5/IEq7lNstsQRf66OVQIpgLBZ4LYn2agLWeI14VW7L8z6IclNA9DbvGawab0BAqIJ6E2QrPm+sPkMtMYKGtk/kz40gTQi0zWuFAJEiZduC8nrVuO/8m9nZ2fm3s7ulyO+THNg5Z+ec3zkzPd/5/c7szIhwOByBEz1NeKpkF8r3bsb8IM/oRdPSO7Gr/O/YPC8Lh1/Pw5aJ0c+/69yAv2+aj1Ps877Z3XiqiO3Sthl5W3JZfi4a8n4HfCTze3c8hTtPPIHuP03jFV8x/PLLL/jggw9w//3344YbblC53ti3bx/uuusuteWN3t5ezJo1C5988gny8vJUbpTt27dj06ZN2L17t8pJDeL47CoXxzNL5SXD119/jRdeeEH0gZ13qK+vVyWSCxcu4LHHHkNubi66u7vR1NSEa6+9VpV6Z8WKFXj88ccxbVrsebVy5Uo88sgjmD59utguKytDS0uL+OyHuXPnorm5WW05E4lEMGLECLXlgwutqP3LIFas/i1uUlk64Z2o2Xg9/uPF0viyBODHe92FRzH/n1XGP2XjX4pyMfDRKrx66WGsmHYK+776B3LvLkfpxGRaIoirj2vU/y7sxPKSPDFJ5uXdieXYgBeYuHKmzV6BncvuFGX7Jm7Abz89hVM8/0//DTyo9nnwGDY8l5oJezhwzTXXYMGCBQkLrV+ysrLw+uuvC3F/9913MTg4KPLPnz+P559/HuvWrcPWrVtFXirJmrcZ3SkSWs7tt9+Ojz/+GOvXr9f7cPToUaxZswbff/89rrvuOmRkZGDz5s3YuXOnL6G14qeffsLLL78sLpJOnz6NUCgk8pMSv6HmplL827+2YtHSt3H4gspjXGh7G0/9sRWl/56c0HJuuuPJqNAybgiOw//t4EL7ODZUTUNe0Xw8/seHSGgJwgfuni2RUvx4thrcw33zzTdFHVwoRo0ahfvuuw8LFy7EyJEj1bdSR6o9W41vvvlG2Pzaa6/hpZdeEhcuhw4dQnFxMdauXYv9+/erb/rDyrN9++238dxzzyE7OxsfffSRuAhMxDO1Ykg9W40ff8SP7CJEvwwxb6eQH//nL1j+zf1MaCenpX6CuJogsR1ikhHbXxPnzp3DO++8g6lTp+Kee+4RnvvYsWPx4IMPCg83Gd544w18+umnagt48sknce+99wqPds6cOUJoOW1tbSgq4usc/pg3b5765I0dO3aoTwRBXG2Q2A4xJLYEQRBXHx7XbAmCIAiC8At5tgRBEASRZsizJQiCIIg0Q2JLEARBEGmGxJYgCIIg0gyJLUEQBEGkGf4re7pBiiAIgiDSCHm2BEEQBJFmSGwJgiAIIs2Q2BIEQRBEmiGxJQiCIIg0Q2KbMCPxwJEZeOWkTDUNqX/bjhU5Dbfqbb7SPFrlEjol72NF6Avckau2CWdC7Yi0y1cNXi5C7RHxNiSevJsSQnukDy3VanM4Ud2Cvkg7s9ACpzJi+JOC40dimzA/Y/uUg3h2Qju6VU664UK7fOYgGibwdtuwf1yhFPn1uTGCrwmy3FYXBUfGIkeUmlg0FjWaeBvqMOeLZBR31aae7OofUspxR8UkoKMJX/GXKfPttYeZ+BrT++Dv+slc+IUp/zDml/B9rMtE+vNK+QUh6Ib8tZuQKUvsUftULiwXm1obclvZaVdP7iZUGtrT6jDni6TZyHGyk4ssF7jKAqCgEpG+Flwu3aoqHIERI5ahtV9lpIRqtPTZibdTWfJUVxQBrW+hSm0biS+TtvBj0We8ctCOjynpNotJX8tP5KLDpj1OTJuJ1MkvfLT9EhhXv30wj01Mgw62+N3PgNOx9QqJ7bBnNObPHIPuD0/hkNhmYv/ZWQRuGyO2OPwzF7zx46J5jnBBrb0F2N/GxJsJeO1xYGZRjJce1so+PAvkK3Hn+z2UHS3jacp5nFH7XDZy52FyFtD15TqVoeh4D69WTVNpgeHi6CL2rJL5oZaLyH9CCm7ftjnyu1s6xbe6tqh917B6ucA9MQnhlhpVH0vPLEWf+KY7gSnzhOAFcm6UGW7w9l5kRmntrdoLlK2OCi5Dt4XbW/CoLHOyk09ylUG0LhuB+g42PPVM7DLLUCdqI5IjhCWlQFuj1Wiay/gEvxHBRosLjapC8d7jaKpHB/rR08YLmWDWFqGNHT9etqwVKK31crHk0J7hnBDtLWtD0UYvHhwX70qAn0PKTlR6Ec4k+iCa09pjfQlWqPacbPG7nxGnY+sdW7Gd3sw9l1xMV9tGT4mX1TTnKg8oF4vFdz2GVM2eEU+sTq1+Xkc0ZHorHljEipS3pdev6li8Plq2mNljrE/3tkztebExlf3T90nQTq0sp2E88gaOownR8sU3X0J4zCjk3Hw9MHCWiUgAxYtGY0Y++9wlq3MipzzA9jiLzx/+WWZsHUDngBTtOJ4OC5EKjLsOmDyK7WdN0ueLuvr0fHVsIO/3JQj07sUepkeJ0retCXzI8mcZPEMrJmTZ9t2JzLzxQG8na2Mq8nNXYnIB+8yEzo3MsqmsvU7s2bZLZpzagaO9UrTj2HtQ9CGQMyUBO7UJ3DvGsG9ED6nxidw4QcVu833aQzzPvF+SVES9Fc1Tq27pY9sbUZrBnXatPWmLU5m0mdll9IDMJ6Lb+RkqRkFHI8ostdZcVoVCNrkXenCTqlsqDPvWoSwzU6+nrrEN/RlBuL+R2aG9oiAyjLbVNaKtP4iJ+vG0IbQEpWjFW1qdvI/IQFGF244e+mA51m3o6S9ApZbJ28/owQlej6Mtfvcz4HRsE8BWbA8dZh4NsjGDCxpn0RhMYnNx92fnxWYgH/hchFKzkXmuDRv2D8gJ2ZHRWGzwjPg+YJN+A/OONAK33YL5OM7Ked1jMPMxb+uTecweEWZlXlp4zC34A5/IzZ4Y89ICzIMTIu2Cr/55aM/STjUu6GqX+/GkPEburYaPDaL4nmzm3XJ7BvDdaV4TE1rBJXx3bgx+U349MrvCOMhy3OwUHvDAJXyrtrm3fPIc+48JeBzrAyL82n34Bya8Z8APGe+T8YKAk57zZSXmq1BoTKh37Sa5wWGe3OwCNnSNFl4m8/a0UKrRI4zlCM4wEUPWRLlpx94Q9nCxY95lXGjWlV7Wxo3IKZuIQMdBHGU5QhgdEB5wby/CahvYhbCwk7nwZkpmgA2v9Oyd7KwrQy33JDZGUFmgJhyPcNGsDLZime4hFHoOqRVUFuOA2q++owAVUWX2SQZKi3qkLcI1WiIEvK4sk7UhvTfhtYs25cTuVCZhE3KFqpN7kwWa9+MF5iFVMO9Qn7WNOJW5IT0qu315aDOj40BSoU209aC/oDh6ASTEKANBFwWvnhgEek6IqIi4kGFjV88GN8NtRxPe+8BFmp0/qJQXQ+JYyXPQ2Ra/+2kkc/xisQ8jq4k1b5oUO80bOvi02GR/2WEV1mTewWnlIY1TAuDDm9QZM4iDwuP6AX/lojOXTfIeCO8/I+3ZOigmXT6RS5uZ17ZL2ae8NK1PjnY69c8G1/YYVnYC/8B3/Lojv1DYYRTnCeNY+0xYJ41hIsv+j5vgzw1iOxO6vJm3oI8LYorQBVVdPPxVHHfTejW7WFiuRR+SOV84KnxmvPrOXDgf+TwUvGovAirUK+g9oT5EPcCjMV7tLnz1jAqhssRDxYGy/0zy5imtzveEF4msElQZb8gyrZPGiDuz96svO5FfVoKwOdSdBLqgqrBxkxgDZzul6PDQJBMXPvl4WrMNobigH621/kLO/Ya1Lr5Om5msi8C8ct2WuhPogQdPzBVj/6pwoMMkOBbnp47wkNpgHUF2KHMh1qs1wby/jaVMHLy4x06IC7CgPBd4Ku5hFyTeox78ImxjsFEsRyQYKLHvg+VY85Avu+BjssnL6ntKsdEUJbG2xe9+iiSOnxmHNVu5Noj8AKZjJIpvYx6WJhRuPH0q6qGxtFoLVzIBPchmAG0iXx6zFqmI8bjSjK2dQ40mYm1SsB7i4i9F7Dd6ZHcQJ7lLZPhfX6M9eol5QEyMRb5HmBc7Xn3kIV8u6nzsNYzrsvHjoi6E+HoumAdbzi9SkjhfbODeXfjMEeDUUtRvYWLFBLeqDNjzN02wVmJ2GftOS0iKvw193fyMYp7lBLkdyxTkcGfRIODOrEOTtk7K6pxcpkR17wJd3HmqV+FffY32JPdSL+LMSbnpCebFRkPC5QgIO7l7KzGuy2rtRbGxk1M9EcF+7qUyT49NJUuMMw+RMKHiAnQ0Wl+IOJU5Ut2CWjuvlodZxVKj9+iCE/ICTHn7hScQ1MKsDtSd6OEhC1T0LGP7SCuKghno967SifWhugJFGR26MFcV8ihFAYrZuetoi9/9FL6PnwXON0gJzywbMxp4SNDgsfll0VjcnT+A/bVRgZMekwvKC5SMxAP3ZKvP8Yg1TvY/D3ueOT3IPmliwDCGRNNAIu0Z7YwiRVeG181cjwnlas2Ur50ahBFbz2P1hP/F9q3At+fYvi4e+KH/Os4m/mzcrXny63PArnv0kK9XxJoxQ/dUkzlfLNZputcYREQXsznqjmPl+RrXNW3ImzWJ/WstdHl/fpTVcdEg4N4Qa7GMcLdz2zr8gkHZHj5z0TVs3f23vewYTcJszUMuqcJsfhNY41K57RFLO/k6nQifFbGJVeU5Ij29UltVjnqBofZK5jNfTurA59CgpavrVGaACV1FQQcOGFXA4vwU8O8GDet+RpzKXAgtKY1dS1WIcKeTSCk74+449gT3AisRNN91a1Vn1QFx45Z+05AYM8M2x8YWr32IG+uYCIbh3HW1xed+SRw/K5zFlnkwTWzi5yHKQNe3YjJPCiYKn3eNwczaaOhWvwnKEWmH9IiLMOnY8ThPJtZbViLOPFexNmgIieplvhmNxcLuQiGWWt0i9OuhPUs79Tpl4mXh/cfFeIvw8ml+AxMbt5lsEu7KxsO8Xq/CKEK90bqFnVyc1XqyyPc6Lqawe2wfOCk+XxwpR/4U5jV2HLTwaqNrvTzdX9CJjw0izT292S/aldlgChNXMY+a360sQ7dJIkK90bpFuFx588ZQsaf2nOxUk5j+sx8543m6UUd4BEG17iWSFoqrwlut/aw6mV/RUy/WRd2R4T3zTUvxE2ziVL0lFqaVnbF3l9qXsYuJjdKGyEZ+t6w3j4uLIpudLT0f+7LYvmcoe/S+q0k/3qvla7hcKdQSgEruwurUnlYmy4ONXsP8VSgUdy6rfcWYGdfA7fDZh7oyZNb3RI8RO3eDrcvUuetgi9/9GE7H1i/8rT9Dk9bnRpi4Rpi4qrzRESYykVeaR8d+L5G0aGykhtVR0zDSuny4JJ92Tm9Ocnx+rank/ciK0BeRO3Ityig5JuZZ8JttLcuuzhSKtEf6Imy+tyhzSNUtbK/2CNOsxMooDf+UhuPn4tmmFi3sqLPI4oYfIgZxl2/++BjvP2eR4UauqxURVvbgkRJx8HUpIgVwr8kuFOpURgx/0nD8hlRszzx8HPt5OFQLI9fycGO75zuOr0pEaBoxofc/2P2KhSA8wO8I9hI6JggiddDL4wmCIAgizQypZ0sQBEEQVyMktgRBEASRZkhsCYIgCCLNkNj+2qmWr7Py9yP3y4H5wfbDheFqlxtWdjv1xW8ZQRBOOIgt/8PSfggsU2ombPkj6lT8eD1K9IfZKRMVJVJ6/y/jez8JP6TjPCMIgvCHi2fbb3jPoXzyyvCbvPhFgc27Gn3D6hRPE1F95+lKfe+n+L1YKh7+ThAEQfjFexhZvOcw+lxR8XxLg+dn9Cjt3mEp97F7pyRnC47p+7A6m708V9HDuyFtn7VpA39Qu/pojb2djn03ecf8u9FxS7xON/h+Wn1xfTd77h4Hx9kW+z44nS+sVkN90Wfrxo+Z9Fbdoheu55mp796jIT04UaQeechTzJj5OXd5v43nv2nb8Rg5tWc9ngRBXF7iHislk+kRZuLxVXaPNOPfjT7aik3IjNhtNqGp71ZH2IRp8bi4pyO7+/oiu5fbbbslWW+0HUOSBiX0iDo2YYt9jP2QydlO+76bHwln3PZbp/Z9p2Q93ryORMZDS/a2OPchNhnPF/7ZaItxXExjltAj1GzOs7jz2Ny+XZLfY52NMC1U296On30y9c+0bX+MnNoz98fchl1esmWUKFFySZaZLMk/2iimPzI56xqIlkcnYMP39WQzCS7fzWqI59hW0/dsk4PYJpO0fmqTrIudTn3nAq6XyZlUfk6iTvdkPd76xYRmg8dka4vb8dPGUUedL7JCJWA8xU7oxjGLGT/XZHOeGcddJW/jGy80sir22fe5a64zvu8C8zFyas9lPGXiY2N30eK3jBIlSk7J+5rtCOMbHUJoryxAR71Wxl9GnQL6m7FS1BdNt7m+ESjNiBcZm9776dPOusY2oKhChEXFexKN7/Aa4r7r77A8UCzDjam4Acy2D/7PFzFmpUtYDdWoKOIv4Rima89pOH6Oxyip9upQlmn33Fe/ZQRBOOHvpz9iTTP6Nv/qlooE1oVs3im54TjOZMzFc57WuhIk0TXbOAzvQEzGzroyNPYUoaI6hGLjexLT2Xc3xMUEE7+MIOtlEjj1wel8aetBfwYfE77B12RNa4x8zDoKUNy+BKU98e/3tMfmPOPtFVTErIvGvYfTC2I/9c7TpI6fh3fBmo+RU3tu48lRa8GWfw9+ywiCcMXS5WV/+hbhp2ji0Sqd9pZIS1/0u65hObFupmFoIy48diyyxbxvXJLhQjMivKd9Rxkbk+eUYjonidnXwU7XvtvZkkydlslpXOLLvI6Noy0ufdAxnS96uJTRHuK2mc47uzFzS3bnWYwxXuvlfw9GTDb6Ondj+97XEjL03eUYObTnOp5qXCz77beMEiVKjoleREAMf3hkQrznnEKYBEFcmfgLIxPEkFGNlooC9Le+RUJLEMQVyxXh2bZHIjZrwv3gN24Rv05C7RFU8gPfUY8R9AJWgiCuYCiMTBAEQRBphsLIBEEQBJFmSGwJgiAIIs2Q2BIEQRBEmqE124QZiQeOFGHmGLkV3t+G1Q//LDfSSE7DrViuNdrVjmfn/iA/E5KS97HiifHYs2oOvjql8gh7+M+pig/QjWcEMUSQ2PpmNBafLETmEIitFNpBNEw4hUNK7CcdY+2ezsErD2Xrgq8JstyGvCjAcWyYch5nVF06i8aipvYWBNSmftFgyhcYxX19rmhTZ8Cm/iGlHHesXY3Zve/h1TXrottZslTSiY+rFiC88AtUld2o8iRdW6ahaS+QaVEm6FD1CkGfpDIZvXsRemYp+tSmJWqfcEsN6rft0tuQ25B2wqae3E2ofLEkeoxUHeZ8gWYjx8lO8Ztlw739/a1YdqW+PpIgriAojDzsGY35TEC7P+RCy/kZ2z87i8Btystl8M857P/x46J5jihBBRPYZyccxLO1x4GZRahpGKm+IMVXlH14FsgvlGV8PyXuooynyy60jNx5mMyEtetLJTYaXICqpqm0AN0qG7jIPGCZH2q5iPwnDmN+CdC3bY787pZO8S0uwmKbixgXOCWaep1uQmsgMGUe+I/UAjkWYm6FElRo7a1iVwNlq1G5sFx9QYqvbm/Bo7LMyU7+uMXKoHjeeX0H/0XViCv3Pc0EcYVhK7bTm2fglZO5mK62ZfiU5R0ZK8pqmnNRc1J+Z7H4LsszTNa2cM9I7GdIrE6tfl4H99Bk2a14gD9cnU/ybFuvX9WxeH20bDGzx1gfFx+BqT0vNqayf/o+CdqpleU0jEce8x6bEC1ffPMlhMeMQs7N1zPP8iwTkQCKF43GjHz2uUtW50ROeYDtcRafax751gF0DkjRjuPpsBCpwLjrgMmjYr0pA0mfL0k8vzrv98zLY97bHqZHidK3rQl8yPJnrZQZdkzIsu27E5l545ln2cnamIr83JWYXMA+e3gLQ2bZVNZeJ/ZwT5ZzageO9krRjmPvQdGHQM6UBOyMPquaIIh0A/w/EzNnFheMTtIAAAAASUVORK5CYII=)"
      ],
      "metadata": {
        "id": "EqA2Ti7CxoYJ"
      }
    },
    {
      "cell_type": "markdown",
      "source": [
        "Executando o modelo propriamente dito\n",
        "```\n",
        "curl -X POST -H \"Content-Type: application/json\" -d '{\"model\":\"parte1_api\",\"features\": [{\"loan_limit\": \"cf\",\"approv_in_adv\": \"nopre\",\"loan_type\": \"type3\",\"loan_purpose\": \"p4\",\"Credit_Worthiness\": \"l1\",\"Interest_rate_spread\": 0.39,\"Neg_ammortization\": \"not_neg\",\"interest_only\": \"not_int\",\"lump_sum_payment\": \"lpsm\",\"occupancy_type\": \"ir\",\"total_units\": \"1U\",\"credit_type\": \"CRIF\",\"co_applicant_credit_type\": \"EXP\",\"age\": \"25-34\",\"submission_of_application\": \"to_inst\",\"Region\": \"North\"}]}' http://172.19.0.2:8080/predict\n",
        "```"
      ],
      "metadata": {
        "id": "5rjglC6eyHDP"
      }
    },
    {
      "cell_type": "markdown",
      "source": [
        "![image.png](data:image/png;base64,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)"
      ],
      "metadata": {
        "id": "-mtlIKbUyOBu"
      }
    }
  ]
}